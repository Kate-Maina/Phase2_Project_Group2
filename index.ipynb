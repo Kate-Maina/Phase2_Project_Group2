{
 "cells": [
  {
   "cell_type": "markdown",
   "id": "7df39aa2",
   "metadata": {},
   "source": [
    "## Data Exploration"
   ]
  },
  {
   "cell_type": "markdown",
   "id": "0d721d29",
   "metadata": {},
   "source": [
    "#### *Importing the Data*\n"
   ]
  },
  {
   "cell_type": "markdown",
   "id": "5ff9167f",
   "metadata": {},
   "source": [
    "It's essential that we conduct a comprehensive examination of all our datasets and database tables. The data sources we are working with include:"
   ]
  },
  {
   "cell_type": "markdown",
   "id": "e7dc1da7",
   "metadata": {},
   "source": [
    "- IMDB\n",
    "\n",
    "- TheMovieDB\n",
    "\n",
    "- Rotten Tomatoes Movies\n",
    "\n",
    "- Rotten Tomatoes Critic Reviews\n",
    "\n",
    "- Box Office Mojo\n",
    "\n",
    "- The Numbers\n",
    "\n",
    "- im.db (SQLite database)"
   ]
  },
  {
   "cell_type": "markdown",
   "id": "7e9e9b6d",
   "metadata": {},
   "source": [
    "Data exploration helps us understand the structure, quality, and patterns within the data. By examining things like missing values, duplicates, and relationships between variables, we can detect potential issues early. This allows us to plan effective cleaning and transformation steps, laying a solid foundation for accurate and meaningful analysis. \n",
    "\n",
    "Below are the steps followed:\n"
   ]
  },
  {
   "cell_type": "code",
   "execution_count": 584,
   "id": "7c14839f",
   "metadata": {},
   "outputs": [],
   "source": [
    "# Import necessary libraries\n",
    "import pandas as pd\n",
    "import numpy as np\n",
    "import sqlite3\n",
    "import matplotlib.pyplot as plt\n",
    "import seaborn as sns"
   ]
  },
  {
   "cell_type": "code",
   "execution_count": 585,
   "id": "db9744c4",
   "metadata": {},
   "outputs": [
    {
     "data": {
      "application/vnd.microsoft.datawrangler.viewer.v0+json": {
       "columns": [
        {
         "name": "index",
         "rawType": "int64",
         "type": "integer"
        },
        {
         "name": "name",
         "rawType": "object",
         "type": "string"
        }
       ],
       "ref": "9d764d3c-ca64-46ee-8978-577133996664",
       "rows": [
        [
         "0",
         "movie_basics"
        ],
        [
         "1",
         "directors"
        ],
        [
         "2",
         "known_for"
        ],
        [
         "3",
         "movie_akas"
        ],
        [
         "4",
         "movie_ratings"
        ],
        [
         "5",
         "persons"
        ],
        [
         "6",
         "principals"
        ],
        [
         "7",
         "writers"
        ]
       ],
       "shape": {
        "columns": 1,
        "rows": 8
       }
      },
      "text/html": [
       "<div>\n",
       "<style scoped>\n",
       "    .dataframe tbody tr th:only-of-type {\n",
       "        vertical-align: middle;\n",
       "    }\n",
       "\n",
       "    .dataframe tbody tr th {\n",
       "        vertical-align: top;\n",
       "    }\n",
       "\n",
       "    .dataframe thead th {\n",
       "        text-align: right;\n",
       "    }\n",
       "</style>\n",
       "<table border=\"1\" class=\"dataframe\">\n",
       "  <thead>\n",
       "    <tr style=\"text-align: right;\">\n",
       "      <th></th>\n",
       "      <th>name</th>\n",
       "    </tr>\n",
       "  </thead>\n",
       "  <tbody>\n",
       "    <tr>\n",
       "      <th>0</th>\n",
       "      <td>movie_basics</td>\n",
       "    </tr>\n",
       "    <tr>\n",
       "      <th>1</th>\n",
       "      <td>directors</td>\n",
       "    </tr>\n",
       "    <tr>\n",
       "      <th>2</th>\n",
       "      <td>known_for</td>\n",
       "    </tr>\n",
       "    <tr>\n",
       "      <th>3</th>\n",
       "      <td>movie_akas</td>\n",
       "    </tr>\n",
       "    <tr>\n",
       "      <th>4</th>\n",
       "      <td>movie_ratings</td>\n",
       "    </tr>\n",
       "    <tr>\n",
       "      <th>5</th>\n",
       "      <td>persons</td>\n",
       "    </tr>\n",
       "    <tr>\n",
       "      <th>6</th>\n",
       "      <td>principals</td>\n",
       "    </tr>\n",
       "    <tr>\n",
       "      <th>7</th>\n",
       "      <td>writers</td>\n",
       "    </tr>\n",
       "  </tbody>\n",
       "</table>\n",
       "</div>"
      ],
      "text/plain": [
       "            name\n",
       "0   movie_basics\n",
       "1      directors\n",
       "2      known_for\n",
       "3     movie_akas\n",
       "4  movie_ratings\n",
       "5        persons\n",
       "6     principals\n",
       "7        writers"
      ]
     },
     "execution_count": 585,
     "metadata": {},
     "output_type": "execute_result"
    }
   ],
   "source": [
    "# Establish a connection to the database\n",
    "conn = sqlite3.connect('Data/im.db')\n",
    "\n",
    "# Check available tables (optional, good for understanding structure)\n",
    "pd.read_sql_query(\"SELECT name FROM sqlite_master WHERE type='table';\", conn)"
   ]
  },
  {
   "cell_type": "code",
   "execution_count": 586,
   "id": "0b535449",
   "metadata": {},
   "outputs": [],
   "source": [
    "# Close connection\n",
    "conn.close()"
   ]
  },
  {
   "cell_type": "code",
   "execution_count": 587,
   "id": "e67b3bcf",
   "metadata": {},
   "outputs": [
    {
     "data": {
      "application/vnd.microsoft.datawrangler.viewer.v0+json": {
       "columns": [
        {
         "name": "index",
         "rawType": "int64",
         "type": "integer"
        },
        {
         "name": "title",
         "rawType": "object",
         "type": "string"
        },
        {
         "name": "studio",
         "rawType": "object",
         "type": "string"
        },
        {
         "name": "domestic_gross",
         "rawType": "float64",
         "type": "float"
        },
        {
         "name": "foreign_gross",
         "rawType": "object",
         "type": "string"
        },
        {
         "name": "year",
         "rawType": "int64",
         "type": "integer"
        }
       ],
       "ref": "4d44e793-fe16-4495-9e6b-a6665efb9349",
       "rows": [
        [
         "0",
         "Toy Story 3",
         "BV",
         "415000000.0",
         "652000000",
         "2010"
        ],
        [
         "1",
         "Alice in Wonderland (2010)",
         "BV",
         "334200000.0",
         "691300000",
         "2010"
        ],
        [
         "2",
         "Harry Potter and the Deathly Hallows Part 1",
         "WB",
         "296000000.0",
         "664300000",
         "2010"
        ],
        [
         "3",
         "Inception",
         "WB",
         "292600000.0",
         "535700000",
         "2010"
        ],
        [
         "4",
         "Shrek Forever After",
         "P/DW",
         "238700000.0",
         "513900000",
         "2010"
        ]
       ],
       "shape": {
        "columns": 5,
        "rows": 5
       }
      },
      "text/html": [
       "<div>\n",
       "<style scoped>\n",
       "    .dataframe tbody tr th:only-of-type {\n",
       "        vertical-align: middle;\n",
       "    }\n",
       "\n",
       "    .dataframe tbody tr th {\n",
       "        vertical-align: top;\n",
       "    }\n",
       "\n",
       "    .dataframe thead th {\n",
       "        text-align: right;\n",
       "    }\n",
       "</style>\n",
       "<table border=\"1\" class=\"dataframe\">\n",
       "  <thead>\n",
       "    <tr style=\"text-align: right;\">\n",
       "      <th></th>\n",
       "      <th>title</th>\n",
       "      <th>studio</th>\n",
       "      <th>domestic_gross</th>\n",
       "      <th>foreign_gross</th>\n",
       "      <th>year</th>\n",
       "    </tr>\n",
       "  </thead>\n",
       "  <tbody>\n",
       "    <tr>\n",
       "      <th>0</th>\n",
       "      <td>Toy Story 3</td>\n",
       "      <td>BV</td>\n",
       "      <td>415000000.0</td>\n",
       "      <td>652000000</td>\n",
       "      <td>2010</td>\n",
       "    </tr>\n",
       "    <tr>\n",
       "      <th>1</th>\n",
       "      <td>Alice in Wonderland (2010)</td>\n",
       "      <td>BV</td>\n",
       "      <td>334200000.0</td>\n",
       "      <td>691300000</td>\n",
       "      <td>2010</td>\n",
       "    </tr>\n",
       "    <tr>\n",
       "      <th>2</th>\n",
       "      <td>Harry Potter and the Deathly Hallows Part 1</td>\n",
       "      <td>WB</td>\n",
       "      <td>296000000.0</td>\n",
       "      <td>664300000</td>\n",
       "      <td>2010</td>\n",
       "    </tr>\n",
       "    <tr>\n",
       "      <th>3</th>\n",
       "      <td>Inception</td>\n",
       "      <td>WB</td>\n",
       "      <td>292600000.0</td>\n",
       "      <td>535700000</td>\n",
       "      <td>2010</td>\n",
       "    </tr>\n",
       "    <tr>\n",
       "      <th>4</th>\n",
       "      <td>Shrek Forever After</td>\n",
       "      <td>P/DW</td>\n",
       "      <td>238700000.0</td>\n",
       "      <td>513900000</td>\n",
       "      <td>2010</td>\n",
       "    </tr>\n",
       "  </tbody>\n",
       "</table>\n",
       "</div>"
      ],
      "text/plain": [
       "                                         title studio  domestic_gross  \\\n",
       "0                                  Toy Story 3     BV     415000000.0   \n",
       "1                   Alice in Wonderland (2010)     BV     334200000.0   \n",
       "2  Harry Potter and the Deathly Hallows Part 1     WB     296000000.0   \n",
       "3                                    Inception     WB     292600000.0   \n",
       "4                          Shrek Forever After   P/DW     238700000.0   \n",
       "\n",
       "  foreign_gross  year  \n",
       "0     652000000  2010  \n",
       "1     691300000  2010  \n",
       "2     664300000  2010  \n",
       "3     535700000  2010  \n",
       "4     513900000  2010  "
      ]
     },
     "execution_count": 587,
     "metadata": {},
     "output_type": "execute_result"
    }
   ],
   "source": [
    "bom_df = pd.read_csv('Data/bom.movie_gross.csv.gz')\n",
    "bom_df.head()"
   ]
  },
  {
   "cell_type": "code",
   "execution_count": 588,
   "id": "3235cf43",
   "metadata": {},
   "outputs": [
    {
     "data": {
      "application/vnd.microsoft.datawrangler.viewer.v0+json": {
       "columns": [
        {
         "name": "index",
         "rawType": "int64",
         "type": "integer"
        },
        {
         "name": "rotten_tomatoes_link",
         "rawType": "object",
         "type": "string"
        },
        {
         "name": "critic_name",
         "rawType": "object",
         "type": "unknown"
        },
        {
         "name": "top_critic",
         "rawType": "bool",
         "type": "boolean"
        },
        {
         "name": "publisher_name",
         "rawType": "object",
         "type": "string"
        },
        {
         "name": "review_type",
         "rawType": "object",
         "type": "string"
        },
        {
         "name": "review_score",
         "rawType": "object",
         "type": "unknown"
        },
        {
         "name": "review_date",
         "rawType": "object",
         "type": "string"
        },
        {
         "name": "review_content",
         "rawType": "object",
         "type": "string"
        }
       ],
       "ref": "3bea0ddc-3153-419f-a6dc-a1247a912ad7",
       "rows": [
        [
         "0",
         "m/0814255",
         "Andrew L. Urban",
         "False",
         "Urban Cinefile",
         "Fresh",
         null,
         "2010-02-06",
         "A fantasy adventure that fuses Greek mythology to contemporary American places and values. Anyone around 15 (give or take a couple of years) will thrill to the visual spectacle"
        ],
        [
         "1",
         "m/0814255",
         "Louise Keller",
         "False",
         "Urban Cinefile",
         "Fresh",
         null,
         "2010-02-06",
         "Uma Thurman as Medusa, the gorgon with a coiffure of writhing snakes and stone-inducing hypnotic gaze is one of the highlights of this bewitching fantasy"
        ],
        [
         "2",
         "m/0814255",
         null,
         "False",
         "FILMINK (Australia)",
         "Fresh",
         null,
         "2010-02-09",
         "With a top-notch cast and dazzling special effects, this will tide the teens over until the next Harry Potter instalment."
        ],
        [
         "3",
         "m/0814255",
         "Ben McEachen",
         "False",
         "Sunday Mail (Australia)",
         "Fresh",
         "3.5/5",
         "2010-02-09",
         "Whether audiences will get behind The Lightning Thief is hard to predict. Overall, it's an entertaining introduction to a promising new world -- but will the consuming shadow of Potter be too big to break free of?"
        ],
        [
         "4",
         "m/0814255",
         "Ethan Alter",
         "True",
         "Hollywood Reporter",
         "Rotten",
         null,
         "2010-02-10",
         "What's really lacking in The Lightning Thief is a genuine sense of wonder, the same thing that brings viewers back to Hogwarts over and over again."
        ]
       ],
       "shape": {
        "columns": 8,
        "rows": 5
       }
      },
      "text/html": [
       "<div>\n",
       "<style scoped>\n",
       "    .dataframe tbody tr th:only-of-type {\n",
       "        vertical-align: middle;\n",
       "    }\n",
       "\n",
       "    .dataframe tbody tr th {\n",
       "        vertical-align: top;\n",
       "    }\n",
       "\n",
       "    .dataframe thead th {\n",
       "        text-align: right;\n",
       "    }\n",
       "</style>\n",
       "<table border=\"1\" class=\"dataframe\">\n",
       "  <thead>\n",
       "    <tr style=\"text-align: right;\">\n",
       "      <th></th>\n",
       "      <th>rotten_tomatoes_link</th>\n",
       "      <th>critic_name</th>\n",
       "      <th>top_critic</th>\n",
       "      <th>publisher_name</th>\n",
       "      <th>review_type</th>\n",
       "      <th>review_score</th>\n",
       "      <th>review_date</th>\n",
       "      <th>review_content</th>\n",
       "    </tr>\n",
       "  </thead>\n",
       "  <tbody>\n",
       "    <tr>\n",
       "      <th>0</th>\n",
       "      <td>m/0814255</td>\n",
       "      <td>Andrew L. Urban</td>\n",
       "      <td>False</td>\n",
       "      <td>Urban Cinefile</td>\n",
       "      <td>Fresh</td>\n",
       "      <td>NaN</td>\n",
       "      <td>2010-02-06</td>\n",
       "      <td>A fantasy adventure that fuses Greek mythology...</td>\n",
       "    </tr>\n",
       "    <tr>\n",
       "      <th>1</th>\n",
       "      <td>m/0814255</td>\n",
       "      <td>Louise Keller</td>\n",
       "      <td>False</td>\n",
       "      <td>Urban Cinefile</td>\n",
       "      <td>Fresh</td>\n",
       "      <td>NaN</td>\n",
       "      <td>2010-02-06</td>\n",
       "      <td>Uma Thurman as Medusa, the gorgon with a coiff...</td>\n",
       "    </tr>\n",
       "    <tr>\n",
       "      <th>2</th>\n",
       "      <td>m/0814255</td>\n",
       "      <td>NaN</td>\n",
       "      <td>False</td>\n",
       "      <td>FILMINK (Australia)</td>\n",
       "      <td>Fresh</td>\n",
       "      <td>NaN</td>\n",
       "      <td>2010-02-09</td>\n",
       "      <td>With a top-notch cast and dazzling special eff...</td>\n",
       "    </tr>\n",
       "    <tr>\n",
       "      <th>3</th>\n",
       "      <td>m/0814255</td>\n",
       "      <td>Ben McEachen</td>\n",
       "      <td>False</td>\n",
       "      <td>Sunday Mail (Australia)</td>\n",
       "      <td>Fresh</td>\n",
       "      <td>3.5/5</td>\n",
       "      <td>2010-02-09</td>\n",
       "      <td>Whether audiences will get behind The Lightnin...</td>\n",
       "    </tr>\n",
       "    <tr>\n",
       "      <th>4</th>\n",
       "      <td>m/0814255</td>\n",
       "      <td>Ethan Alter</td>\n",
       "      <td>True</td>\n",
       "      <td>Hollywood Reporter</td>\n",
       "      <td>Rotten</td>\n",
       "      <td>NaN</td>\n",
       "      <td>2010-02-10</td>\n",
       "      <td>What's really lacking in The Lightning Thief i...</td>\n",
       "    </tr>\n",
       "  </tbody>\n",
       "</table>\n",
       "</div>"
      ],
      "text/plain": [
       "  rotten_tomatoes_link      critic_name  top_critic           publisher_name  \\\n",
       "0            m/0814255  Andrew L. Urban       False           Urban Cinefile   \n",
       "1            m/0814255    Louise Keller       False           Urban Cinefile   \n",
       "2            m/0814255              NaN       False      FILMINK (Australia)   \n",
       "3            m/0814255     Ben McEachen       False  Sunday Mail (Australia)   \n",
       "4            m/0814255      Ethan Alter        True       Hollywood Reporter   \n",
       "\n",
       "  review_type review_score review_date  \\\n",
       "0       Fresh          NaN  2010-02-06   \n",
       "1       Fresh          NaN  2010-02-06   \n",
       "2       Fresh          NaN  2010-02-09   \n",
       "3       Fresh        3.5/5  2010-02-09   \n",
       "4      Rotten          NaN  2010-02-10   \n",
       "\n",
       "                                      review_content  \n",
       "0  A fantasy adventure that fuses Greek mythology...  \n",
       "1  Uma Thurman as Medusa, the gorgon with a coiff...  \n",
       "2  With a top-notch cast and dazzling special eff...  \n",
       "3  Whether audiences will get behind The Lightnin...  \n",
       "4  What's really lacking in The Lightning Thief i...  "
      ]
     },
     "execution_count": 588,
     "metadata": {},
     "output_type": "execute_result"
    }
   ],
   "source": [
    "rt_rev_df = pd.read_csv('Data\\\\rotten_tomatoes_critic_reviews.csv')\n",
    "rt_rev_df.head()"
   ]
  },
  {
   "cell_type": "code",
   "execution_count": 589,
   "id": "87133801",
   "metadata": {},
   "outputs": [
    {
     "data": {
      "application/vnd.microsoft.datawrangler.viewer.v0+json": {
       "columns": [
        {
         "name": "index",
         "rawType": "int64",
         "type": "integer"
        },
        {
         "name": "rotten_tomatoes_link",
         "rawType": "object",
         "type": "string"
        },
        {
         "name": "movie_title",
         "rawType": "object",
         "type": "string"
        },
        {
         "name": "movie_info",
         "rawType": "object",
         "type": "string"
        },
        {
         "name": "critics_consensus",
         "rawType": "object",
         "type": "string"
        },
        {
         "name": "content_rating",
         "rawType": "object",
         "type": "string"
        },
        {
         "name": "genres",
         "rawType": "object",
         "type": "string"
        },
        {
         "name": "directors",
         "rawType": "object",
         "type": "string"
        },
        {
         "name": "authors",
         "rawType": "object",
         "type": "string"
        },
        {
         "name": "actors",
         "rawType": "object",
         "type": "string"
        },
        {
         "name": "original_release_date",
         "rawType": "object",
         "type": "string"
        },
        {
         "name": "streaming_release_date",
         "rawType": "object",
         "type": "string"
        },
        {
         "name": "runtime",
         "rawType": "float64",
         "type": "float"
        },
        {
         "name": "production_company",
         "rawType": "object",
         "type": "string"
        },
        {
         "name": "tomatometer_status",
         "rawType": "object",
         "type": "string"
        },
        {
         "name": "tomatometer_rating",
         "rawType": "float64",
         "type": "float"
        },
        {
         "name": "tomatometer_count",
         "rawType": "float64",
         "type": "float"
        },
        {
         "name": "audience_status",
         "rawType": "object",
         "type": "string"
        },
        {
         "name": "audience_rating",
         "rawType": "float64",
         "type": "float"
        },
        {
         "name": "audience_count",
         "rawType": "float64",
         "type": "float"
        },
        {
         "name": "tomatometer_top_critics_count",
         "rawType": "int64",
         "type": "integer"
        },
        {
         "name": "tomatometer_fresh_critics_count",
         "rawType": "int64",
         "type": "integer"
        },
        {
         "name": "tomatometer_rotten_critics_count",
         "rawType": "int64",
         "type": "integer"
        }
       ],
       "ref": "0934a935-eda0-4c17-9851-8bae01f44f45",
       "rows": [
        [
         "0",
         "m/0814255",
         "Percy Jackson & the Olympians: The Lightning Thief",
         "Always trouble-prone, the life of teenager Percy Jackson (Logan Lerman) gets a lot more complicated when he learns he's the son of the Greek god Poseidon. At a training ground for the children of deities, Percy learns to harness his divine powers and prepare for the adventure of a lifetime: he must prevent a feud among the Olympians from erupting into a devastating war on Earth, and rescue his mother from the clutches of Hades, god of the underworld.",
         "Though it may seem like just another Harry Potter knockoff, Percy Jackson benefits from a strong supporting cast, a speedy plot, and plenty of fun with Greek mythology.",
         "PG",
         "Action & Adventure, Comedy, Drama, Science Fiction & Fantasy",
         "Chris Columbus",
         "Craig Titley, Chris Columbus, Rick Riordan",
         "Logan Lerman, Brandon T. Jackson, Alexandra Daddario, Jake Abel, Sean Bean, Pierce Brosnan, Steve Coogan, Rosario Dawson, Melina Kanakaredes, Catherine Keener, Kevin Mckidd, Joe Pantoliano, Uma Thurman, Ray Winstone, Julian Richings, Bonita Friedericy, Annie Ilonzeh, Tania Saulnier, Marie Avgeropoulos, Luisa D'Oliveira, Christie Laing, Marielle Jaffe, Elisa King, Chrystal Tisiga, Alexis Knapp, Charlie Gallant, Chelan Simmons, Andrea Brooks, Natassia Malthe, Max Van Ville, Serinda Swan, Dimitri Lekkos, Ona Grauer, Stefanie von Pfetten, Conrad Coates, Erica Cerra, Dylan Neal, Luke Camilleri, Holly Hougham, Ina Geraldine, Raquel Riskin, Yusleidis Oquendo, Janine Edwards, Valerie Tian, Violet Columbus, Sarah Smyth, Merritt Patterson, Julie Luck, Andrea Day, John Stewart, Suzanne Ristic, Deejay Jackson, Matthew Garrick, Stan Carp, Suzanna Ristic, Richard Harmon, Maria Olsen, Robin Lemon, Doyle Devereux, Tom Pickett, VJ Delos-Reyes, Tim Aas, Keith Dallas, Spencer Atkinson, Maya Washington, Loyd Bateman, Victor Ayala, Zane Holtz, Eli Zagoudakis, Matt Reimer, Rob Hayter, Lloyd Bateman, Shawn Beaton, Jarod Joseph, Reilly Dolman, Paul Cummings, Julie Brar, Dejan Loyola, Damian Arman, Mario Casoria, Dorla Bell, Carolyn Adair (II), Jade Pawluk, G. Patrick Currie, Darian Arman, Mariela Zapata, David L. Smith",
         "2010-02-12",
         "2015-11-25",
         "119.0",
         "20th Century Fox",
         "Rotten",
         "49.0",
         "149.0",
         "Spilled",
         "53.0",
         "254421.0",
         "43",
         "73",
         "76"
        ],
        [
         "1",
         "m/0878835",
         "Please Give",
         "Kate (Catherine Keener) and her husband Alex (Oliver Platt) are wealthy New Yorkers who prowl estate sales and make a tidy profit reselling items they bought cheaply. They buy the apartment next door and plan to remodel just as soon as its current occupant, a cranky old woman, dies. Kate is troubled by the way she and her husband earn a living, and tries to assuage her guilt by befriending her tenant and the woman's granddaughters, but her overtures lead to unexpected consequences.",
         "Nicole Holofcener's newest might seem slight in places, but its rendering of complex characters in a conflicted economic landscape is varied, natural, and touching all the same.",
         "R",
         "Comedy",
         "Nicole Holofcener",
         "Nicole Holofcener",
         "Catherine Keener, Amanda Peet, Oliver Platt, Rebecca Hall, Sarah Steele, Ann Morgan Guilbert, Kevin Corrigan, Lois Smith",
         "2010-04-30",
         "2012-09-04",
         "90.0",
         "Sony Pictures Classics",
         "Certified-Fresh",
         "87.0",
         "142.0",
         "Upright",
         "64.0",
         "11574.0",
         "44",
         "123",
         "19"
        ],
        [
         "2",
         "m/10",
         "10",
         "A successful, middle-aged Hollywood songwriter falls hopelessly in love with the woman of his dreams, and even follows the girl and her new husband to their Mexican honeymoon resort. While his behavior seems sure to land him in trouble, out of the blue fate plays into his hands.",
         "Blake Edwards' bawdy comedy may not score a perfect 10, but Dudley Moore's self-deprecating performance makes this midlife crisis persistently funny.",
         "R",
         "Comedy, Romance",
         "Blake Edwards",
         "Blake Edwards",
         "Dudley Moore, Bo Derek, Julie Andrews, Robert Webber, Dee Wallace, Sam Jones III, Sam J. Jones, Brian Dennehy, Max Showalter, Rad Daly, Nedra Volz, James Noble, Virginia Kiser, John Hawker, Deborah Rush, Don Calfa, Walter George Alton, Annette Martin, John Hancock, Lorry Goldman, Arthur Rosenberg, Mari Gorman, Marcy Hanson, Julia Jennings, Senilo Tanney, Kitty DeCarlo, William Lucking, Owen Sullivan, Debbie White, Laurence Carr, Camila Ashland, Adrian Aron, Gail Bowman, Burke Byrnes, Michael Champion, Doug Sheehan, J. Victor Lopez, Gregory Chase, Jon Linton, Ellen Clark, Antonia Ellis, John Chappell, Lynn Farrell, Art Kassul, Denise Crosby, Jeanetta Arnette",
         "1979-10-05",
         "2014-07-24",
         "122.0",
         "Waner Bros.",
         "Fresh",
         "67.0",
         "24.0",
         "Spilled",
         "53.0",
         "14684.0",
         "2",
         "16",
         "8"
        ],
        [
         "3",
         "m/1000013-12_angry_men",
         "12 Angry Men (Twelve Angry Men)",
         "Following the closing arguments in a murder trial, the 12 members of the jury must deliberate, with a guilty verdict meaning death for the accused, an inner-city teen. As the dozen men try to reach a unanimous decision while sequestered in a room, one juror (Henry Fonda) casts considerable doubt on elements of the case. Personal issues soon rise to the surface, and conflict threatens to derail the delicate process that will decide one boy's fate.",
         "Sidney Lumet's feature debut is a superbly written, dramatically effective courtroom thriller that rightfully stands as a modern classic.",
         "NR",
         "Classics, Drama",
         "Sidney Lumet",
         "Reginald Rose",
         "Martin Balsam, John Fiedler, Lee J. Cobb, E.G. Marshall, Jack Klugman, Edward Binns, Jack Warden, Henry Fonda, Joseph Sweeney, Ed Begley Sr., George Voskovec, Robert Webber, Rudy Bond, James A. Kelly, Billy Nelson, John Savoca",
         "1957-04-13",
         "2017-01-13",
         "95.0",
         "Criterion Collection",
         "Certified-Fresh",
         "100.0",
         "54.0",
         "Upright",
         "97.0",
         "105386.0",
         "6",
         "54",
         "0"
        ],
        [
         "4",
         "m/1000079-20000_leagues_under_the_sea",
         "20,000 Leagues Under The Sea",
         "In 1866, Professor Pierre M. Aronnax (Paul Lukas) and his assistant Conseil (Peter Lorre), stranded in San Francisco by reports of a giant sea monster attacking ships in the Pacific Ocean, are invited to join an expedition to search for the creature. During the search, they and harpooner Ned Land (Kirk Douglas) are thrown overboard during an attack, eventually discovering that the supposed monster is actually a submarine piloted by the brilliant but haunted Captain Nemo (James Mason).",
         "One of Disney's finest live-action adventures, 20,000 Leagues Under the Sea brings Jules Verne's classic sci-fi tale to vivid life, and features an awesome giant squid.",
         "G",
         "Action & Adventure, Drama, Kids & Family",
         "Richard Fleischer",
         "Earl Felton",
         "James Mason, Kirk Douglas, Paul Lukas, Peter Lorre, Robert J. Wilke, Carleton Young, Bob Wilke, Ted de Corsia, Percy Helton, Ted Cooper, Eddie Marr, Fred Graham, Esmeralda, J.M. Kerrigan, Harry Harvey, Herb Vigran",
         "1954-01-01",
         "2016-06-10",
         "127.0",
         "Disney",
         "Fresh",
         "89.0",
         "27.0",
         "Upright",
         "74.0",
         "68918.0",
         "5",
         "24",
         "3"
        ]
       ],
       "shape": {
        "columns": 22,
        "rows": 5
       }
      },
      "text/html": [
       "<div>\n",
       "<style scoped>\n",
       "    .dataframe tbody tr th:only-of-type {\n",
       "        vertical-align: middle;\n",
       "    }\n",
       "\n",
       "    .dataframe tbody tr th {\n",
       "        vertical-align: top;\n",
       "    }\n",
       "\n",
       "    .dataframe thead th {\n",
       "        text-align: right;\n",
       "    }\n",
       "</style>\n",
       "<table border=\"1\" class=\"dataframe\">\n",
       "  <thead>\n",
       "    <tr style=\"text-align: right;\">\n",
       "      <th></th>\n",
       "      <th>rotten_tomatoes_link</th>\n",
       "      <th>movie_title</th>\n",
       "      <th>movie_info</th>\n",
       "      <th>critics_consensus</th>\n",
       "      <th>content_rating</th>\n",
       "      <th>genres</th>\n",
       "      <th>directors</th>\n",
       "      <th>authors</th>\n",
       "      <th>actors</th>\n",
       "      <th>original_release_date</th>\n",
       "      <th>...</th>\n",
       "      <th>production_company</th>\n",
       "      <th>tomatometer_status</th>\n",
       "      <th>tomatometer_rating</th>\n",
       "      <th>tomatometer_count</th>\n",
       "      <th>audience_status</th>\n",
       "      <th>audience_rating</th>\n",
       "      <th>audience_count</th>\n",
       "      <th>tomatometer_top_critics_count</th>\n",
       "      <th>tomatometer_fresh_critics_count</th>\n",
       "      <th>tomatometer_rotten_critics_count</th>\n",
       "    </tr>\n",
       "  </thead>\n",
       "  <tbody>\n",
       "    <tr>\n",
       "      <th>0</th>\n",
       "      <td>m/0814255</td>\n",
       "      <td>Percy Jackson &amp; the Olympians: The Lightning T...</td>\n",
       "      <td>Always trouble-prone, the life of teenager Per...</td>\n",
       "      <td>Though it may seem like just another Harry Pot...</td>\n",
       "      <td>PG</td>\n",
       "      <td>Action &amp; Adventure, Comedy, Drama, Science Fic...</td>\n",
       "      <td>Chris Columbus</td>\n",
       "      <td>Craig Titley, Chris Columbus, Rick Riordan</td>\n",
       "      <td>Logan Lerman, Brandon T. Jackson, Alexandra Da...</td>\n",
       "      <td>2010-02-12</td>\n",
       "      <td>...</td>\n",
       "      <td>20th Century Fox</td>\n",
       "      <td>Rotten</td>\n",
       "      <td>49.0</td>\n",
       "      <td>149.0</td>\n",
       "      <td>Spilled</td>\n",
       "      <td>53.0</td>\n",
       "      <td>254421.0</td>\n",
       "      <td>43</td>\n",
       "      <td>73</td>\n",
       "      <td>76</td>\n",
       "    </tr>\n",
       "    <tr>\n",
       "      <th>1</th>\n",
       "      <td>m/0878835</td>\n",
       "      <td>Please Give</td>\n",
       "      <td>Kate (Catherine Keener) and her husband Alex (...</td>\n",
       "      <td>Nicole Holofcener's newest might seem slight i...</td>\n",
       "      <td>R</td>\n",
       "      <td>Comedy</td>\n",
       "      <td>Nicole Holofcener</td>\n",
       "      <td>Nicole Holofcener</td>\n",
       "      <td>Catherine Keener, Amanda Peet, Oliver Platt, R...</td>\n",
       "      <td>2010-04-30</td>\n",
       "      <td>...</td>\n",
       "      <td>Sony Pictures Classics</td>\n",
       "      <td>Certified-Fresh</td>\n",
       "      <td>87.0</td>\n",
       "      <td>142.0</td>\n",
       "      <td>Upright</td>\n",
       "      <td>64.0</td>\n",
       "      <td>11574.0</td>\n",
       "      <td>44</td>\n",
       "      <td>123</td>\n",
       "      <td>19</td>\n",
       "    </tr>\n",
       "    <tr>\n",
       "      <th>2</th>\n",
       "      <td>m/10</td>\n",
       "      <td>10</td>\n",
       "      <td>A successful, middle-aged Hollywood songwriter...</td>\n",
       "      <td>Blake Edwards' bawdy comedy may not score a pe...</td>\n",
       "      <td>R</td>\n",
       "      <td>Comedy, Romance</td>\n",
       "      <td>Blake Edwards</td>\n",
       "      <td>Blake Edwards</td>\n",
       "      <td>Dudley Moore, Bo Derek, Julie Andrews, Robert ...</td>\n",
       "      <td>1979-10-05</td>\n",
       "      <td>...</td>\n",
       "      <td>Waner Bros.</td>\n",
       "      <td>Fresh</td>\n",
       "      <td>67.0</td>\n",
       "      <td>24.0</td>\n",
       "      <td>Spilled</td>\n",
       "      <td>53.0</td>\n",
       "      <td>14684.0</td>\n",
       "      <td>2</td>\n",
       "      <td>16</td>\n",
       "      <td>8</td>\n",
       "    </tr>\n",
       "    <tr>\n",
       "      <th>3</th>\n",
       "      <td>m/1000013-12_angry_men</td>\n",
       "      <td>12 Angry Men (Twelve Angry Men)</td>\n",
       "      <td>Following the closing arguments in a murder tr...</td>\n",
       "      <td>Sidney Lumet's feature debut is a superbly wri...</td>\n",
       "      <td>NR</td>\n",
       "      <td>Classics, Drama</td>\n",
       "      <td>Sidney Lumet</td>\n",
       "      <td>Reginald Rose</td>\n",
       "      <td>Martin Balsam, John Fiedler, Lee J. Cobb, E.G....</td>\n",
       "      <td>1957-04-13</td>\n",
       "      <td>...</td>\n",
       "      <td>Criterion Collection</td>\n",
       "      <td>Certified-Fresh</td>\n",
       "      <td>100.0</td>\n",
       "      <td>54.0</td>\n",
       "      <td>Upright</td>\n",
       "      <td>97.0</td>\n",
       "      <td>105386.0</td>\n",
       "      <td>6</td>\n",
       "      <td>54</td>\n",
       "      <td>0</td>\n",
       "    </tr>\n",
       "    <tr>\n",
       "      <th>4</th>\n",
       "      <td>m/1000079-20000_leagues_under_the_sea</td>\n",
       "      <td>20,000 Leagues Under The Sea</td>\n",
       "      <td>In 1866, Professor Pierre M. Aronnax (Paul Luk...</td>\n",
       "      <td>One of Disney's finest live-action adventures,...</td>\n",
       "      <td>G</td>\n",
       "      <td>Action &amp; Adventure, Drama, Kids &amp; Family</td>\n",
       "      <td>Richard Fleischer</td>\n",
       "      <td>Earl Felton</td>\n",
       "      <td>James Mason, Kirk Douglas, Paul Lukas, Peter L...</td>\n",
       "      <td>1954-01-01</td>\n",
       "      <td>...</td>\n",
       "      <td>Disney</td>\n",
       "      <td>Fresh</td>\n",
       "      <td>89.0</td>\n",
       "      <td>27.0</td>\n",
       "      <td>Upright</td>\n",
       "      <td>74.0</td>\n",
       "      <td>68918.0</td>\n",
       "      <td>5</td>\n",
       "      <td>24</td>\n",
       "      <td>3</td>\n",
       "    </tr>\n",
       "  </tbody>\n",
       "</table>\n",
       "<p>5 rows × 22 columns</p>\n",
       "</div>"
      ],
      "text/plain": [
       "                    rotten_tomatoes_link  \\\n",
       "0                              m/0814255   \n",
       "1                              m/0878835   \n",
       "2                                   m/10   \n",
       "3                 m/1000013-12_angry_men   \n",
       "4  m/1000079-20000_leagues_under_the_sea   \n",
       "\n",
       "                                         movie_title  \\\n",
       "0  Percy Jackson & the Olympians: The Lightning T...   \n",
       "1                                        Please Give   \n",
       "2                                                 10   \n",
       "3                    12 Angry Men (Twelve Angry Men)   \n",
       "4                       20,000 Leagues Under The Sea   \n",
       "\n",
       "                                          movie_info  \\\n",
       "0  Always trouble-prone, the life of teenager Per...   \n",
       "1  Kate (Catherine Keener) and her husband Alex (...   \n",
       "2  A successful, middle-aged Hollywood songwriter...   \n",
       "3  Following the closing arguments in a murder tr...   \n",
       "4  In 1866, Professor Pierre M. Aronnax (Paul Luk...   \n",
       "\n",
       "                                   critics_consensus content_rating  \\\n",
       "0  Though it may seem like just another Harry Pot...             PG   \n",
       "1  Nicole Holofcener's newest might seem slight i...              R   \n",
       "2  Blake Edwards' bawdy comedy may not score a pe...              R   \n",
       "3  Sidney Lumet's feature debut is a superbly wri...             NR   \n",
       "4  One of Disney's finest live-action adventures,...              G   \n",
       "\n",
       "                                              genres          directors  \\\n",
       "0  Action & Adventure, Comedy, Drama, Science Fic...     Chris Columbus   \n",
       "1                                             Comedy  Nicole Holofcener   \n",
       "2                                    Comedy, Romance      Blake Edwards   \n",
       "3                                    Classics, Drama       Sidney Lumet   \n",
       "4           Action & Adventure, Drama, Kids & Family  Richard Fleischer   \n",
       "\n",
       "                                      authors  \\\n",
       "0  Craig Titley, Chris Columbus, Rick Riordan   \n",
       "1                           Nicole Holofcener   \n",
       "2                               Blake Edwards   \n",
       "3                               Reginald Rose   \n",
       "4                                 Earl Felton   \n",
       "\n",
       "                                              actors original_release_date  \\\n",
       "0  Logan Lerman, Brandon T. Jackson, Alexandra Da...            2010-02-12   \n",
       "1  Catherine Keener, Amanda Peet, Oliver Platt, R...            2010-04-30   \n",
       "2  Dudley Moore, Bo Derek, Julie Andrews, Robert ...            1979-10-05   \n",
       "3  Martin Balsam, John Fiedler, Lee J. Cobb, E.G....            1957-04-13   \n",
       "4  James Mason, Kirk Douglas, Paul Lukas, Peter L...            1954-01-01   \n",
       "\n",
       "   ...      production_company  tomatometer_status tomatometer_rating  \\\n",
       "0  ...        20th Century Fox              Rotten               49.0   \n",
       "1  ...  Sony Pictures Classics     Certified-Fresh               87.0   \n",
       "2  ...             Waner Bros.               Fresh               67.0   \n",
       "3  ...    Criterion Collection     Certified-Fresh              100.0   \n",
       "4  ...                  Disney               Fresh               89.0   \n",
       "\n",
       "  tomatometer_count  audience_status  audience_rating audience_count  \\\n",
       "0             149.0          Spilled             53.0       254421.0   \n",
       "1             142.0          Upright             64.0        11574.0   \n",
       "2              24.0          Spilled             53.0        14684.0   \n",
       "3              54.0          Upright             97.0       105386.0   \n",
       "4              27.0          Upright             74.0        68918.0   \n",
       "\n",
       "   tomatometer_top_critics_count  tomatometer_fresh_critics_count  \\\n",
       "0                             43                               73   \n",
       "1                             44                              123   \n",
       "2                              2                               16   \n",
       "3                              6                               54   \n",
       "4                              5                               24   \n",
       "\n",
       "   tomatometer_rotten_critics_count  \n",
       "0                                76  \n",
       "1                                19  \n",
       "2                                 8  \n",
       "3                                 0  \n",
       "4                                 3  \n",
       "\n",
       "[5 rows x 22 columns]"
      ]
     },
     "execution_count": 589,
     "metadata": {},
     "output_type": "execute_result"
    }
   ],
   "source": [
    "rt_df = pd.read_csv('Data\\\\rotten_tomatoes_movies.csv')\n",
    "\n",
    "rt_df.head()"
   ]
  },
  {
   "cell_type": "code",
   "execution_count": 590,
   "id": "5e13604f",
   "metadata": {},
   "outputs": [
    {
     "data": {
      "application/vnd.microsoft.datawrangler.viewer.v0+json": {
       "columns": [
        {
         "name": "index",
         "rawType": "int64",
         "type": "integer"
        },
        {
         "name": "Unnamed: 0",
         "rawType": "int64",
         "type": "integer"
        },
        {
         "name": "genre_ids",
         "rawType": "object",
         "type": "string"
        },
        {
         "name": "id",
         "rawType": "int64",
         "type": "integer"
        },
        {
         "name": "original_language",
         "rawType": "object",
         "type": "string"
        },
        {
         "name": "original_title",
         "rawType": "object",
         "type": "string"
        },
        {
         "name": "popularity",
         "rawType": "float64",
         "type": "float"
        },
        {
         "name": "release_date",
         "rawType": "object",
         "type": "string"
        },
        {
         "name": "title",
         "rawType": "object",
         "type": "string"
        },
        {
         "name": "vote_average",
         "rawType": "float64",
         "type": "float"
        },
        {
         "name": "vote_count",
         "rawType": "int64",
         "type": "integer"
        }
       ],
       "ref": "cf901045-b505-4f43-bd1e-5a61bd96a37b",
       "rows": [
        [
         "0",
         "0",
         "[12, 14, 10751]",
         "12444",
         "en",
         "Harry Potter and the Deathly Hallows: Part 1",
         "33.533",
         "2010-11-19",
         "Harry Potter and the Deathly Hallows: Part 1",
         "7.7",
         "10788"
        ],
        [
         "1",
         "1",
         "[14, 12, 16, 10751]",
         "10191",
         "en",
         "How to Train Your Dragon",
         "28.734",
         "2010-03-26",
         "How to Train Your Dragon",
         "7.7",
         "7610"
        ],
        [
         "2",
         "2",
         "[12, 28, 878]",
         "10138",
         "en",
         "Iron Man 2",
         "28.515",
         "2010-05-07",
         "Iron Man 2",
         "6.8",
         "12368"
        ],
        [
         "3",
         "3",
         "[16, 35, 10751]",
         "862",
         "en",
         "Toy Story",
         "28.005",
         "1995-11-22",
         "Toy Story",
         "7.9",
         "10174"
        ],
        [
         "4",
         "4",
         "[28, 878, 12]",
         "27205",
         "en",
         "Inception",
         "27.92",
         "2010-07-16",
         "Inception",
         "8.3",
         "22186"
        ]
       ],
       "shape": {
        "columns": 10,
        "rows": 5
       }
      },
      "text/html": [
       "<div>\n",
       "<style scoped>\n",
       "    .dataframe tbody tr th:only-of-type {\n",
       "        vertical-align: middle;\n",
       "    }\n",
       "\n",
       "    .dataframe tbody tr th {\n",
       "        vertical-align: top;\n",
       "    }\n",
       "\n",
       "    .dataframe thead th {\n",
       "        text-align: right;\n",
       "    }\n",
       "</style>\n",
       "<table border=\"1\" class=\"dataframe\">\n",
       "  <thead>\n",
       "    <tr style=\"text-align: right;\">\n",
       "      <th></th>\n",
       "      <th>Unnamed: 0</th>\n",
       "      <th>genre_ids</th>\n",
       "      <th>id</th>\n",
       "      <th>original_language</th>\n",
       "      <th>original_title</th>\n",
       "      <th>popularity</th>\n",
       "      <th>release_date</th>\n",
       "      <th>title</th>\n",
       "      <th>vote_average</th>\n",
       "      <th>vote_count</th>\n",
       "    </tr>\n",
       "  </thead>\n",
       "  <tbody>\n",
       "    <tr>\n",
       "      <th>0</th>\n",
       "      <td>0</td>\n",
       "      <td>[12, 14, 10751]</td>\n",
       "      <td>12444</td>\n",
       "      <td>en</td>\n",
       "      <td>Harry Potter and the Deathly Hallows: Part 1</td>\n",
       "      <td>33.533</td>\n",
       "      <td>2010-11-19</td>\n",
       "      <td>Harry Potter and the Deathly Hallows: Part 1</td>\n",
       "      <td>7.7</td>\n",
       "      <td>10788</td>\n",
       "    </tr>\n",
       "    <tr>\n",
       "      <th>1</th>\n",
       "      <td>1</td>\n",
       "      <td>[14, 12, 16, 10751]</td>\n",
       "      <td>10191</td>\n",
       "      <td>en</td>\n",
       "      <td>How to Train Your Dragon</td>\n",
       "      <td>28.734</td>\n",
       "      <td>2010-03-26</td>\n",
       "      <td>How to Train Your Dragon</td>\n",
       "      <td>7.7</td>\n",
       "      <td>7610</td>\n",
       "    </tr>\n",
       "    <tr>\n",
       "      <th>2</th>\n",
       "      <td>2</td>\n",
       "      <td>[12, 28, 878]</td>\n",
       "      <td>10138</td>\n",
       "      <td>en</td>\n",
       "      <td>Iron Man 2</td>\n",
       "      <td>28.515</td>\n",
       "      <td>2010-05-07</td>\n",
       "      <td>Iron Man 2</td>\n",
       "      <td>6.8</td>\n",
       "      <td>12368</td>\n",
       "    </tr>\n",
       "    <tr>\n",
       "      <th>3</th>\n",
       "      <td>3</td>\n",
       "      <td>[16, 35, 10751]</td>\n",
       "      <td>862</td>\n",
       "      <td>en</td>\n",
       "      <td>Toy Story</td>\n",
       "      <td>28.005</td>\n",
       "      <td>1995-11-22</td>\n",
       "      <td>Toy Story</td>\n",
       "      <td>7.9</td>\n",
       "      <td>10174</td>\n",
       "    </tr>\n",
       "    <tr>\n",
       "      <th>4</th>\n",
       "      <td>4</td>\n",
       "      <td>[28, 878, 12]</td>\n",
       "      <td>27205</td>\n",
       "      <td>en</td>\n",
       "      <td>Inception</td>\n",
       "      <td>27.920</td>\n",
       "      <td>2010-07-16</td>\n",
       "      <td>Inception</td>\n",
       "      <td>8.3</td>\n",
       "      <td>22186</td>\n",
       "    </tr>\n",
       "  </tbody>\n",
       "</table>\n",
       "</div>"
      ],
      "text/plain": [
       "   Unnamed: 0            genre_ids     id original_language  \\\n",
       "0           0      [12, 14, 10751]  12444                en   \n",
       "1           1  [14, 12, 16, 10751]  10191                en   \n",
       "2           2        [12, 28, 878]  10138                en   \n",
       "3           3      [16, 35, 10751]    862                en   \n",
       "4           4        [28, 878, 12]  27205                en   \n",
       "\n",
       "                                 original_title  popularity release_date  \\\n",
       "0  Harry Potter and the Deathly Hallows: Part 1      33.533   2010-11-19   \n",
       "1                      How to Train Your Dragon      28.734   2010-03-26   \n",
       "2                                    Iron Man 2      28.515   2010-05-07   \n",
       "3                                     Toy Story      28.005   1995-11-22   \n",
       "4                                     Inception      27.920   2010-07-16   \n",
       "\n",
       "                                          title  vote_average  vote_count  \n",
       "0  Harry Potter and the Deathly Hallows: Part 1           7.7       10788  \n",
       "1                      How to Train Your Dragon           7.7        7610  \n",
       "2                                    Iron Man 2           6.8       12368  \n",
       "3                                     Toy Story           7.9       10174  \n",
       "4                                     Inception           8.3       22186  "
      ]
     },
     "execution_count": 590,
     "metadata": {},
     "output_type": "execute_result"
    }
   ],
   "source": [
    "tmdb_df = pd.read_csv('Data/tmdb.movies.csv.gz')\n",
    "tmdb_df.head()"
   ]
  },
  {
   "cell_type": "code",
   "execution_count": 591,
   "id": "8a0badde",
   "metadata": {},
   "outputs": [
    {
     "data": {
      "application/vnd.microsoft.datawrangler.viewer.v0+json": {
       "columns": [
        {
         "name": "index",
         "rawType": "int64",
         "type": "integer"
        },
        {
         "name": "id",
         "rawType": "int64",
         "type": "integer"
        },
        {
         "name": "release_date",
         "rawType": "object",
         "type": "string"
        },
        {
         "name": "movie",
         "rawType": "object",
         "type": "string"
        },
        {
         "name": "production_budget",
         "rawType": "object",
         "type": "string"
        },
        {
         "name": "domestic_gross",
         "rawType": "object",
         "type": "string"
        },
        {
         "name": "worldwide_gross",
         "rawType": "object",
         "type": "string"
        }
       ],
       "ref": "7680f14b-f8bb-4fc2-a6ed-05e095d00c31",
       "rows": [
        [
         "0",
         "1",
         "Dec 18, 2009",
         "Avatar",
         "$425,000,000",
         "$760,507,625",
         "$2,776,345,279"
        ],
        [
         "1",
         "2",
         "May 20, 2011",
         "Pirates of the Caribbean: On Stranger Tides",
         "$410,600,000",
         "$241,063,875",
         "$1,045,663,875"
        ],
        [
         "2",
         "3",
         "Jun 7, 2019",
         "Dark Phoenix",
         "$350,000,000",
         "$42,762,350",
         "$149,762,350"
        ],
        [
         "3",
         "4",
         "May 1, 2015",
         "Avengers: Age of Ultron",
         "$330,600,000",
         "$459,005,868",
         "$1,403,013,963"
        ],
        [
         "4",
         "5",
         "Dec 15, 2017",
         "Star Wars Ep. VIII: The Last Jedi",
         "$317,000,000",
         "$620,181,382",
         "$1,316,721,747"
        ]
       ],
       "shape": {
        "columns": 6,
        "rows": 5
       }
      },
      "text/html": [
       "<div>\n",
       "<style scoped>\n",
       "    .dataframe tbody tr th:only-of-type {\n",
       "        vertical-align: middle;\n",
       "    }\n",
       "\n",
       "    .dataframe tbody tr th {\n",
       "        vertical-align: top;\n",
       "    }\n",
       "\n",
       "    .dataframe thead th {\n",
       "        text-align: right;\n",
       "    }\n",
       "</style>\n",
       "<table border=\"1\" class=\"dataframe\">\n",
       "  <thead>\n",
       "    <tr style=\"text-align: right;\">\n",
       "      <th></th>\n",
       "      <th>id</th>\n",
       "      <th>release_date</th>\n",
       "      <th>movie</th>\n",
       "      <th>production_budget</th>\n",
       "      <th>domestic_gross</th>\n",
       "      <th>worldwide_gross</th>\n",
       "    </tr>\n",
       "  </thead>\n",
       "  <tbody>\n",
       "    <tr>\n",
       "      <th>0</th>\n",
       "      <td>1</td>\n",
       "      <td>Dec 18, 2009</td>\n",
       "      <td>Avatar</td>\n",
       "      <td>$425,000,000</td>\n",
       "      <td>$760,507,625</td>\n",
       "      <td>$2,776,345,279</td>\n",
       "    </tr>\n",
       "    <tr>\n",
       "      <th>1</th>\n",
       "      <td>2</td>\n",
       "      <td>May 20, 2011</td>\n",
       "      <td>Pirates of the Caribbean: On Stranger Tides</td>\n",
       "      <td>$410,600,000</td>\n",
       "      <td>$241,063,875</td>\n",
       "      <td>$1,045,663,875</td>\n",
       "    </tr>\n",
       "    <tr>\n",
       "      <th>2</th>\n",
       "      <td>3</td>\n",
       "      <td>Jun 7, 2019</td>\n",
       "      <td>Dark Phoenix</td>\n",
       "      <td>$350,000,000</td>\n",
       "      <td>$42,762,350</td>\n",
       "      <td>$149,762,350</td>\n",
       "    </tr>\n",
       "    <tr>\n",
       "      <th>3</th>\n",
       "      <td>4</td>\n",
       "      <td>May 1, 2015</td>\n",
       "      <td>Avengers: Age of Ultron</td>\n",
       "      <td>$330,600,000</td>\n",
       "      <td>$459,005,868</td>\n",
       "      <td>$1,403,013,963</td>\n",
       "    </tr>\n",
       "    <tr>\n",
       "      <th>4</th>\n",
       "      <td>5</td>\n",
       "      <td>Dec 15, 2017</td>\n",
       "      <td>Star Wars Ep. VIII: The Last Jedi</td>\n",
       "      <td>$317,000,000</td>\n",
       "      <td>$620,181,382</td>\n",
       "      <td>$1,316,721,747</td>\n",
       "    </tr>\n",
       "  </tbody>\n",
       "</table>\n",
       "</div>"
      ],
      "text/plain": [
       "   id  release_date                                        movie  \\\n",
       "0   1  Dec 18, 2009                                       Avatar   \n",
       "1   2  May 20, 2011  Pirates of the Caribbean: On Stranger Tides   \n",
       "2   3   Jun 7, 2019                                 Dark Phoenix   \n",
       "3   4   May 1, 2015                      Avengers: Age of Ultron   \n",
       "4   5  Dec 15, 2017            Star Wars Ep. VIII: The Last Jedi   \n",
       "\n",
       "  production_budget domestic_gross worldwide_gross  \n",
       "0      $425,000,000   $760,507,625  $2,776,345,279  \n",
       "1      $410,600,000   $241,063,875  $1,045,663,875  \n",
       "2      $350,000,000    $42,762,350    $149,762,350  \n",
       "3      $330,600,000   $459,005,868  $1,403,013,963  \n",
       "4      $317,000,000   $620,181,382  $1,316,721,747  "
      ]
     },
     "execution_count": 591,
     "metadata": {},
     "output_type": "execute_result"
    }
   ],
   "source": [
    "tn_df = pd.read_csv('Data/tn.movie_budgets.csv.gz')\n",
    "tn_df.head()"
   ]
  },
  {
   "cell_type": "markdown",
   "id": "e94d6a59",
   "metadata": {},
   "source": [
    "### *📊 Exploring Our Data with Data Wrangler & SQLite Viewer\n",
    "We took advantage of two Visual Studio Code extensions that made the process smoother and more insightful.\n",
    "\n",
    "🔍 Data Wrangler gave us an easy, interactive way to explore our CSV and TSV files — without writing a single line of code. With it, we could:\n",
    "\n",
    "Quickly spot missing values, outliers, and duplicates.\n",
    "\n",
    "See visual summaries of each column — including data types and distributions.\n",
    "\n",
    "Sort, filter, and group data effortlessly.\n",
    "\n",
    "Get smart suggestions for cleaning and transforming the data.\n",
    "\n",
    "🗄️ SQLite Viewer was equally helpful for peeking into our SQL database. It let us:\n",
    "\n",
    "Instantly view tables, columns, and sample rows.\n",
    "\n",
    "Navigate through relationships between tables with ease.\n",
    "\n",
    "Understand the database structure and identify issues like nulls or inconsistent values visually.\n",
    "\n",
    "Together, these tools helped us focus less on boilerplate code and more on what mattered — uncovering patterns, problems, and opportunities within the data.\n",
    "<div style=\"white-space: nowrap; overflow-x: auto;\">\n",
    "\n",
    "  <img src=\"images/bom_df.png\" style=\"display: inline-block; height: 500px; margin-right: 10px;\">\n",
    "  <img src=\"images/rt_df.png\" style=\"display: inline-block; height: 500px; margin-right: 10px;\">\n",
    "  <img src=\"images/rt_rev_df.png\" style=\"display: inline-block; height: 500px; margin-right: 10px;\">\n",
    "  <img src=\"images/tmdb_df.png\" style=\"display: inline-block; height: 500px; margin-right: 10px;\">\n",
    "  <img src=\"images/tn_df.png\" style=\"display: inline-block; height: 500px; margin-right: 10px;\">\n",
    "  <img src=\"images/im.db.png\" style=\"display: inline-block; height: 500px; margin-right: 10px;\">\n",
    "\n",
    "</div>\n",
    "\n",
    "\n",
    "After thoroughly exploring the datasets and holding extensive team discussions, we carefully assessed all available columns. We prioritized both the relevance to our project goals and the quality of the data when deciding on which features to keep. Here's the final lineup:\n",
    "\n",
    "From rotten_tomatoes:\n",
    "\n",
    "movie_title, genres, tomatometer_rating, audience_rating\n",
    "→ These fields let us explore how different genres perform with critics versus audiences.\n",
    "\n",
    "From tmdb:\n",
    "\n",
    "language, popularity\n",
    "→ These help us analyze whether a movie’s language influences its popularity and commercial appeal.\n",
    "\n",
    "From the_numbers:\n",
    "\n",
    "movie, production_budget, worldwide_gross\n",
    "→ These are key financial metrics we’ll use to calculate ROI and identify profitability trends across genres.\n",
    "\n",
    "From im.db (SQL database):\n",
    "\n",
    "We joined data from the directors, persons, and movie_akas tables\n",
    "→ This helped us link directors to specific films, enabling us to investigate which directors tend to succeed in international markets.\n",
    "\n",
    "During this process, we confirmed that the selected columns had minimal or no missing data and contained rich, varied values — a good sign that the data is high-quality and ready for deeper analysis.\n",
    "\n",
    "While we've zeroed in on these specific features, we'll still need to clean, align, and integrate the datasets properly to ensure they support meaningful and accurate answers to our business questions.\n"
   ]
  },
  {
   "cell_type": "markdown",
   "id": "1d579e7c",
   "metadata": {},
   "source": [
    "📌## Key Notes on Dataset Decisions\n",
    "Why We Replaced the Rotten Tomatoes Dataset:\n",
    "The original Rotten Tomatoes files provided with the project were not suitable for our analysis — primarily because they lacked the crucial movie title field, which is the main link across all datasets.\n",
    "To maintain consistency and data integrity, we opted to import a more comprehensive and usable version of the Rotten Tomatoes dataset from Kaggle.\n",
    "\n",
    "Why We Skipped Box Office Mojo & RT Critic Reviews:\n",
    "We excluded the Box Office Mojo dataset due to its significant overlap with The Numbers dataset, which offered more complete and reliable financial figures.\n",
    "Similarly, we did not use the Rotten Tomatoes Critic Reviews file since the Rotten Tomatoes Movies Info dataset already included all the relevant ratings data we needed — both from critics and audiences"
   ]
  },
  {
   "cell_type": "markdown",
   "id": "0de7d981",
   "metadata": {},
   "source": [
    "Data Cleaning and Preparation\n",
    "Before performing any meaningful analysis, it's crucial to thoroughly prepare and clean the data. Although our initial data exploration verified that the datasets are of high quality, they originate from diverse sources. As part of the preparation process, we need to filter key columns, standardize field names, address duplicates, and merge datasets when required."
   ]
  },
  {
   "cell_type": "markdown",
   "id": "9a78465d",
   "metadata": {},
   "source": [
    "Preparing Rotten Tomatoes Ratings and Genres Data\n",
    "To analyze how movie genres and ratings relate to potential success, we will process and refine the Rotten Tomatoes Movies dataset. This dataset contains comprehensive metadata from the Rotten Tomatoes website, covering a diverse collection of films. The information it provides will be crucial for addressing our business questions about audience preferences and genre-based trends"
   ]
  },
  {
   "cell_type": "markdown",
   "id": "88dc9dfe",
   "metadata": {},
   "source": [
    "Ratings and Genres Data Extraction\n",
    "For our analysis of movie success and audience perception, we concentrate on four critical columns from the dataset:\n",
    "\n",
    "movie_title: The official title of the film as recorded on Rotten Tomatoes.\n",
    "\n",
    "genres: A comma-separated string categorizing each movie into one or more genres (e.g., Drama, Comedy, Action).\n",
    "\n",
    "audience_rating: The average audience score, typically scaled from 0 to 100.\n",
    "\n",
    "tomatometer_rating: The percentage of favorable professional critic reviews.\n",
    "\n",
    "During data preparation, special attention is required for movies classified under multiple genres to ensure proper parsing and accurate analysis."
   ]
  },
  {
   "cell_type": "code",
   "execution_count": 592,
   "id": "3a5bb415",
   "metadata": {},
   "outputs": [
    {
     "data": {
      "application/vnd.microsoft.datawrangler.viewer.v0+json": {
       "columns": [
        {
         "name": "index",
         "rawType": "int64",
         "type": "integer"
        },
        {
         "name": "movie_title",
         "rawType": "object",
         "type": "string"
        },
        {
         "name": "genres",
         "rawType": "object",
         "type": "string"
        },
        {
         "name": "audience_rating",
         "rawType": "float64",
         "type": "float"
        },
        {
         "name": "tomatometer_rating",
         "rawType": "float64",
         "type": "float"
        }
       ],
       "ref": "503ea37a-a7ce-49a8-9c00-a1e338064fea",
       "rows": [
        [
         "0",
         "Percy Jackson & the Olympians: The Lightning Thief",
         "Action & Adventure",
         "53.0",
         "49.0"
        ],
        [
         "1",
         "Percy Jackson & the Olympians: The Lightning Thief",
         "Comedy",
         "53.0",
         "49.0"
        ],
        [
         "2",
         "Percy Jackson & the Olympians: The Lightning Thief",
         "Drama",
         "53.0",
         "49.0"
        ],
        [
         "3",
         "Percy Jackson & the Olympians: The Lightning Thief",
         "Science Fiction & Fantasy",
         "53.0",
         "49.0"
        ],
        [
         "4",
         "Please Give",
         "Comedy",
         "64.0",
         "87.0"
        ]
       ],
       "shape": {
        "columns": 4,
        "rows": 5
       }
      },
      "text/html": [
       "<div>\n",
       "<style scoped>\n",
       "    .dataframe tbody tr th:only-of-type {\n",
       "        vertical-align: middle;\n",
       "    }\n",
       "\n",
       "    .dataframe tbody tr th {\n",
       "        vertical-align: top;\n",
       "    }\n",
       "\n",
       "    .dataframe thead th {\n",
       "        text-align: right;\n",
       "    }\n",
       "</style>\n",
       "<table border=\"1\" class=\"dataframe\">\n",
       "  <thead>\n",
       "    <tr style=\"text-align: right;\">\n",
       "      <th></th>\n",
       "      <th>movie_title</th>\n",
       "      <th>genres</th>\n",
       "      <th>audience_rating</th>\n",
       "      <th>tomatometer_rating</th>\n",
       "    </tr>\n",
       "  </thead>\n",
       "  <tbody>\n",
       "    <tr>\n",
       "      <th>0</th>\n",
       "      <td>Percy Jackson &amp; the Olympians: The Lightning T...</td>\n",
       "      <td>Action &amp; Adventure</td>\n",
       "      <td>53.0</td>\n",
       "      <td>49.0</td>\n",
       "    </tr>\n",
       "    <tr>\n",
       "      <th>1</th>\n",
       "      <td>Percy Jackson &amp; the Olympians: The Lightning T...</td>\n",
       "      <td>Comedy</td>\n",
       "      <td>53.0</td>\n",
       "      <td>49.0</td>\n",
       "    </tr>\n",
       "    <tr>\n",
       "      <th>2</th>\n",
       "      <td>Percy Jackson &amp; the Olympians: The Lightning T...</td>\n",
       "      <td>Drama</td>\n",
       "      <td>53.0</td>\n",
       "      <td>49.0</td>\n",
       "    </tr>\n",
       "    <tr>\n",
       "      <th>3</th>\n",
       "      <td>Percy Jackson &amp; the Olympians: The Lightning T...</td>\n",
       "      <td>Science Fiction &amp; Fantasy</td>\n",
       "      <td>53.0</td>\n",
       "      <td>49.0</td>\n",
       "    </tr>\n",
       "    <tr>\n",
       "      <th>4</th>\n",
       "      <td>Please Give</td>\n",
       "      <td>Comedy</td>\n",
       "      <td>64.0</td>\n",
       "      <td>87.0</td>\n",
       "    </tr>\n",
       "  </tbody>\n",
       "</table>\n",
       "</div>"
      ],
      "text/plain": [
       "                                         movie_title  \\\n",
       "0  Percy Jackson & the Olympians: The Lightning T...   \n",
       "1  Percy Jackson & the Olympians: The Lightning T...   \n",
       "2  Percy Jackson & the Olympians: The Lightning T...   \n",
       "3  Percy Jackson & the Olympians: The Lightning T...   \n",
       "4                                        Please Give   \n",
       "\n",
       "                      genres  audience_rating  tomatometer_rating  \n",
       "0         Action & Adventure             53.0                49.0  \n",
       "1                     Comedy             53.0                49.0  \n",
       "2                      Drama             53.0                49.0  \n",
       "3  Science Fiction & Fantasy             53.0                49.0  \n",
       "4                     Comedy             64.0                87.0  "
      ]
     },
     "execution_count": 592,
     "metadata": {},
     "output_type": "execute_result"
    }
   ],
   "source": [
    "# Extracting the relevant columns\n",
    "df_rt = rt_df[[\"movie_title\",\"genres\",\"audience_rating\",\"tomatometer_rating\"]].copy()\n",
    "\n",
    "# Convert the comma-separated string into a list\n",
    "df_rt['genres'] = df_rt['genres'].str.split(', ')\n",
    "\n",
    "# Exploding the genres\n",
    "rt_movies_exploded = df_rt.explode('genres').reset_index(drop=True)\n",
    "rt_movies_exploded.head()"
   ]
  },
  {
   "cell_type": "markdown",
   "id": "f0532576",
   "metadata": {},
   "source": [
    "We perform an operation to split the genres column, creating separate rows for each genre entry. This process converts the one-to-many relationships between movies and their genres into simpler one-to-one relationships, facilitating genre-specific analysis. Following this transformation, we reset the DataFrame index to maintain proper data organization and ensure clean dataset structure."
   ]
  },
  {
   "cell_type": "code",
   "execution_count": 593,
   "id": "207a28bd",
   "metadata": {},
   "outputs": [
    {
     "name": "stdout",
     "output_type": "stream",
     "text": [
      "main: 17712 rows\n",
      "exploded: 39388 rows\n"
     ]
    }
   ],
   "source": [
    "# Comparing the number of rows for main df and the exploded df \n",
    "print(f\"main: {rt_df.shape[0]} rows\")\n",
    "print(f\"exploded: {rt_movies_exploded.shape[0]} rows\")"
   ]
  },
  {
   "cell_type": "markdown",
   "id": "6f1d1244",
   "metadata": {},
   "source": [
    "By comparing row counts between the original and transformed DataFrames, we can validate the successful separation of multi-genre entries. The expected increase in row count confirms that each genre has been properly isolated into distinct records"
   ]
  },
  {
   "cell_type": "code",
   "execution_count": 594,
   "id": "3e7247d5",
   "metadata": {},
   "outputs": [
    {
     "name": "stdout",
     "output_type": "stream",
     "text": [
      "exploded: 17106 unique values\n",
      "main df: 17106 unique values\n"
     ]
    }
   ],
   "source": [
    "# Seeing if the number of unique movie_title values matches with the main\n",
    "print(f\"exploded: {len(rt_movies_exploded['movie_title'].unique())} unique values\")\n",
    "print(f\"main df: {len(rt_df['movie_title'].unique())} unique values\")"
   ]
  },
  {
   "cell_type": "markdown",
   "id": "af02b905",
   "metadata": {},
   "source": [
    "We confirm data integrity by checking that unique movie title counts match between datasets before and after transformation, ensuring no films were duplicated or lost during genre separation"
   ]
  },
  {
   "cell_type": "markdown",
   "id": "f251028b",
   "metadata": {},
   "source": [
    "Data Cleaning\n",
    "Our preliminary analysis verified that the key columns of interest; genres, audience_rating, and tomatometer rating to maintain complete data integrity with no duplicate entries. Each field contains distinct measurements, confirming proper data structure.\n",
    "We did identify a negligible proportion of missing values, representing only 0-1% of records across these columns. Given this minimal occurrence, we can confidently address these gaps through removing rows without compromising the dataset's statistical reliability or analytical value.\n"
   ]
  },
  {
   "cell_type": "code",
   "execution_count": 595,
   "id": "b6b8f656",
   "metadata": {},
   "outputs": [
    {
     "data": {
      "application/vnd.microsoft.datawrangler.viewer.v0+json": {
       "columns": [
        {
         "name": "index",
         "rawType": "object",
         "type": "string"
        },
        {
         "name": "0",
         "rawType": "float64",
         "type": "float"
        }
       ],
       "ref": "7533b287-8726-45ce-9b55-0617dd9c699f",
       "rows": [
        [
         "movie_title",
         "0.0"
        ],
        [
         "genres",
         "0.04823804204326191"
        ],
        [
         "audience_rating",
         "1.2414948715344776"
        ],
        [
         "tomatometer_rating",
         "0.23357367726211026"
        ]
       ],
       "shape": {
        "columns": 1,
        "rows": 4
       }
      },
      "text/plain": [
       "movie_title           0.000000\n",
       "genres                0.048238\n",
       "audience_rating       1.241495\n",
       "tomatometer_rating    0.233574\n",
       "dtype: float64"
      ]
     },
     "execution_count": 595,
     "metadata": {},
     "output_type": "execute_result"
    }
   ],
   "source": [
    "# Checking if missing values align with data exploration findings\n",
    "(rt_movies_exploded.isna().sum()/len(rt_movies_exploded)*100)"
   ]
  },
  {
   "cell_type": "markdown",
   "id": "08bf6292",
   "metadata": {},
   "source": [
    "We confirm that the missing values align with our previous findings. We proceed with dropping the rows containing missing values."
   ]
  },
  {
   "cell_type": "code",
   "execution_count": 596,
   "id": "4f5c853e",
   "metadata": {},
   "outputs": [
    {
     "data": {
      "application/vnd.microsoft.datawrangler.viewer.v0+json": {
       "columns": [
        {
         "name": "index",
         "rawType": "object",
         "type": "string"
        },
        {
         "name": "0",
         "rawType": "int64",
         "type": "integer"
        }
       ],
       "ref": "d2bf766d-e152-4e87-874d-9f6d739c461f",
       "rows": [
        [
         "movie_title",
         "0"
        ],
        [
         "genres",
         "0"
        ],
        [
         "audience_rating",
         "0"
        ],
        [
         "tomatometer_rating",
         "0"
        ]
       ],
       "shape": {
        "columns": 1,
        "rows": 4
       }
      },
      "text/plain": [
       "movie_title           0\n",
       "genres                0\n",
       "audience_rating       0\n",
       "tomatometer_rating    0\n",
       "dtype: int64"
      ]
     },
     "execution_count": 596,
     "metadata": {},
     "output_type": "execute_result"
    }
   ],
   "source": [
    "# Dropping rows with missing values under 'genres', 'audience_rating', and 'tomatometer_rating'\n",
    "rt_movies_exploded_cleaned = (\n",
    "    rt_movies_exploded\n",
    "    .dropna(subset=[\"genres\", \"audience_rating\", \"tomatometer_rating\"])\n",
    "    .reset_index(drop=True)\n",
    ")\n",
    "\n",
    "# Checking if there are any missing values left\n",
    "rt_movies_exploded_cleaned.isna().sum()"
   ]
  },
  {
   "cell_type": "markdown",
   "id": "b82188dd",
   "metadata": {},
   "source": [
    "Checking for Outliers\n",
    "We will use the Interquartile Range (IQR) method to check for outliers:\n",
    "\n",
    "IQR = Q3 - Q1\n",
    "Any data point below Q1 - 1.5 * IQR or above Q3 + 1.5 * IQR is considered an outlier.\n",
    "\n",
    "We will apply this logic to audience_rating and tomatometer_rating"
   ]
  },
  {
   "cell_type": "code",
   "execution_count": 597,
   "id": "933bf923",
   "metadata": {},
   "outputs": [
    {
     "name": "stdout",
     "output_type": "stream",
     "text": [
      "There are no outliers in the audience rating column\n",
      "There are no outliers in the tomatometer rating column\n"
     ]
    }
   ],
   "source": [
    "# Checking for outliers\n",
    "def check_outliers(q1,q3,min,max):\n",
    "    iqr=q3-q1\n",
    "    upper_bound=q3+(1.5*iqr)\n",
    "    lower_bound=q1-(1.5*iqr)\n",
    "    if (min>lower_bound) & (max<upper_bound):\n",
    "     return(\"There are no outliers\")\n",
    "    else:\n",
    "     return(\"There are outliers\")\n",
    " \n",
    "# Checking in the audience_rating column\n",
    "print(f\"{check_outliers(q1=46,q3=78,min=0,max=100)} in the audience rating column\")\n",
    "\n",
    "# Checking in the tomatometer_rating column\n",
    "print(f\"{check_outliers(q1=40,q3=86,min=0,max=100)} in the tomatometer rating column\")"
   ]
  },
  {
   "cell_type": "markdown",
   "id": "d41c2c17",
   "metadata": {},
   "source": [
    "Standardization\n",
    "This helps to avoid inconsistencies during grouping, searching, or filtering. (e.g., \"Drama\" and \"drama\" would otherwise be treated differently). We standardize text data by converting movie_title and genres columns to lowercase."
   ]
  },
  {
   "cell_type": "code",
   "execution_count": 598,
   "id": "64251739",
   "metadata": {},
   "outputs": [
    {
     "data": {
      "application/vnd.microsoft.datawrangler.viewer.v0+json": {
       "columns": [
        {
         "name": "index",
         "rawType": "int64",
         "type": "integer"
        },
        {
         "name": "movie_title",
         "rawType": "object",
         "type": "string"
        },
        {
         "name": "genres",
         "rawType": "object",
         "type": "string"
        },
        {
         "name": "audience_rating",
         "rawType": "float64",
         "type": "float"
        },
        {
         "name": "tomatometer_rating",
         "rawType": "float64",
         "type": "float"
        }
       ],
       "ref": "5953eae0-2107-478a-8668-cf86b41705c3",
       "rows": [
        [
         "0",
         "percy jackson & the olympians: the lightning thief",
         "action & adventure",
         "53.0",
         "49.0"
        ],
        [
         "1",
         "percy jackson & the olympians: the lightning thief",
         "comedy",
         "53.0",
         "49.0"
        ],
        [
         "2",
         "percy jackson & the olympians: the lightning thief",
         "drama",
         "53.0",
         "49.0"
        ],
        [
         "3",
         "percy jackson & the olympians: the lightning thief",
         "science fiction & fantasy",
         "53.0",
         "49.0"
        ],
        [
         "4",
         "please give",
         "comedy",
         "64.0",
         "87.0"
        ]
       ],
       "shape": {
        "columns": 4,
        "rows": 5
       }
      },
      "text/html": [
       "<div>\n",
       "<style scoped>\n",
       "    .dataframe tbody tr th:only-of-type {\n",
       "        vertical-align: middle;\n",
       "    }\n",
       "\n",
       "    .dataframe tbody tr th {\n",
       "        vertical-align: top;\n",
       "    }\n",
       "\n",
       "    .dataframe thead th {\n",
       "        text-align: right;\n",
       "    }\n",
       "</style>\n",
       "<table border=\"1\" class=\"dataframe\">\n",
       "  <thead>\n",
       "    <tr style=\"text-align: right;\">\n",
       "      <th></th>\n",
       "      <th>movie_title</th>\n",
       "      <th>genres</th>\n",
       "      <th>audience_rating</th>\n",
       "      <th>tomatometer_rating</th>\n",
       "    </tr>\n",
       "  </thead>\n",
       "  <tbody>\n",
       "    <tr>\n",
       "      <th>0</th>\n",
       "      <td>percy jackson &amp; the olympians: the lightning t...</td>\n",
       "      <td>action &amp; adventure</td>\n",
       "      <td>53.0</td>\n",
       "      <td>49.0</td>\n",
       "    </tr>\n",
       "    <tr>\n",
       "      <th>1</th>\n",
       "      <td>percy jackson &amp; the olympians: the lightning t...</td>\n",
       "      <td>comedy</td>\n",
       "      <td>53.0</td>\n",
       "      <td>49.0</td>\n",
       "    </tr>\n",
       "    <tr>\n",
       "      <th>2</th>\n",
       "      <td>percy jackson &amp; the olympians: the lightning t...</td>\n",
       "      <td>drama</td>\n",
       "      <td>53.0</td>\n",
       "      <td>49.0</td>\n",
       "    </tr>\n",
       "    <tr>\n",
       "      <th>3</th>\n",
       "      <td>percy jackson &amp; the olympians: the lightning t...</td>\n",
       "      <td>science fiction &amp; fantasy</td>\n",
       "      <td>53.0</td>\n",
       "      <td>49.0</td>\n",
       "    </tr>\n",
       "    <tr>\n",
       "      <th>4</th>\n",
       "      <td>please give</td>\n",
       "      <td>comedy</td>\n",
       "      <td>64.0</td>\n",
       "      <td>87.0</td>\n",
       "    </tr>\n",
       "  </tbody>\n",
       "</table>\n",
       "</div>"
      ],
      "text/plain": [
       "                                         movie_title  \\\n",
       "0  percy jackson & the olympians: the lightning t...   \n",
       "1  percy jackson & the olympians: the lightning t...   \n",
       "2  percy jackson & the olympians: the lightning t...   \n",
       "3  percy jackson & the olympians: the lightning t...   \n",
       "4                                        please give   \n",
       "\n",
       "                      genres  audience_rating  tomatometer_rating  \n",
       "0         action & adventure             53.0                49.0  \n",
       "1                     comedy             53.0                49.0  \n",
       "2                      drama             53.0                49.0  \n",
       "3  science fiction & fantasy             53.0                49.0  \n",
       "4                     comedy             64.0                87.0  "
      ]
     },
     "execution_count": 598,
     "metadata": {},
     "output_type": "execute_result"
    }
   ],
   "source": [
    "# Making sure to work on a copy to avoid the SettingWithCopyWarning\n",
    "rt_movies_exploded_cleaned = rt_movies_exploded_cleaned.copy()\n",
    "\n",
    "# Standardizing columns to lowercase\n",
    "rt_movies_exploded_cleaned[\"genres\"] = rt_movies_exploded_cleaned[\"genres\"].str.lower()\n",
    "rt_movies_exploded_cleaned[\"movie_title\"] = rt_movies_exploded_cleaned[\"movie_title\"].str.lower()\n",
    "\n",
    "rt_movies_exploded_cleaned.head()"
   ]
  },
  {
   "cell_type": "markdown",
   "id": "0b7b547a",
   "metadata": {},
   "source": [
    "Grouping Ratings by Genre\n",
    "To identify trends in how different genres perform, we grouped the movies by category and calculated average ratings from both audiences and critics. This gives us the big picture on which types of films viewers and reviewers prefer, rather than getting stuck on individual movie scores."
   ]
  },
  {
   "cell_type": "code",
   "execution_count": 599,
   "id": "9c48f91b",
   "metadata": {},
   "outputs": [
    {
     "data": {
      "application/vnd.microsoft.datawrangler.viewer.v0+json": {
       "columns": [
        {
         "name": "index",
         "rawType": "int64",
         "type": "integer"
        },
        {
         "name": "genres",
         "rawType": "object",
         "type": "string"
        },
        {
         "name": "audience_rating",
         "rawType": "float64",
         "type": "float"
        },
        {
         "name": "tomatometer_rating",
         "rawType": "float64",
         "type": "float"
        }
       ],
       "ref": "fc3f3ba7-7f0c-4ad6-a614-158b3722e405",
       "rows": [
        [
         "0",
         "action & adventure",
         "57.9",
         "54.2"
        ],
        [
         "1",
         "animation",
         "65.7",
         "64.1"
        ],
        [
         "2",
         "anime & manga",
         "75.0",
         "75.4"
        ],
        [
         "3",
         "art house & international",
         "66.5",
         "71.0"
        ],
        [
         "4",
         "classics",
         "71.0",
         "78.4"
        ],
        [
         "5",
         "comedy",
         "58.4",
         "55.1"
        ],
        [
         "6",
         "cult movies",
         "55.8",
         "60.5"
        ],
        [
         "7",
         "documentary",
         "73.3",
         "80.9"
        ],
        [
         "8",
         "drama",
         "63.1",
         "63.2"
        ],
        [
         "9",
         "faith & spirituality",
         "70.3",
         "63.9"
        ],
        [
         "10",
         "gay & lesbian",
         "61.5",
         "57.6"
        ],
        [
         "11",
         "horror",
         "46.4",
         "51.6"
        ],
        [
         "12",
         "kids & family",
         "60.3",
         "55.7"
        ],
        [
         "13",
         "musical & performing arts",
         "70.9",
         "71.0"
        ],
        [
         "14",
         "mystery & suspense",
         "54.0",
         "55.3"
        ],
        [
         "15",
         "romance",
         "63.4",
         "60.5"
        ],
        [
         "16",
         "science fiction & fantasy",
         "56.7",
         "55.9"
        ],
        [
         "17",
         "special interest",
         "72.0",
         "77.7"
        ],
        [
         "18",
         "sports & fitness",
         "73.4",
         "71.0"
        ],
        [
         "19",
         "television",
         "66.8",
         "72.4"
        ],
        [
         "20",
         "western",
         "64.6",
         "68.5"
        ]
       ],
       "shape": {
        "columns": 3,
        "rows": 21
       }
      },
      "text/html": [
       "<div>\n",
       "<style scoped>\n",
       "    .dataframe tbody tr th:only-of-type {\n",
       "        vertical-align: middle;\n",
       "    }\n",
       "\n",
       "    .dataframe tbody tr th {\n",
       "        vertical-align: top;\n",
       "    }\n",
       "\n",
       "    .dataframe thead th {\n",
       "        text-align: right;\n",
       "    }\n",
       "</style>\n",
       "<table border=\"1\" class=\"dataframe\">\n",
       "  <thead>\n",
       "    <tr style=\"text-align: right;\">\n",
       "      <th></th>\n",
       "      <th>genres</th>\n",
       "      <th>audience_rating</th>\n",
       "      <th>tomatometer_rating</th>\n",
       "    </tr>\n",
       "  </thead>\n",
       "  <tbody>\n",
       "    <tr>\n",
       "      <th>0</th>\n",
       "      <td>action &amp; adventure</td>\n",
       "      <td>57.9</td>\n",
       "      <td>54.2</td>\n",
       "    </tr>\n",
       "    <tr>\n",
       "      <th>1</th>\n",
       "      <td>animation</td>\n",
       "      <td>65.7</td>\n",
       "      <td>64.1</td>\n",
       "    </tr>\n",
       "    <tr>\n",
       "      <th>2</th>\n",
       "      <td>anime &amp; manga</td>\n",
       "      <td>75.0</td>\n",
       "      <td>75.4</td>\n",
       "    </tr>\n",
       "    <tr>\n",
       "      <th>3</th>\n",
       "      <td>art house &amp; international</td>\n",
       "      <td>66.5</td>\n",
       "      <td>71.0</td>\n",
       "    </tr>\n",
       "    <tr>\n",
       "      <th>4</th>\n",
       "      <td>classics</td>\n",
       "      <td>71.0</td>\n",
       "      <td>78.4</td>\n",
       "    </tr>\n",
       "    <tr>\n",
       "      <th>5</th>\n",
       "      <td>comedy</td>\n",
       "      <td>58.4</td>\n",
       "      <td>55.1</td>\n",
       "    </tr>\n",
       "    <tr>\n",
       "      <th>6</th>\n",
       "      <td>cult movies</td>\n",
       "      <td>55.8</td>\n",
       "      <td>60.5</td>\n",
       "    </tr>\n",
       "    <tr>\n",
       "      <th>7</th>\n",
       "      <td>documentary</td>\n",
       "      <td>73.3</td>\n",
       "      <td>80.9</td>\n",
       "    </tr>\n",
       "    <tr>\n",
       "      <th>8</th>\n",
       "      <td>drama</td>\n",
       "      <td>63.1</td>\n",
       "      <td>63.2</td>\n",
       "    </tr>\n",
       "    <tr>\n",
       "      <th>9</th>\n",
       "      <td>faith &amp; spirituality</td>\n",
       "      <td>70.3</td>\n",
       "      <td>63.9</td>\n",
       "    </tr>\n",
       "    <tr>\n",
       "      <th>10</th>\n",
       "      <td>gay &amp; lesbian</td>\n",
       "      <td>61.5</td>\n",
       "      <td>57.6</td>\n",
       "    </tr>\n",
       "    <tr>\n",
       "      <th>11</th>\n",
       "      <td>horror</td>\n",
       "      <td>46.4</td>\n",
       "      <td>51.6</td>\n",
       "    </tr>\n",
       "    <tr>\n",
       "      <th>12</th>\n",
       "      <td>kids &amp; family</td>\n",
       "      <td>60.3</td>\n",
       "      <td>55.7</td>\n",
       "    </tr>\n",
       "    <tr>\n",
       "      <th>13</th>\n",
       "      <td>musical &amp; performing arts</td>\n",
       "      <td>70.9</td>\n",
       "      <td>71.0</td>\n",
       "    </tr>\n",
       "    <tr>\n",
       "      <th>14</th>\n",
       "      <td>mystery &amp; suspense</td>\n",
       "      <td>54.0</td>\n",
       "      <td>55.3</td>\n",
       "    </tr>\n",
       "    <tr>\n",
       "      <th>15</th>\n",
       "      <td>romance</td>\n",
       "      <td>63.4</td>\n",
       "      <td>60.5</td>\n",
       "    </tr>\n",
       "    <tr>\n",
       "      <th>16</th>\n",
       "      <td>science fiction &amp; fantasy</td>\n",
       "      <td>56.7</td>\n",
       "      <td>55.9</td>\n",
       "    </tr>\n",
       "    <tr>\n",
       "      <th>17</th>\n",
       "      <td>special interest</td>\n",
       "      <td>72.0</td>\n",
       "      <td>77.7</td>\n",
       "    </tr>\n",
       "    <tr>\n",
       "      <th>18</th>\n",
       "      <td>sports &amp; fitness</td>\n",
       "      <td>73.4</td>\n",
       "      <td>71.0</td>\n",
       "    </tr>\n",
       "    <tr>\n",
       "      <th>19</th>\n",
       "      <td>television</td>\n",
       "      <td>66.8</td>\n",
       "      <td>72.4</td>\n",
       "    </tr>\n",
       "    <tr>\n",
       "      <th>20</th>\n",
       "      <td>western</td>\n",
       "      <td>64.6</td>\n",
       "      <td>68.5</td>\n",
       "    </tr>\n",
       "  </tbody>\n",
       "</table>\n",
       "</div>"
      ],
      "text/plain": [
       "                       genres  audience_rating  tomatometer_rating\n",
       "0          action & adventure             57.9                54.2\n",
       "1                   animation             65.7                64.1\n",
       "2               anime & manga             75.0                75.4\n",
       "3   art house & international             66.5                71.0\n",
       "4                    classics             71.0                78.4\n",
       "5                      comedy             58.4                55.1\n",
       "6                 cult movies             55.8                60.5\n",
       "7                 documentary             73.3                80.9\n",
       "8                       drama             63.1                63.2\n",
       "9        faith & spirituality             70.3                63.9\n",
       "10              gay & lesbian             61.5                57.6\n",
       "11                     horror             46.4                51.6\n",
       "12              kids & family             60.3                55.7\n",
       "13  musical & performing arts             70.9                71.0\n",
       "14         mystery & suspense             54.0                55.3\n",
       "15                    romance             63.4                60.5\n",
       "16  science fiction & fantasy             56.7                55.9\n",
       "17           special interest             72.0                77.7\n",
       "18           sports & fitness             73.4                71.0\n",
       "19                 television             66.8                72.4\n",
       "20                    western             64.6                68.5"
      ]
     },
     "execution_count": 599,
     "metadata": {},
     "output_type": "execute_result"
    }
   ],
   "source": [
    "# Grouping by genres and aggregating the mean of audience_rating and tomatometer_rating\n",
    "genre_rating_df = rt_movies_exploded_cleaned.groupby('genres').agg({\n",
    "    'audience_rating': 'mean',\n",
    "    'tomatometer_rating': 'mean'\n",
    "}).reset_index()\n",
    "\n",
    "# Formatting the ratings to show only one decimal place\n",
    "genre_rating_df['audience_rating'] = genre_rating_df['audience_rating'].round(1)\n",
    "genre_rating_df['tomatometer_rating'] = genre_rating_df['tomatometer_rating'].round(1)\n",
    "\n",
    "genre_rating_df"
   ]
  },
  {
   "cell_type": "code",
   "execution_count": 600,
   "id": "2cbae084",
   "metadata": {},
   "outputs": [
    {
     "data": {
      "text/plain": [
       "True"
      ]
     },
     "execution_count": 600,
     "metadata": {},
     "output_type": "execute_result"
    }
   ],
   "source": [
    "# Confirming no genres were lost after aggregation\n",
    "len(rt_movies_exploded_cleaned['genres'].value_counts()) == len(genre_rating_df)"
   ]
  },
  {
   "cell_type": "markdown",
   "id": "1314b407",
   "metadata": {},
   "source": [
    "Preparing Genres and ROI Data\n",
    "In this section, we will focus on preparing two key components: genres and Return on Investment (ROI). Both are essential for understanding the financial success and audience preferences of movies\n",
    "We'll be working with two key datasets:\n",
    "\n",
    "Movie budgets (tn.movie_budgets): Shows what each film cost to make (Production Budget), how much it earned globally (Worldwide Gross), and its Return on Investment (ROI).\n",
    "\n",
    "Movie genres (rt_movies): Tells us what categories each film falls into, like Action, Comedy, or Drama.\n",
    "\n",
    "Why does this matter? It help us understand what kinds of stories audiences love most. ROI shows us which films gave studios value for money. By connecting these dots, we can figure out which types of movies are both popular AND profitable."
   ]
  },
  {
   "cell_type": "markdown",
   "id": "c74cadc4",
   "metadata": {},
   "source": [
    "Merging Appropriate Tables\n",
    "We will merge the tn.movie_budgets dataset (which contains production budgets and worldwide gross revenue) with the rt_movies dataset (which includes genre information) to create a consolidated table that includes both genres and ROI for each movie."
   ]
  },
  {
   "cell_type": "code",
   "execution_count": 601,
   "id": "8b563509",
   "metadata": {},
   "outputs": [
    {
     "data": {
      "application/vnd.microsoft.datawrangler.viewer.v0+json": {
       "columns": [
        {
         "name": "index",
         "rawType": "int64",
         "type": "integer"
        },
        {
         "name": "id",
         "rawType": "int64",
         "type": "integer"
        },
        {
         "name": "release_date",
         "rawType": "object",
         "type": "string"
        },
        {
         "name": "movie",
         "rawType": "object",
         "type": "string"
        },
        {
         "name": "production_budget",
         "rawType": "object",
         "type": "string"
        },
        {
         "name": "domestic_gross",
         "rawType": "object",
         "type": "string"
        },
        {
         "name": "worldwide_gross",
         "rawType": "object",
         "type": "string"
        },
        {
         "name": "genres",
         "rawType": "object",
         "type": "unknown"
        }
       ],
       "ref": "4820afe5-4c4e-46d4-8814-5f15bf756838",
       "rows": [
        [
         "0",
         "1",
         "Dec 18, 2009",
         "avatar",
         "$425,000,000",
         "$760,507,625",
         "$2,776,345,279",
         "Action & Adventure, Comedy, Mystery & Suspense, Science Fiction & Fantasy"
        ],
        [
         "1",
         "2",
         "May 20, 2011",
         "pirates of the caribbean: on stranger tides",
         "$410,600,000",
         "$241,063,875",
         "$1,045,663,875",
         "Action & Adventure, Comedy, Science Fiction & Fantasy"
        ],
        [
         "2",
         "3",
         "Jun 7, 2019",
         "dark phoenix",
         "$350,000,000",
         "$42,762,350",
         "$149,762,350",
         "Action & Adventure, Drama, Science Fiction & Fantasy"
        ],
        [
         "3",
         "4",
         "May 1, 2015",
         "avengers: age of ultron",
         "$330,600,000",
         "$459,005,868",
         "$1,403,013,963",
         "Action & Adventure, Science Fiction & Fantasy"
        ],
        [
         "4",
         "5",
         "Dec 15, 2017",
         "star wars ep. viii: the last jedi",
         "$317,000,000",
         "$620,181,382",
         "$1,316,721,747",
         null
        ]
       ],
       "shape": {
        "columns": 7,
        "rows": 5
       }
      },
      "text/html": [
       "<div>\n",
       "<style scoped>\n",
       "    .dataframe tbody tr th:only-of-type {\n",
       "        vertical-align: middle;\n",
       "    }\n",
       "\n",
       "    .dataframe tbody tr th {\n",
       "        vertical-align: top;\n",
       "    }\n",
       "\n",
       "    .dataframe thead th {\n",
       "        text-align: right;\n",
       "    }\n",
       "</style>\n",
       "<table border=\"1\" class=\"dataframe\">\n",
       "  <thead>\n",
       "    <tr style=\"text-align: right;\">\n",
       "      <th></th>\n",
       "      <th>id</th>\n",
       "      <th>release_date</th>\n",
       "      <th>movie</th>\n",
       "      <th>production_budget</th>\n",
       "      <th>domestic_gross</th>\n",
       "      <th>worldwide_gross</th>\n",
       "      <th>genres</th>\n",
       "    </tr>\n",
       "  </thead>\n",
       "  <tbody>\n",
       "    <tr>\n",
       "      <th>0</th>\n",
       "      <td>1</td>\n",
       "      <td>Dec 18, 2009</td>\n",
       "      <td>avatar</td>\n",
       "      <td>$425,000,000</td>\n",
       "      <td>$760,507,625</td>\n",
       "      <td>$2,776,345,279</td>\n",
       "      <td>Action &amp; Adventure, Comedy, Mystery &amp; Suspense...</td>\n",
       "    </tr>\n",
       "    <tr>\n",
       "      <th>1</th>\n",
       "      <td>2</td>\n",
       "      <td>May 20, 2011</td>\n",
       "      <td>pirates of the caribbean: on stranger tides</td>\n",
       "      <td>$410,600,000</td>\n",
       "      <td>$241,063,875</td>\n",
       "      <td>$1,045,663,875</td>\n",
       "      <td>Action &amp; Adventure, Comedy, Science Fiction &amp; ...</td>\n",
       "    </tr>\n",
       "    <tr>\n",
       "      <th>2</th>\n",
       "      <td>3</td>\n",
       "      <td>Jun 7, 2019</td>\n",
       "      <td>dark phoenix</td>\n",
       "      <td>$350,000,000</td>\n",
       "      <td>$42,762,350</td>\n",
       "      <td>$149,762,350</td>\n",
       "      <td>Action &amp; Adventure, Drama, Science Fiction &amp; F...</td>\n",
       "    </tr>\n",
       "    <tr>\n",
       "      <th>3</th>\n",
       "      <td>4</td>\n",
       "      <td>May 1, 2015</td>\n",
       "      <td>avengers: age of ultron</td>\n",
       "      <td>$330,600,000</td>\n",
       "      <td>$459,005,868</td>\n",
       "      <td>$1,403,013,963</td>\n",
       "      <td>Action &amp; Adventure, Science Fiction &amp; Fantasy</td>\n",
       "    </tr>\n",
       "    <tr>\n",
       "      <th>4</th>\n",
       "      <td>5</td>\n",
       "      <td>Dec 15, 2017</td>\n",
       "      <td>star wars ep. viii: the last jedi</td>\n",
       "      <td>$317,000,000</td>\n",
       "      <td>$620,181,382</td>\n",
       "      <td>$1,316,721,747</td>\n",
       "      <td>NaN</td>\n",
       "    </tr>\n",
       "  </tbody>\n",
       "</table>\n",
       "</div>"
      ],
      "text/plain": [
       "   id  release_date                                        movie  \\\n",
       "0   1  Dec 18, 2009                                       avatar   \n",
       "1   2  May 20, 2011  pirates of the caribbean: on stranger tides   \n",
       "2   3   Jun 7, 2019                                 dark phoenix   \n",
       "3   4   May 1, 2015                      avengers: age of ultron   \n",
       "4   5  Dec 15, 2017            star wars ep. viii: the last jedi   \n",
       "\n",
       "  production_budget domestic_gross worldwide_gross  \\\n",
       "0      $425,000,000   $760,507,625  $2,776,345,279   \n",
       "1      $410,600,000   $241,063,875  $1,045,663,875   \n",
       "2      $350,000,000    $42,762,350    $149,762,350   \n",
       "3      $330,600,000   $459,005,868  $1,403,013,963   \n",
       "4      $317,000,000   $620,181,382  $1,316,721,747   \n",
       "\n",
       "                                              genres  \n",
       "0  Action & Adventure, Comedy, Mystery & Suspense...  \n",
       "1  Action & Adventure, Comedy, Science Fiction & ...  \n",
       "2  Action & Adventure, Drama, Science Fiction & F...  \n",
       "3      Action & Adventure, Science Fiction & Fantasy  \n",
       "4                                                NaN  "
      ]
     },
     "execution_count": 601,
     "metadata": {},
     "output_type": "execute_result"
    }
   ],
   "source": [
    "# Prepare movie titles for better matching (remove special characters, lower case)\n",
    "tn_df['movie'] = tn_df['movie'].str.strip().str.lower()\n",
    "rt_df['movie_title'] = rt_df['movie_title'].str.strip().str.lower()\n",
    "\n",
    "# Merge the datasets on the appropriate columns\n",
    "merged_df = tn_df.merge(rt_df[['movie_title', 'genres']], left_on='movie', right_on='movie_title', how='left')\n",
    "\n",
    "# Drop duplicate movie_title column if you want\n",
    "merged_df = merged_df.drop(columns=['movie_title'])\n",
    "\n",
    "merged_df.head()"
   ]
  },
  {
   "cell_type": "markdown",
   "id": "20c996bc",
   "metadata": {},
   "source": [
    "ROI Computation\n",
    "ROI is a key financial metric that helps us assess the profitability of a film relative to its production cost. By calculating the ROI for each movie, we better understand which films have been the most financially successful and use that insight to inform future production decisions.\n",
    "\n",
    "The calculation of ROI will be based on the formula:\n",
    "\n",
    "ROI = (Worldwide Gross - Production Budget) ÷ Production Budget × 100"
   ]
  },
  {
   "cell_type": "code",
   "execution_count": 602,
   "id": "9fe4bb4f",
   "metadata": {},
   "outputs": [
    {
     "data": {
      "application/vnd.microsoft.datawrangler.viewer.v0+json": {
       "columns": [
        {
         "name": "index",
         "rawType": "int64",
         "type": "integer"
        },
        {
         "name": "genres",
         "rawType": "object",
         "type": "unknown"
        },
        {
         "name": "movie",
         "rawType": "object",
         "type": "string"
        },
        {
         "name": "production_budget",
         "rawType": "float64",
         "type": "float"
        },
        {
         "name": "worldwide_gross",
         "rawType": "float64",
         "type": "float"
        },
        {
         "name": "ROI (%)",
         "rawType": "float64",
         "type": "float"
        }
       ],
       "ref": "acbf3655-6057-4ea5-b28b-36d1949812f8",
       "rows": [
        [
         "0",
         "Action & Adventure, Comedy, Mystery & Suspense, Science Fiction & Fantasy",
         "avatar",
         "425000000.0",
         "2776345279.0",
         "553.0"
        ],
        [
         "1",
         "Action & Adventure, Comedy, Science Fiction & Fantasy",
         "pirates of the caribbean: on stranger tides",
         "410600000.0",
         "1045663875.0",
         "155.0"
        ],
        [
         "2",
         "Action & Adventure, Drama, Science Fiction & Fantasy",
         "dark phoenix",
         "350000000.0",
         "149762350.0",
         "-57.0"
        ],
        [
         "3",
         "Action & Adventure, Science Fiction & Fantasy",
         "avengers: age of ultron",
         "330600000.0",
         "1403013963.0",
         "324.0"
        ],
        [
         "4",
         null,
         "star wars ep. viii: the last jedi",
         "317000000.0",
         "1316721747.0",
         "315.0"
        ]
       ],
       "shape": {
        "columns": 5,
        "rows": 5
       }
      },
      "text/html": [
       "<div>\n",
       "<style scoped>\n",
       "    .dataframe tbody tr th:only-of-type {\n",
       "        vertical-align: middle;\n",
       "    }\n",
       "\n",
       "    .dataframe tbody tr th {\n",
       "        vertical-align: top;\n",
       "    }\n",
       "\n",
       "    .dataframe thead th {\n",
       "        text-align: right;\n",
       "    }\n",
       "</style>\n",
       "<table border=\"1\" class=\"dataframe\">\n",
       "  <thead>\n",
       "    <tr style=\"text-align: right;\">\n",
       "      <th></th>\n",
       "      <th>genres</th>\n",
       "      <th>movie</th>\n",
       "      <th>production_budget</th>\n",
       "      <th>worldwide_gross</th>\n",
       "      <th>ROI (%)</th>\n",
       "    </tr>\n",
       "  </thead>\n",
       "  <tbody>\n",
       "    <tr>\n",
       "      <th>0</th>\n",
       "      <td>Action &amp; Adventure, Comedy, Mystery &amp; Suspense...</td>\n",
       "      <td>avatar</td>\n",
       "      <td>425000000.0</td>\n",
       "      <td>2.776345e+09</td>\n",
       "      <td>553.0</td>\n",
       "    </tr>\n",
       "    <tr>\n",
       "      <th>1</th>\n",
       "      <td>Action &amp; Adventure, Comedy, Science Fiction &amp; ...</td>\n",
       "      <td>pirates of the caribbean: on stranger tides</td>\n",
       "      <td>410600000.0</td>\n",
       "      <td>1.045664e+09</td>\n",
       "      <td>155.0</td>\n",
       "    </tr>\n",
       "    <tr>\n",
       "      <th>2</th>\n",
       "      <td>Action &amp; Adventure, Drama, Science Fiction &amp; F...</td>\n",
       "      <td>dark phoenix</td>\n",
       "      <td>350000000.0</td>\n",
       "      <td>1.497624e+08</td>\n",
       "      <td>-57.0</td>\n",
       "    </tr>\n",
       "    <tr>\n",
       "      <th>3</th>\n",
       "      <td>Action &amp; Adventure, Science Fiction &amp; Fantasy</td>\n",
       "      <td>avengers: age of ultron</td>\n",
       "      <td>330600000.0</td>\n",
       "      <td>1.403014e+09</td>\n",
       "      <td>324.0</td>\n",
       "    </tr>\n",
       "    <tr>\n",
       "      <th>4</th>\n",
       "      <td>NaN</td>\n",
       "      <td>star wars ep. viii: the last jedi</td>\n",
       "      <td>317000000.0</td>\n",
       "      <td>1.316722e+09</td>\n",
       "      <td>315.0</td>\n",
       "    </tr>\n",
       "  </tbody>\n",
       "</table>\n",
       "</div>"
      ],
      "text/plain": [
       "                                              genres  \\\n",
       "0  Action & Adventure, Comedy, Mystery & Suspense...   \n",
       "1  Action & Adventure, Comedy, Science Fiction & ...   \n",
       "2  Action & Adventure, Drama, Science Fiction & F...   \n",
       "3      Action & Adventure, Science Fiction & Fantasy   \n",
       "4                                                NaN   \n",
       "\n",
       "                                         movie  production_budget  \\\n",
       "0                                       avatar        425000000.0   \n",
       "1  pirates of the caribbean: on stranger tides        410600000.0   \n",
       "2                                 dark phoenix        350000000.0   \n",
       "3                      avengers: age of ultron        330600000.0   \n",
       "4            star wars ep. viii: the last jedi        317000000.0   \n",
       "\n",
       "   worldwide_gross  ROI (%)  \n",
       "0     2.776345e+09    553.0  \n",
       "1     1.045664e+09    155.0  \n",
       "2     1.497624e+08    -57.0  \n",
       "3     1.403014e+09    324.0  \n",
       "4     1.316722e+09    315.0  "
      ]
     },
     "execution_count": 602,
     "metadata": {},
     "output_type": "execute_result"
    }
   ],
   "source": [
    "# Clean up the dollar signs and commas and convert columns to numeric\n",
    "merged_df['production_budget'] = merged_df['production_budget'].replace([r'[\\$,]'], '', regex=True).astype(float)\n",
    "merged_df['worldwide_gross'] = merged_df['worldwide_gross'].replace([r'[\\$,]'], '', regex=True).astype(float)\n",
    "\n",
    "# Calculate ROI\n",
    "merged_df['ROI (%)'] = ((merged_df['worldwide_gross'] - merged_df['production_budget']) / merged_df['production_budget']) * 100\n",
    "\n",
    "# Round ROI to nearest whole number\n",
    "merged_df['ROI (%)'] = merged_df['ROI (%)'].round()\n",
    "\n",
    "# Group by 'movie' and calculate the mean ROI (though each movie is unique here)\n",
    "roi_grouped = merged_df.groupby('movie')[['ROI (%)']].mean().reset_index()\n",
    "\n",
    "# Final table: Comparison between genres and the grouped movie ROI, while keeping the production_budget and worldwide_gross columns\n",
    "final_table = merged_df[['genres', 'movie', 'production_budget', 'worldwide_gross']].merge(roi_grouped, on='movie')\n",
    "\n",
    "final_table.head()"
   ]
  },
  {
   "cell_type": "markdown",
   "id": "6e3e3aee",
   "metadata": {},
   "source": [
    "Handling Missing Values"
   ]
  },
  {
   "cell_type": "code",
   "execution_count": 603,
   "id": "3352bba7",
   "metadata": {},
   "outputs": [
    {
     "data": {
      "application/vnd.microsoft.datawrangler.viewer.v0+json": {
       "columns": [
        {
         "name": "index",
         "rawType": "object",
         "type": "string"
        },
        {
         "name": "0",
         "rawType": "int64",
         "type": "integer"
        }
       ],
       "ref": "4b23aa01-71f9-4067-8613-15d78867d9ed",
       "rows": [
        [
         "genres",
         "1264"
        ],
        [
         "movie",
         "0"
        ],
        [
         "production_budget",
         "0"
        ],
        [
         "worldwide_gross",
         "0"
        ],
        [
         "ROI (%)",
         "0"
        ]
       ],
       "shape": {
        "columns": 1,
        "rows": 5
       }
      },
      "text/plain": [
       "genres               1264\n",
       "movie                   0\n",
       "production_budget       0\n",
       "worldwide_gross         0\n",
       "ROI (%)                 0\n",
       "dtype: int64"
      ]
     },
     "execution_count": 603,
     "metadata": {},
     "output_type": "execute_result"
    }
   ],
   "source": [
    "final_table.isna().sum()"
   ]
  },
  {
   "cell_type": "markdown",
   "id": "6a7072ca",
   "metadata": {},
   "source": [
    "Since the genres column has 1264 missing values and is crucial for our analysis, we will drop these rows as they do not provide useful information for our objectives."
   ]
  },
  {
   "cell_type": "code",
   "execution_count": 604,
   "id": "a0229770",
   "metadata": {},
   "outputs": [],
   "source": [
    "final_table.dropna(subset=['genres'], inplace=True)"
   ]
  },
  {
   "cell_type": "markdown",
   "id": "7f070f28",
   "metadata": {},
   "source": [
    "Expanding Movies into Individual Genres\n",
    "We aim to break down each movie's genre information to better understand how individual genres contribute to a movie's success. Since movies can belong to multiple genres, expanding the dataset to reflect each genre individually will allow us to analyze the performance of each genre separately."
   ]
  },
  {
   "cell_type": "code",
   "execution_count": 605,
   "id": "fc2bbb0a",
   "metadata": {},
   "outputs": [
    {
     "data": {
      "application/vnd.microsoft.datawrangler.viewer.v0+json": {
       "columns": [
        {
         "name": "index",
         "rawType": "int64",
         "type": "integer"
        },
        {
         "name": "genres",
         "rawType": "object",
         "type": "string"
        },
        {
         "name": "movie",
         "rawType": "object",
         "type": "string"
        },
        {
         "name": "production_budget",
         "rawType": "float64",
         "type": "float"
        },
        {
         "name": "worldwide_gross",
         "rawType": "float64",
         "type": "float"
        },
        {
         "name": "ROI (%)",
         "rawType": "float64",
         "type": "float"
        }
       ],
       "ref": "99b41956-023e-4389-a636-54c362bbb1fa",
       "rows": [
        [
         "0",
         "Action & Adventure",
         "avatar",
         "425000000.0",
         "2776345279.0",
         "553.0"
        ],
        [
         "0",
         "Comedy",
         "avatar",
         "425000000.0",
         "2776345279.0",
         "553.0"
        ],
        [
         "0",
         "Mystery & Suspense",
         "avatar",
         "425000000.0",
         "2776345279.0",
         "553.0"
        ],
        [
         "0",
         "Science Fiction & Fantasy",
         "avatar",
         "425000000.0",
         "2776345279.0",
         "553.0"
        ],
        [
         "1",
         "Action & Adventure",
         "pirates of the caribbean: on stranger tides",
         "410600000.0",
         "1045663875.0",
         "155.0"
        ],
        [
         "1",
         "Comedy",
         "pirates of the caribbean: on stranger tides",
         "410600000.0",
         "1045663875.0",
         "155.0"
        ],
        [
         "1",
         "Science Fiction & Fantasy",
         "pirates of the caribbean: on stranger tides",
         "410600000.0",
         "1045663875.0",
         "155.0"
        ],
        [
         "2",
         "Action & Adventure",
         "dark phoenix",
         "350000000.0",
         "149762350.0",
         "-57.0"
        ],
        [
         "2",
         "Drama",
         "dark phoenix",
         "350000000.0",
         "149762350.0",
         "-57.0"
        ],
        [
         "2",
         "Science Fiction & Fantasy",
         "dark phoenix",
         "350000000.0",
         "149762350.0",
         "-57.0"
        ],
        [
         "3",
         "Action & Adventure",
         "avengers: age of ultron",
         "330600000.0",
         "1403013963.0",
         "324.0"
        ],
        [
         "3",
         "Science Fiction & Fantasy",
         "avengers: age of ultron",
         "330600000.0",
         "1403013963.0",
         "324.0"
        ],
        [
         "6",
         "Action & Adventure",
         "avengers: infinity war",
         "300000000.0",
         "2048134200.0",
         "583.0"
        ],
        [
         "6",
         "Science Fiction & Fantasy",
         "avengers: infinity war",
         "300000000.0",
         "2048134200.0",
         "583.0"
        ],
        [
         "8",
         "Action & Adventure",
         "justice league",
         "300000000.0",
         "655945209.0",
         "119.0"
        ],
        [
         "8",
         "Drama",
         "justice league",
         "300000000.0",
         "655945209.0",
         "119.0"
        ],
        [
         "8",
         "Science Fiction & Fantasy",
         "justice league",
         "300000000.0",
         "655945209.0",
         "119.0"
        ],
        [
         "9",
         "Action & Adventure",
         "spectre",
         "300000000.0",
         "879620923.0",
         "193.0"
        ],
        [
         "10",
         "Action & Adventure",
         "the dark knight rises",
         "275000000.0",
         "1084439099.0",
         "294.0"
        ],
        [
         "10",
         "Drama",
         "the dark knight rises",
         "275000000.0",
         "1084439099.0",
         "294.0"
        ],
        [
         "10",
         "Mystery & Suspense",
         "the dark knight rises",
         "275000000.0",
         "1084439099.0",
         "294.0"
        ],
        [
         "11",
         "Action & Adventure",
         "solo: a star wars story",
         "275000000.0",
         "393151347.0",
         "43.0"
        ],
        [
         "11",
         "Drama",
         "solo: a star wars story",
         "275000000.0",
         "393151347.0",
         "43.0"
        ],
        [
         "11",
         "Science Fiction & Fantasy",
         "solo: a star wars story",
         "275000000.0",
         "393151347.0",
         "43.0"
        ],
        [
         "12",
         "Action & Adventure",
         "the lone ranger",
         "275000000.0",
         "260002115.0",
         "-5.0"
        ],
        [
         "12",
         "Kids & Family",
         "the lone ranger",
         "275000000.0",
         "260002115.0",
         "-5.0"
        ],
        [
         "12",
         "Western",
         "the lone ranger",
         "275000000.0",
         "260002115.0",
         "-5.0"
        ],
        [
         "13",
         "Action & Adventure",
         "john carter",
         "275000000.0",
         "282778100.0",
         "3.0"
        ],
        [
         "13",
         "Horror",
         "john carter",
         "275000000.0",
         "282778100.0",
         "3.0"
        ],
        [
         "13",
         "Kids & Family",
         "john carter",
         "275000000.0",
         "282778100.0",
         "3.0"
        ],
        [
         "13",
         "Science Fiction & Fantasy",
         "john carter",
         "275000000.0",
         "282778100.0",
         "3.0"
        ],
        [
         "14",
         "Animation",
         "tangled",
         "260000000.0",
         "586477240.0",
         "126.0"
        ],
        [
         "14",
         "Comedy",
         "tangled",
         "260000000.0",
         "586477240.0",
         "126.0"
        ],
        [
         "14",
         "Kids & Family",
         "tangled",
         "260000000.0",
         "586477240.0",
         "126.0"
        ],
        [
         "14",
         "Musical & Performing Arts",
         "tangled",
         "260000000.0",
         "586477240.0",
         "126.0"
        ],
        [
         "15",
         "Action & Adventure",
         "spider-man 3",
         "258000000.0",
         "894860230.0",
         "247.0"
        ],
        [
         "15",
         "Mystery & Suspense",
         "spider-man 3",
         "258000000.0",
         "894860230.0",
         "247.0"
        ],
        [
         "15",
         "Science Fiction & Fantasy",
         "spider-man 3",
         "258000000.0",
         "894860230.0",
         "247.0"
        ],
        [
         "16",
         "Action & Adventure",
         "captain america: civil war",
         "250000000.0",
         "1140069413.0",
         "356.0"
        ],
        [
         "16",
         "Science Fiction & Fantasy",
         "captain america: civil war",
         "250000000.0",
         "1140069413.0",
         "356.0"
        ],
        [
         "17",
         "Action & Adventure",
         "batman v superman: dawn of justice",
         "250000000.0",
         "867500281.0",
         "247.0"
        ],
        [
         "17",
         "Science Fiction & Fantasy",
         "batman v superman: dawn of justice",
         "250000000.0",
         "867500281.0",
         "247.0"
        ],
        [
         "18",
         "Action & Adventure",
         "the hobbit: an unexpected journey",
         "250000000.0",
         "1017003568.0",
         "307.0"
        ],
        [
         "18",
         "Science Fiction & Fantasy",
         "the hobbit: an unexpected journey",
         "250000000.0",
         "1017003568.0",
         "307.0"
        ],
        [
         "19",
         "Action & Adventure",
         "harry potter and the half-blood prince",
         "250000000.0",
         "935213767.0",
         "274.0"
        ],
        [
         "19",
         "Drama",
         "harry potter and the half-blood prince",
         "250000000.0",
         "935213767.0",
         "274.0"
        ],
        [
         "19",
         "Kids & Family",
         "harry potter and the half-blood prince",
         "250000000.0",
         "935213767.0",
         "274.0"
        ],
        [
         "19",
         "Mystery & Suspense",
         "harry potter and the half-blood prince",
         "250000000.0",
         "935213767.0",
         "274.0"
        ],
        [
         "19",
         "Science Fiction & Fantasy",
         "harry potter and the half-blood prince",
         "250000000.0",
         "935213767.0",
         "274.0"
        ],
        [
         "20",
         "Action & Adventure",
         "the hobbit: the desolation of smaug",
         "250000000.0",
         "960366855.0",
         "284.0"
        ]
       ],
       "shape": {
        "columns": 5,
        "rows": 10909
       }
      },
      "text/html": [
       "<div>\n",
       "<style scoped>\n",
       "    .dataframe tbody tr th:only-of-type {\n",
       "        vertical-align: middle;\n",
       "    }\n",
       "\n",
       "    .dataframe tbody tr th {\n",
       "        vertical-align: top;\n",
       "    }\n",
       "\n",
       "    .dataframe thead th {\n",
       "        text-align: right;\n",
       "    }\n",
       "</style>\n",
       "<table border=\"1\" class=\"dataframe\">\n",
       "  <thead>\n",
       "    <tr style=\"text-align: right;\">\n",
       "      <th></th>\n",
       "      <th>genres</th>\n",
       "      <th>movie</th>\n",
       "      <th>production_budget</th>\n",
       "      <th>worldwide_gross</th>\n",
       "      <th>ROI (%)</th>\n",
       "    </tr>\n",
       "  </thead>\n",
       "  <tbody>\n",
       "    <tr>\n",
       "      <th>0</th>\n",
       "      <td>Action &amp; Adventure</td>\n",
       "      <td>avatar</td>\n",
       "      <td>425000000.0</td>\n",
       "      <td>2.776345e+09</td>\n",
       "      <td>553.0</td>\n",
       "    </tr>\n",
       "    <tr>\n",
       "      <th>0</th>\n",
       "      <td>Comedy</td>\n",
       "      <td>avatar</td>\n",
       "      <td>425000000.0</td>\n",
       "      <td>2.776345e+09</td>\n",
       "      <td>553.0</td>\n",
       "    </tr>\n",
       "    <tr>\n",
       "      <th>0</th>\n",
       "      <td>Mystery &amp; Suspense</td>\n",
       "      <td>avatar</td>\n",
       "      <td>425000000.0</td>\n",
       "      <td>2.776345e+09</td>\n",
       "      <td>553.0</td>\n",
       "    </tr>\n",
       "    <tr>\n",
       "      <th>0</th>\n",
       "      <td>Science Fiction &amp; Fantasy</td>\n",
       "      <td>avatar</td>\n",
       "      <td>425000000.0</td>\n",
       "      <td>2.776345e+09</td>\n",
       "      <td>553.0</td>\n",
       "    </tr>\n",
       "    <tr>\n",
       "      <th>1</th>\n",
       "      <td>Action &amp; Adventure</td>\n",
       "      <td>pirates of the caribbean: on stranger tides</td>\n",
       "      <td>410600000.0</td>\n",
       "      <td>1.045664e+09</td>\n",
       "      <td>155.0</td>\n",
       "    </tr>\n",
       "    <tr>\n",
       "      <th>...</th>\n",
       "      <td>...</td>\n",
       "      <td>...</td>\n",
       "      <td>...</td>\n",
       "      <td>...</td>\n",
       "      <td>...</td>\n",
       "    </tr>\n",
       "    <tr>\n",
       "      <th>6223</th>\n",
       "      <td>Mystery &amp; Suspense</td>\n",
       "      <td>following</td>\n",
       "      <td>6000.0</td>\n",
       "      <td>2.404950e+05</td>\n",
       "      <td>3908.0</td>\n",
       "    </tr>\n",
       "    <tr>\n",
       "      <th>6226</th>\n",
       "      <td>Comedy</td>\n",
       "      <td>my date with drew</td>\n",
       "      <td>1100.0</td>\n",
       "      <td>1.810410e+05</td>\n",
       "      <td>16358.0</td>\n",
       "    </tr>\n",
       "    <tr>\n",
       "      <th>6226</th>\n",
       "      <td>Documentary</td>\n",
       "      <td>my date with drew</td>\n",
       "      <td>1100.0</td>\n",
       "      <td>1.810410e+05</td>\n",
       "      <td>16358.0</td>\n",
       "    </tr>\n",
       "    <tr>\n",
       "      <th>6226</th>\n",
       "      <td>Special Interest</td>\n",
       "      <td>my date with drew</td>\n",
       "      <td>1100.0</td>\n",
       "      <td>1.810410e+05</td>\n",
       "      <td>16358.0</td>\n",
       "    </tr>\n",
       "    <tr>\n",
       "      <th>6226</th>\n",
       "      <td>Television</td>\n",
       "      <td>my date with drew</td>\n",
       "      <td>1100.0</td>\n",
       "      <td>1.810410e+05</td>\n",
       "      <td>16358.0</td>\n",
       "    </tr>\n",
       "  </tbody>\n",
       "</table>\n",
       "<p>10909 rows × 5 columns</p>\n",
       "</div>"
      ],
      "text/plain": [
       "                         genres                                        movie  \\\n",
       "0            Action & Adventure                                       avatar   \n",
       "0                        Comedy                                       avatar   \n",
       "0            Mystery & Suspense                                       avatar   \n",
       "0     Science Fiction & Fantasy                                       avatar   \n",
       "1            Action & Adventure  pirates of the caribbean: on stranger tides   \n",
       "...                         ...                                          ...   \n",
       "6223         Mystery & Suspense                                    following   \n",
       "6226                     Comedy                            my date with drew   \n",
       "6226                Documentary                            my date with drew   \n",
       "6226           Special Interest                            my date with drew   \n",
       "6226                 Television                            my date with drew   \n",
       "\n",
       "      production_budget  worldwide_gross  ROI (%)  \n",
       "0           425000000.0     2.776345e+09    553.0  \n",
       "0           425000000.0     2.776345e+09    553.0  \n",
       "0           425000000.0     2.776345e+09    553.0  \n",
       "0           425000000.0     2.776345e+09    553.0  \n",
       "1           410600000.0     1.045664e+09    155.0  \n",
       "...                 ...              ...      ...  \n",
       "6223             6000.0     2.404950e+05   3908.0  \n",
       "6226             1100.0     1.810410e+05  16358.0  \n",
       "6226             1100.0     1.810410e+05  16358.0  \n",
       "6226             1100.0     1.810410e+05  16358.0  \n",
       "6226             1100.0     1.810410e+05  16358.0  \n",
       "\n",
       "[10909 rows x 5 columns]"
      ]
     },
     "execution_count": 605,
     "metadata": {},
     "output_type": "execute_result"
    }
   ],
   "source": [
    "# Split genres into a list\n",
    "final_table['genres'] = final_table['genres'].str.split(',')\n",
    "\n",
    "# Explode the list into separate rows\n",
    "exploded_table = final_table.explode('genres')\n",
    "\n",
    "# Remove extra spaces around genre names\n",
    "exploded_table['genres'] = exploded_table['genres'].str.strip()\n",
    "exploded_table"
   ]
  },
  {
   "cell_type": "markdown",
   "id": "d719891b",
   "metadata": {},
   "source": [
    "Cleaning and Grouping by Genres\n",
    "We aim to clean the data and group the movies by their genres to calculate the average Return on Investment (ROI) for each genre. Cleaning the data ensures that we remove any rows with missing or invalid information. Sorting the data by ROI will help us identify the top-performing genres, providing valuable information for future movie production decisions."
   ]
  },
  {
   "cell_type": "code",
   "execution_count": 606,
   "id": "43cf4b20",
   "metadata": {},
   "outputs": [
    {
     "data": {
      "application/vnd.microsoft.datawrangler.viewer.v0+json": {
       "columns": [
        {
         "name": "index",
         "rawType": "int64",
         "type": "integer"
        },
        {
         "name": "genres",
         "rawType": "object",
         "type": "string"
        },
        {
         "name": "ROI (%)",
         "rawType": "float64",
         "type": "float"
        },
        {
         "name": "production_budget",
         "rawType": "float64",
         "type": "float"
        },
        {
         "name": "worldwide_gross",
         "rawType": "float64",
         "type": "float"
        }
       ],
       "ref": "9b90ae0a-0864-4323-aa6b-34f5896e707c",
       "rows": [
        [
         "0",
         "Cult Movies",
         "4669.958333333333",
         "25458458.333333332",
         "82534667.79166667"
        ],
        [
         "1",
         "Horror",
         "975.2982171799027",
         "24644058.346839547",
         "77167843.10048622"
        ],
        [
         "2",
         "Special Interest",
         "932.2096774193549",
         "12172355.64516129",
         "32016139.822580647"
        ],
        [
         "3",
         "Documentary",
         "868.5864661654135",
         "13238790.22556391",
         "31994232.69924812"
        ],
        [
         "4",
         "Classics",
         "839.8736842105263",
         "31864089.961403508",
         "103425171.41403508"
        ]
       ],
       "shape": {
        "columns": 4,
        "rows": 5
       }
      },
      "text/html": [
       "<div>\n",
       "<style scoped>\n",
       "    .dataframe tbody tr th:only-of-type {\n",
       "        vertical-align: middle;\n",
       "    }\n",
       "\n",
       "    .dataframe tbody tr th {\n",
       "        vertical-align: top;\n",
       "    }\n",
       "\n",
       "    .dataframe thead th {\n",
       "        text-align: right;\n",
       "    }\n",
       "</style>\n",
       "<table border=\"1\" class=\"dataframe\">\n",
       "  <thead>\n",
       "    <tr style=\"text-align: right;\">\n",
       "      <th></th>\n",
       "      <th>genres</th>\n",
       "      <th>ROI (%)</th>\n",
       "      <th>production_budget</th>\n",
       "      <th>worldwide_gross</th>\n",
       "    </tr>\n",
       "  </thead>\n",
       "  <tbody>\n",
       "    <tr>\n",
       "      <th>0</th>\n",
       "      <td>Cult Movies</td>\n",
       "      <td>4669.958333</td>\n",
       "      <td>2.545846e+07</td>\n",
       "      <td>8.253467e+07</td>\n",
       "    </tr>\n",
       "    <tr>\n",
       "      <th>1</th>\n",
       "      <td>Horror</td>\n",
       "      <td>975.298217</td>\n",
       "      <td>2.464406e+07</td>\n",
       "      <td>7.716784e+07</td>\n",
       "    </tr>\n",
       "    <tr>\n",
       "      <th>2</th>\n",
       "      <td>Special Interest</td>\n",
       "      <td>932.209677</td>\n",
       "      <td>1.217236e+07</td>\n",
       "      <td>3.201614e+07</td>\n",
       "    </tr>\n",
       "    <tr>\n",
       "      <th>3</th>\n",
       "      <td>Documentary</td>\n",
       "      <td>868.586466</td>\n",
       "      <td>1.323879e+07</td>\n",
       "      <td>3.199423e+07</td>\n",
       "    </tr>\n",
       "    <tr>\n",
       "      <th>4</th>\n",
       "      <td>Classics</td>\n",
       "      <td>839.873684</td>\n",
       "      <td>3.186409e+07</td>\n",
       "      <td>1.034252e+08</td>\n",
       "    </tr>\n",
       "  </tbody>\n",
       "</table>\n",
       "</div>"
      ],
      "text/plain": [
       "             genres      ROI (%)  production_budget  worldwide_gross\n",
       "0       Cult Movies  4669.958333       2.545846e+07     8.253467e+07\n",
       "1            Horror   975.298217       2.464406e+07     7.716784e+07\n",
       "2  Special Interest   932.209677       1.217236e+07     3.201614e+07\n",
       "3       Documentary   868.586466       1.323879e+07     3.199423e+07\n",
       "4          Classics   839.873684       3.186409e+07     1.034252e+08"
      ]
     },
     "execution_count": 606,
     "metadata": {},
     "output_type": "execute_result"
    }
   ],
   "source": [
    "# Drop rows with NULLs in important columns\n",
    "exploded_table = exploded_table.dropna(subset=['genres', 'movie', 'ROI (%)'])\n",
    "\n",
    "# Group by 'genres' and calculate average ROI, production_budget, and worldwide_gross\n",
    "grouped_table = exploded_table.groupby('genres').agg({\n",
    "    'ROI (%)': 'mean',              # Average ROI\n",
    "    'production_budget': 'mean',    # Average production_budget\n",
    "    'worldwide_gross': 'mean'       # Average worldwide_gross\n",
    "}).reset_index()\n",
    "\n",
    "# Sort by ROI in descending order\n",
    "grouped_table = grouped_table.sort_values(by='ROI (%)', ascending=False)\n",
    "\n",
    "# Reset index to clean it up\n",
    "grouped_table = grouped_table.reset_index(drop=True)\n",
    "\n",
    "grouped_table.head()"
   ]
  },
  {
   "cell_type": "markdown",
   "id": "a3577ff2",
   "metadata": {},
   "source": [
    "Normalise ROI\n",
    "We normalize the ROI (%) values so they collectively sum to 100%. This helps us interpret each genre's contribution to the total ROI as a percentage share."
   ]
  },
  {
   "cell_type": "code",
   "execution_count": 607,
   "id": "55c77814",
   "metadata": {},
   "outputs": [
    {
     "data": {
      "application/vnd.microsoft.datawrangler.viewer.v0+json": {
       "columns": [
        {
         "name": "index",
         "rawType": "int64",
         "type": "integer"
        },
        {
         "name": "genres",
         "rawType": "object",
         "type": "string"
        },
        {
         "name": "ROI (%)",
         "rawType": "float64",
         "type": "float"
        },
        {
         "name": "production_budget",
         "rawType": "float64",
         "type": "float"
        },
        {
         "name": "worldwide_gross",
         "rawType": "float64",
         "type": "float"
        },
        {
         "name": "Normalized_ROI",
         "rawType": "float64",
         "type": "float"
        }
       ],
       "ref": "7ffa4714-036e-47a5-a750-d133c5f0ac40",
       "rows": [
        [
         "0",
         "Cult Movies",
         "4669.958333333333",
         "25458458.333333332",
         "82534667.79166667",
         "31.341139330834945"
        ],
        [
         "1",
         "Horror",
         "975.2982171799027",
         "24644058.346839547",
         "77167843.10048622",
         "6.5454454048484205"
        ],
        [
         "2",
         "Special Interest",
         "932.2096774193549",
         "12172355.64516129",
         "32016139.822580647",
         "6.256268536061751"
        ],
        [
         "3",
         "Documentary",
         "868.5864661654135",
         "13238790.22556391",
         "31994232.69924812",
         "5.829278874429882"
        ],
        [
         "4",
         "Classics",
         "839.8736842105263",
         "31864089.961403508",
         "103425171.41403508",
         "5.636580945328301"
        ],
        [
         "5",
         "Sports & Fitness",
         "740.6190476190476",
         "25268095.23809524",
         "78229370.38095239",
         "4.970460784803331"
        ],
        [
         "6",
         "Television",
         "695.3703703703703",
         "29038744.444444444",
         "87456792.81481482",
         "4.6667867481284615"
        ],
        [
         "7",
         "Faith & Spirituality",
         "652.0869565217391",
         "10103260.869565217",
         "18559545.695652176",
         "4.376302035564472"
        ],
        [
         "8",
         "Animation",
         "527.4457831325301",
         "80960784.124498",
         "296931544.61044174",
         "3.539807124321519"
        ],
        [
         "9",
         "Musical & Performing Arts",
         "509.46276595744683",
         "27717144.122340426",
         "108662788.16489361",
         "3.4191190567535177"
        ],
        [
         "10",
         "Art House & International",
         "481.8189655172414",
         "15737626.064655172",
         "31063435.375",
         "3.2335953027092583"
        ],
        [
         "11",
         "Kids & Family",
         "470.62098501070665",
         "64217155.23340471",
         "216467698.2869379",
         "3.158443140263994"
        ],
        [
         "12",
         "Mystery & Suspense",
         "411.6010101010101",
         "33895793.85185185",
         "95212962.16414142",
         "2.762346831707241"
        ],
        [
         "13",
         "Science Fiction & Fantasy",
         "410.49491094147584",
         "68638917.54961832",
         "208612233.7697201",
         "2.7549235517980306"
        ],
        [
         "14",
         "Romance",
         "385.5951557093426",
         "29829205.788927335",
         "97880203.7750865",
         "2.587815701506581"
        ],
        [
         "15",
         "Drama",
         "317.0761285386381",
         "30552827.68133129",
         "80721193.04973221",
         "2.1279691195698436"
        ],
        [
         "16",
         "Comedy",
         "309.90546697038724",
         "31649792.18621868",
         "93700290.34111618",
         "2.0798451991269817"
        ],
        [
         "17",
         "Action & Adventure",
         "281.02144772117964",
         "61567931.05428954",
         "175550487.84115282",
         "1.88599805808027"
        ],
        [
         "18",
         "Western",
         "197.36486486486487",
         "34176729.0",
         "60778587.527027026",
         "1.3245599397727263"
        ],
        [
         "19",
         "Gay & Lesbian",
         "171.0",
         "4833333.333333333",
         "21550328.333333332",
         "1.1476194096462906"
        ],
        [
         "20",
         "Anime & Manga",
         "53.0",
         "110000000.0",
         "167910690.0",
         "0.355694904744172"
        ]
       ],
       "shape": {
        "columns": 5,
        "rows": 21
       }
      },
      "text/html": [
       "<div>\n",
       "<style scoped>\n",
       "    .dataframe tbody tr th:only-of-type {\n",
       "        vertical-align: middle;\n",
       "    }\n",
       "\n",
       "    .dataframe tbody tr th {\n",
       "        vertical-align: top;\n",
       "    }\n",
       "\n",
       "    .dataframe thead th {\n",
       "        text-align: right;\n",
       "    }\n",
       "</style>\n",
       "<table border=\"1\" class=\"dataframe\">\n",
       "  <thead>\n",
       "    <tr style=\"text-align: right;\">\n",
       "      <th></th>\n",
       "      <th>genres</th>\n",
       "      <th>ROI (%)</th>\n",
       "      <th>production_budget</th>\n",
       "      <th>worldwide_gross</th>\n",
       "      <th>Normalized_ROI</th>\n",
       "    </tr>\n",
       "  </thead>\n",
       "  <tbody>\n",
       "    <tr>\n",
       "      <th>0</th>\n",
       "      <td>Cult Movies</td>\n",
       "      <td>4669.958333</td>\n",
       "      <td>2.545846e+07</td>\n",
       "      <td>8.253467e+07</td>\n",
       "      <td>31.341139</td>\n",
       "    </tr>\n",
       "    <tr>\n",
       "      <th>1</th>\n",
       "      <td>Horror</td>\n",
       "      <td>975.298217</td>\n",
       "      <td>2.464406e+07</td>\n",
       "      <td>7.716784e+07</td>\n",
       "      <td>6.545445</td>\n",
       "    </tr>\n",
       "    <tr>\n",
       "      <th>2</th>\n",
       "      <td>Special Interest</td>\n",
       "      <td>932.209677</td>\n",
       "      <td>1.217236e+07</td>\n",
       "      <td>3.201614e+07</td>\n",
       "      <td>6.256269</td>\n",
       "    </tr>\n",
       "    <tr>\n",
       "      <th>3</th>\n",
       "      <td>Documentary</td>\n",
       "      <td>868.586466</td>\n",
       "      <td>1.323879e+07</td>\n",
       "      <td>3.199423e+07</td>\n",
       "      <td>5.829279</td>\n",
       "    </tr>\n",
       "    <tr>\n",
       "      <th>4</th>\n",
       "      <td>Classics</td>\n",
       "      <td>839.873684</td>\n",
       "      <td>3.186409e+07</td>\n",
       "      <td>1.034252e+08</td>\n",
       "      <td>5.636581</td>\n",
       "    </tr>\n",
       "    <tr>\n",
       "      <th>5</th>\n",
       "      <td>Sports &amp; Fitness</td>\n",
       "      <td>740.619048</td>\n",
       "      <td>2.526810e+07</td>\n",
       "      <td>7.822937e+07</td>\n",
       "      <td>4.970461</td>\n",
       "    </tr>\n",
       "    <tr>\n",
       "      <th>6</th>\n",
       "      <td>Television</td>\n",
       "      <td>695.370370</td>\n",
       "      <td>2.903874e+07</td>\n",
       "      <td>8.745679e+07</td>\n",
       "      <td>4.666787</td>\n",
       "    </tr>\n",
       "    <tr>\n",
       "      <th>7</th>\n",
       "      <td>Faith &amp; Spirituality</td>\n",
       "      <td>652.086957</td>\n",
       "      <td>1.010326e+07</td>\n",
       "      <td>1.855955e+07</td>\n",
       "      <td>4.376302</td>\n",
       "    </tr>\n",
       "    <tr>\n",
       "      <th>8</th>\n",
       "      <td>Animation</td>\n",
       "      <td>527.445783</td>\n",
       "      <td>8.096078e+07</td>\n",
       "      <td>2.969315e+08</td>\n",
       "      <td>3.539807</td>\n",
       "    </tr>\n",
       "    <tr>\n",
       "      <th>9</th>\n",
       "      <td>Musical &amp; Performing Arts</td>\n",
       "      <td>509.462766</td>\n",
       "      <td>2.771714e+07</td>\n",
       "      <td>1.086628e+08</td>\n",
       "      <td>3.419119</td>\n",
       "    </tr>\n",
       "    <tr>\n",
       "      <th>10</th>\n",
       "      <td>Art House &amp; International</td>\n",
       "      <td>481.818966</td>\n",
       "      <td>1.573763e+07</td>\n",
       "      <td>3.106344e+07</td>\n",
       "      <td>3.233595</td>\n",
       "    </tr>\n",
       "    <tr>\n",
       "      <th>11</th>\n",
       "      <td>Kids &amp; Family</td>\n",
       "      <td>470.620985</td>\n",
       "      <td>6.421716e+07</td>\n",
       "      <td>2.164677e+08</td>\n",
       "      <td>3.158443</td>\n",
       "    </tr>\n",
       "    <tr>\n",
       "      <th>12</th>\n",
       "      <td>Mystery &amp; Suspense</td>\n",
       "      <td>411.601010</td>\n",
       "      <td>3.389579e+07</td>\n",
       "      <td>9.521296e+07</td>\n",
       "      <td>2.762347</td>\n",
       "    </tr>\n",
       "    <tr>\n",
       "      <th>13</th>\n",
       "      <td>Science Fiction &amp; Fantasy</td>\n",
       "      <td>410.494911</td>\n",
       "      <td>6.863892e+07</td>\n",
       "      <td>2.086122e+08</td>\n",
       "      <td>2.754924</td>\n",
       "    </tr>\n",
       "    <tr>\n",
       "      <th>14</th>\n",
       "      <td>Romance</td>\n",
       "      <td>385.595156</td>\n",
       "      <td>2.982921e+07</td>\n",
       "      <td>9.788020e+07</td>\n",
       "      <td>2.587816</td>\n",
       "    </tr>\n",
       "    <tr>\n",
       "      <th>15</th>\n",
       "      <td>Drama</td>\n",
       "      <td>317.076129</td>\n",
       "      <td>3.055283e+07</td>\n",
       "      <td>8.072119e+07</td>\n",
       "      <td>2.127969</td>\n",
       "    </tr>\n",
       "    <tr>\n",
       "      <th>16</th>\n",
       "      <td>Comedy</td>\n",
       "      <td>309.905467</td>\n",
       "      <td>3.164979e+07</td>\n",
       "      <td>9.370029e+07</td>\n",
       "      <td>2.079845</td>\n",
       "    </tr>\n",
       "    <tr>\n",
       "      <th>17</th>\n",
       "      <td>Action &amp; Adventure</td>\n",
       "      <td>281.021448</td>\n",
       "      <td>6.156793e+07</td>\n",
       "      <td>1.755505e+08</td>\n",
       "      <td>1.885998</td>\n",
       "    </tr>\n",
       "    <tr>\n",
       "      <th>18</th>\n",
       "      <td>Western</td>\n",
       "      <td>197.364865</td>\n",
       "      <td>3.417673e+07</td>\n",
       "      <td>6.077859e+07</td>\n",
       "      <td>1.324560</td>\n",
       "    </tr>\n",
       "    <tr>\n",
       "      <th>19</th>\n",
       "      <td>Gay &amp; Lesbian</td>\n",
       "      <td>171.000000</td>\n",
       "      <td>4.833333e+06</td>\n",
       "      <td>2.155033e+07</td>\n",
       "      <td>1.147619</td>\n",
       "    </tr>\n",
       "    <tr>\n",
       "      <th>20</th>\n",
       "      <td>Anime &amp; Manga</td>\n",
       "      <td>53.000000</td>\n",
       "      <td>1.100000e+08</td>\n",
       "      <td>1.679107e+08</td>\n",
       "      <td>0.355695</td>\n",
       "    </tr>\n",
       "  </tbody>\n",
       "</table>\n",
       "</div>"
      ],
      "text/plain": [
       "                       genres      ROI (%)  production_budget  \\\n",
       "0                 Cult Movies  4669.958333       2.545846e+07   \n",
       "1                      Horror   975.298217       2.464406e+07   \n",
       "2            Special Interest   932.209677       1.217236e+07   \n",
       "3                 Documentary   868.586466       1.323879e+07   \n",
       "4                    Classics   839.873684       3.186409e+07   \n",
       "5            Sports & Fitness   740.619048       2.526810e+07   \n",
       "6                  Television   695.370370       2.903874e+07   \n",
       "7        Faith & Spirituality   652.086957       1.010326e+07   \n",
       "8                   Animation   527.445783       8.096078e+07   \n",
       "9   Musical & Performing Arts   509.462766       2.771714e+07   \n",
       "10  Art House & International   481.818966       1.573763e+07   \n",
       "11              Kids & Family   470.620985       6.421716e+07   \n",
       "12         Mystery & Suspense   411.601010       3.389579e+07   \n",
       "13  Science Fiction & Fantasy   410.494911       6.863892e+07   \n",
       "14                    Romance   385.595156       2.982921e+07   \n",
       "15                      Drama   317.076129       3.055283e+07   \n",
       "16                     Comedy   309.905467       3.164979e+07   \n",
       "17         Action & Adventure   281.021448       6.156793e+07   \n",
       "18                    Western   197.364865       3.417673e+07   \n",
       "19              Gay & Lesbian   171.000000       4.833333e+06   \n",
       "20              Anime & Manga    53.000000       1.100000e+08   \n",
       "\n",
       "    worldwide_gross  Normalized_ROI  \n",
       "0      8.253467e+07       31.341139  \n",
       "1      7.716784e+07        6.545445  \n",
       "2      3.201614e+07        6.256269  \n",
       "3      3.199423e+07        5.829279  \n",
       "4      1.034252e+08        5.636581  \n",
       "5      7.822937e+07        4.970461  \n",
       "6      8.745679e+07        4.666787  \n",
       "7      1.855955e+07        4.376302  \n",
       "8      2.969315e+08        3.539807  \n",
       "9      1.086628e+08        3.419119  \n",
       "10     3.106344e+07        3.233595  \n",
       "11     2.164677e+08        3.158443  \n",
       "12     9.521296e+07        2.762347  \n",
       "13     2.086122e+08        2.754924  \n",
       "14     9.788020e+07        2.587816  \n",
       "15     8.072119e+07        2.127969  \n",
       "16     9.370029e+07        2.079845  \n",
       "17     1.755505e+08        1.885998  \n",
       "18     6.077859e+07        1.324560  \n",
       "19     2.155033e+07        1.147619  \n",
       "20     1.679107e+08        0.355695  "
      ]
     },
     "execution_count": 607,
     "metadata": {},
     "output_type": "execute_result"
    }
   ],
   "source": [
    "Total_Roi = grouped_table['ROI (%)'].sum()\n",
    "\n",
    "# Normalize the ROI values to ensure they sum to 100%\n",
    "grouped_table['Normalized_ROI'] = (grouped_table['ROI (%)'] / Total_Roi) * 100\n",
    "\n",
    "# Ensure the normalized values sum exactly to 100 by adjusting based on total\n",
    "normalized_total = grouped_table['Normalized_ROI'].sum()\n",
    "adjustment_factor = 100 / normalized_total\n",
    "\n",
    "# Re-adjust the normalized ROIs to ensure they sum exactly to 100\n",
    "grouped_table['Normalized_ROI'] = grouped_table['Normalized_ROI'] * adjustment_factor\n",
    "grouped_table"
   ]
  },
  {
   "cell_type": "markdown",
   "id": "c401a443",
   "metadata": {},
   "source": [
    "Preparing Language and Popularity Data\n",
    "By analyzing two key variables from The Movie DB dataset: original_language and popularity. The original_language column helps us understand which languages dominate box office performance, guiding strategic decisions about which language(s) to prioritize in production—either to reach the broadest audience or to tap into emerging markets. \n",
    "The popularity column offers insight into which films are most liked by audiences. By examining both these variables, we can uncover patterns between language, popularity, and potential box office future success."
   ]
  },
  {
   "cell_type": "code",
   "execution_count": 608,
   "id": "f9a760bf",
   "metadata": {},
   "outputs": [
    {
     "data": {
      "application/vnd.microsoft.datawrangler.viewer.v0+json": {
       "columns": [
        {
         "name": "index",
         "rawType": "int64",
         "type": "integer"
        },
        {
         "name": "Unnamed: 0",
         "rawType": "int64",
         "type": "integer"
        },
        {
         "name": "genre_ids",
         "rawType": "object",
         "type": "string"
        },
        {
         "name": "id",
         "rawType": "int64",
         "type": "integer"
        },
        {
         "name": "original_language",
         "rawType": "object",
         "type": "string"
        },
        {
         "name": "original_title",
         "rawType": "object",
         "type": "string"
        },
        {
         "name": "popularity",
         "rawType": "float64",
         "type": "float"
        },
        {
         "name": "release_date",
         "rawType": "object",
         "type": "string"
        },
        {
         "name": "title",
         "rawType": "object",
         "type": "string"
        },
        {
         "name": "vote_average",
         "rawType": "float64",
         "type": "float"
        },
        {
         "name": "vote_count",
         "rawType": "int64",
         "type": "integer"
        }
       ],
       "ref": "b9b4c579-0c11-4153-9d13-37aeba701a40",
       "rows": [
        [
         "0",
         "0",
         "[12, 14, 10751]",
         "12444",
         "en",
         "Harry Potter and the Deathly Hallows: Part 1",
         "33.533",
         "2010-11-19",
         "Harry Potter and the Deathly Hallows: Part 1",
         "7.7",
         "10788"
        ],
        [
         "1",
         "1",
         "[14, 12, 16, 10751]",
         "10191",
         "en",
         "How to Train Your Dragon",
         "28.734",
         "2010-03-26",
         "How to Train Your Dragon",
         "7.7",
         "7610"
        ],
        [
         "2",
         "2",
         "[12, 28, 878]",
         "10138",
         "en",
         "Iron Man 2",
         "28.515",
         "2010-05-07",
         "Iron Man 2",
         "6.8",
         "12368"
        ],
        [
         "3",
         "3",
         "[16, 35, 10751]",
         "862",
         "en",
         "Toy Story",
         "28.005",
         "1995-11-22",
         "Toy Story",
         "7.9",
         "10174"
        ],
        [
         "4",
         "4",
         "[28, 878, 12]",
         "27205",
         "en",
         "Inception",
         "27.92",
         "2010-07-16",
         "Inception",
         "8.3",
         "22186"
        ]
       ],
       "shape": {
        "columns": 10,
        "rows": 5
       }
      },
      "text/html": [
       "<div>\n",
       "<style scoped>\n",
       "    .dataframe tbody tr th:only-of-type {\n",
       "        vertical-align: middle;\n",
       "    }\n",
       "\n",
       "    .dataframe tbody tr th {\n",
       "        vertical-align: top;\n",
       "    }\n",
       "\n",
       "    .dataframe thead th {\n",
       "        text-align: right;\n",
       "    }\n",
       "</style>\n",
       "<table border=\"1\" class=\"dataframe\">\n",
       "  <thead>\n",
       "    <tr style=\"text-align: right;\">\n",
       "      <th></th>\n",
       "      <th>Unnamed: 0</th>\n",
       "      <th>genre_ids</th>\n",
       "      <th>id</th>\n",
       "      <th>original_language</th>\n",
       "      <th>original_title</th>\n",
       "      <th>popularity</th>\n",
       "      <th>release_date</th>\n",
       "      <th>title</th>\n",
       "      <th>vote_average</th>\n",
       "      <th>vote_count</th>\n",
       "    </tr>\n",
       "  </thead>\n",
       "  <tbody>\n",
       "    <tr>\n",
       "      <th>0</th>\n",
       "      <td>0</td>\n",
       "      <td>[12, 14, 10751]</td>\n",
       "      <td>12444</td>\n",
       "      <td>en</td>\n",
       "      <td>Harry Potter and the Deathly Hallows: Part 1</td>\n",
       "      <td>33.533</td>\n",
       "      <td>2010-11-19</td>\n",
       "      <td>Harry Potter and the Deathly Hallows: Part 1</td>\n",
       "      <td>7.7</td>\n",
       "      <td>10788</td>\n",
       "    </tr>\n",
       "    <tr>\n",
       "      <th>1</th>\n",
       "      <td>1</td>\n",
       "      <td>[14, 12, 16, 10751]</td>\n",
       "      <td>10191</td>\n",
       "      <td>en</td>\n",
       "      <td>How to Train Your Dragon</td>\n",
       "      <td>28.734</td>\n",
       "      <td>2010-03-26</td>\n",
       "      <td>How to Train Your Dragon</td>\n",
       "      <td>7.7</td>\n",
       "      <td>7610</td>\n",
       "    </tr>\n",
       "    <tr>\n",
       "      <th>2</th>\n",
       "      <td>2</td>\n",
       "      <td>[12, 28, 878]</td>\n",
       "      <td>10138</td>\n",
       "      <td>en</td>\n",
       "      <td>Iron Man 2</td>\n",
       "      <td>28.515</td>\n",
       "      <td>2010-05-07</td>\n",
       "      <td>Iron Man 2</td>\n",
       "      <td>6.8</td>\n",
       "      <td>12368</td>\n",
       "    </tr>\n",
       "    <tr>\n",
       "      <th>3</th>\n",
       "      <td>3</td>\n",
       "      <td>[16, 35, 10751]</td>\n",
       "      <td>862</td>\n",
       "      <td>en</td>\n",
       "      <td>Toy Story</td>\n",
       "      <td>28.005</td>\n",
       "      <td>1995-11-22</td>\n",
       "      <td>Toy Story</td>\n",
       "      <td>7.9</td>\n",
       "      <td>10174</td>\n",
       "    </tr>\n",
       "    <tr>\n",
       "      <th>4</th>\n",
       "      <td>4</td>\n",
       "      <td>[28, 878, 12]</td>\n",
       "      <td>27205</td>\n",
       "      <td>en</td>\n",
       "      <td>Inception</td>\n",
       "      <td>27.920</td>\n",
       "      <td>2010-07-16</td>\n",
       "      <td>Inception</td>\n",
       "      <td>8.3</td>\n",
       "      <td>22186</td>\n",
       "    </tr>\n",
       "  </tbody>\n",
       "</table>\n",
       "</div>"
      ],
      "text/plain": [
       "   Unnamed: 0            genre_ids     id original_language  \\\n",
       "0           0      [12, 14, 10751]  12444                en   \n",
       "1           1  [14, 12, 16, 10751]  10191                en   \n",
       "2           2        [12, 28, 878]  10138                en   \n",
       "3           3      [16, 35, 10751]    862                en   \n",
       "4           4        [28, 878, 12]  27205                en   \n",
       "\n",
       "                                 original_title  popularity release_date  \\\n",
       "0  Harry Potter and the Deathly Hallows: Part 1      33.533   2010-11-19   \n",
       "1                      How to Train Your Dragon      28.734   2010-03-26   \n",
       "2                                    Iron Man 2      28.515   2010-05-07   \n",
       "3                                     Toy Story      28.005   1995-11-22   \n",
       "4                                     Inception      27.920   2010-07-16   \n",
       "\n",
       "                                          title  vote_average  vote_count  \n",
       "0  Harry Potter and the Deathly Hallows: Part 1           7.7       10788  \n",
       "1                      How to Train Your Dragon           7.7        7610  \n",
       "2                                    Iron Man 2           6.8       12368  \n",
       "3                                     Toy Story           7.9       10174  \n",
       "4                                     Inception           8.3       22186  "
      ]
     },
     "execution_count": 608,
     "metadata": {},
     "output_type": "execute_result"
    }
   ],
   "source": [
    "tmdb_df.head(5)"
   ]
  },
  {
   "cell_type": "markdown",
   "id": "b65fa923",
   "metadata": {},
   "source": [
    "We utilized the Data Wrangler tool to inspect the columns of interest: original_language and popularity. We confirmed that both columns had no missing values, ensuring that our analysis would proceed without any gaps in the data."
   ]
  },
  {
   "cell_type": "markdown",
   "id": "15ac4ace",
   "metadata": {},
   "source": [
    "Preparing Directors and Foreign Gross Data\n",
    "From our earlier data exploration, we have confirmed that there are no missing values in the relevant im.db tables and in the Numbers movie budgets dataset, which will allow us to proceed without needing additional imputation steps. Since these datasets originate from different sources and structures, we will need to carefully filter and merge them to ensure accuracy.\n",
    "\n",
    "Extracting Director and Movie Title Data\n",
    "First, we'll pull a clean list of directors and their movies from the IMDb database. Director names live in the 'persons' table, while movie titles are in 'movie_akas', and they're connected through ID references in the 'directors' table.\n",
    "\n",
    "We're being extra careful to avoid duplicates by using DISTINCT in our queries, because we spotted multiple copies of the same director-movie pairs, probably due to how the data was originally entered. By filtering for unique entries and sticking to original titles, we're making sure our final list is clean and reliable."
   ]
  },
  {
   "cell_type": "code",
   "execution_count": 609,
   "id": "b13322f4",
   "metadata": {},
   "outputs": [
    {
     "data": {
      "application/vnd.microsoft.datawrangler.viewer.v0+json": {
       "columns": [
        {
         "name": "index",
         "rawType": "int64",
         "type": "integer"
        },
        {
         "name": "director_name",
         "rawType": "object",
         "type": "string"
        },
        {
         "name": "movie_title",
         "rawType": "object",
         "type": "string"
        },
        {
         "name": "start_year",
         "rawType": "int64",
         "type": "integer"
        }
       ],
       "ref": "bdc637b6-a032-4440-a4dd-800d32e1c21c",
       "rows": [
        [
         "0",
         "Colin Trevorrow",
         "Jurassic World",
         "2015"
        ],
        [
         "1",
         "Andrew Stanton",
         "John Carter",
         "2012"
        ],
        [
         "2",
         "Marc Jampolsky",
         "Versailles Rediscovered - The Sun King's Vanished Palace",
         "2019"
        ],
        [
         "3",
         "Sam Zubrycki",
         "Miguelito - Canto a Borinquen",
         "2019"
        ],
        [
         "4",
         "Henning Beckhoff",
         "Thing I Don't Get",
         "2018"
        ]
       ],
       "shape": {
        "columns": 3,
        "rows": 5
       }
      },
      "text/html": [
       "<div>\n",
       "<style scoped>\n",
       "    .dataframe tbody tr th:only-of-type {\n",
       "        vertical-align: middle;\n",
       "    }\n",
       "\n",
       "    .dataframe tbody tr th {\n",
       "        vertical-align: top;\n",
       "    }\n",
       "\n",
       "    .dataframe thead th {\n",
       "        text-align: right;\n",
       "    }\n",
       "</style>\n",
       "<table border=\"1\" class=\"dataframe\">\n",
       "  <thead>\n",
       "    <tr style=\"text-align: right;\">\n",
       "      <th></th>\n",
       "      <th>director_name</th>\n",
       "      <th>movie_title</th>\n",
       "      <th>start_year</th>\n",
       "    </tr>\n",
       "  </thead>\n",
       "  <tbody>\n",
       "    <tr>\n",
       "      <th>0</th>\n",
       "      <td>Colin Trevorrow</td>\n",
       "      <td>Jurassic World</td>\n",
       "      <td>2015</td>\n",
       "    </tr>\n",
       "    <tr>\n",
       "      <th>1</th>\n",
       "      <td>Andrew Stanton</td>\n",
       "      <td>John Carter</td>\n",
       "      <td>2012</td>\n",
       "    </tr>\n",
       "    <tr>\n",
       "      <th>2</th>\n",
       "      <td>Marc Jampolsky</td>\n",
       "      <td>Versailles Rediscovered - The Sun King's Vanis...</td>\n",
       "      <td>2019</td>\n",
       "    </tr>\n",
       "    <tr>\n",
       "      <th>3</th>\n",
       "      <td>Sam Zubrycki</td>\n",
       "      <td>Miguelito - Canto a Borinquen</td>\n",
       "      <td>2019</td>\n",
       "    </tr>\n",
       "    <tr>\n",
       "      <th>4</th>\n",
       "      <td>Henning Beckhoff</td>\n",
       "      <td>Thing I Don't Get</td>\n",
       "      <td>2018</td>\n",
       "    </tr>\n",
       "  </tbody>\n",
       "</table>\n",
       "</div>"
      ],
      "text/plain": [
       "      director_name                                        movie_title  \\\n",
       "0   Colin Trevorrow                                     Jurassic World   \n",
       "1    Andrew Stanton                                        John Carter   \n",
       "2    Marc Jampolsky  Versailles Rediscovered - The Sun King's Vanis...   \n",
       "3      Sam Zubrycki                      Miguelito - Canto a Borinquen   \n",
       "4  Henning Beckhoff                                  Thing I Don't Get   \n",
       "\n",
       "   start_year  \n",
       "0        2015  \n",
       "1        2012  \n",
       "2        2019  \n",
       "3        2019  \n",
       "4        2018  "
      ]
     },
     "execution_count": 609,
     "metadata": {},
     "output_type": "execute_result"
    }
   ],
   "source": [
    "# Connect to the database\n",
    "conn = sqlite3.connect('Data/im.db')\n",
    "\n",
    "# Updated query with DISTINCT\n",
    "query = '''\n",
    "SELECT DISTINCT\n",
    "    p.primary_name AS director_name,\n",
    "    ma.title AS movie_title,\n",
    "    mb.start_year\n",
    "FROM directors d\n",
    "JOIN persons p ON d.person_id = p.person_id\n",
    "JOIN movie_akas ma ON d.movie_id = ma.movie_id\n",
    "JOIN movie_basics mb ON d.movie_id = mb.movie_id\n",
    "WHERE ma.is_original_title = 1\n",
    "'''\n",
    "\n",
    "# Execute the query and load into a DataFrame\n",
    "Directors_df = pd.read_sql_query(query, conn)\n",
    "\n",
    "# Close connection\n",
    "conn.close()\n",
    "Directors_df.head()"
   ]
  },
  {
   "cell_type": "markdown",
   "id": "6cfb35e3",
   "metadata": {},
   "source": [
    "Merging Directors with Worldwide Gross Data\n",
    "Combining the director information with the worldwide gross earnings ensures that each movie in our dataset is matched with both its director and its revenue performance, setting the foundation for meaningful analysis."
   ]
  },
  {
   "cell_type": "code",
   "execution_count": 610,
   "id": "a0ebe97e",
   "metadata": {},
   "outputs": [
    {
     "data": {
      "application/vnd.microsoft.datawrangler.viewer.v0+json": {
       "columns": [
        {
         "name": "index",
         "rawType": "int64",
         "type": "integer"
        },
        {
         "name": "movie",
         "rawType": "object",
         "type": "string"
        },
        {
         "name": "director_name",
         "rawType": "object",
         "type": "string"
        },
        {
         "name": "worldwide_gross",
         "rawType": "object",
         "type": "string"
        },
        {
         "name": "start_year",
         "rawType": "int64",
         "type": "integer"
        }
       ],
       "ref": "5a638a06-1f7c-4235-ad4c-ddfdb622ec51",
       "rows": [
        [
         "0",
         "akira",
         "A.R. Murugadoss",
         "$19,585",
         "2016"
        ],
        [
         "1",
         "bully",
         "Aaron Alon",
         "$1,381,824",
         "2017"
        ],
        [
         "2",
         "restless",
         "Aaron Boltz",
         "$2,772,511",
         "2012"
        ],
        [
         "3",
         "circle",
         "Aaron Hann",
         "$10,024",
         "2015"
        ],
        [
         "4",
         "teen titans go! to the movies",
         "Aaron Horvath",
         "$51,620,593",
         "2018"
        ],
        [
         "5",
         "vampires suck",
         "Aaron Seltzer",
         "$81,424,988",
         "2010"
        ],
        [
         "6",
         "girls gone dead",
         "Aaron T. Wells",
         "$0",
         "2012"
        ],
        [
         "7",
         "virus",
         "Aashiq Abu",
         "$30,626,690",
         "2019"
        ],
        [
         "8",
         "i feel pretty",
         "Abby Kohn",
         "$91,553,797",
         "2018"
        ],
        [
         "9",
         "duma",
         "Abeer Zeibak Haddad",
         "$994,790",
         "2011"
        ],
        [
         "10",
         "father's day",
         "Adam Brooks",
         "$35,681,080",
         "2011"
        ],
        [
         "11",
         "road hard",
         "Adam Carolla",
         "$113,169",
         "2015"
        ],
        [
         "12",
         "frozen",
         "Adam Green",
         "$1,272,469,910",
         "2010"
        ],
        [
         "13",
         "vice",
         "Adam McKay",
         "$70,883,171",
         "2018"
        ],
        [
         "14",
         "the big short",
         "Adam McKay",
         "$133,162,752",
         "2015"
        ],
        [
         "15",
         "the other guys",
         "Adam McKay",
         "$170,936,470",
         "2010"
        ],
        [
         "16",
         "anchorman 2: the legend continues",
         "Adam McKay",
         "$172,185,754",
         "2013"
        ],
        [
         "17",
         "insidious: the last key",
         "Adam Robitel",
         "$167,885,588",
         "2018"
        ],
        [
         "18",
         "shut in",
         "Adam Schindler",
         "$11,360,665",
         "2015"
        ],
        [
         "19",
         "what men want",
         "Adam Shankman",
         "$69,911,903",
         "2019"
        ],
        [
         "20",
         "rock of ages",
         "Adam Shankman",
         "$61,031,932",
         "2012"
        ],
        [
         "21",
         "the island",
         "Adam Weingrod",
         "$163,018,913",
         "2017"
        ],
        [
         "22",
         "the island",
         "Adam Weingrod",
         "$15,716,828",
         "2017"
        ],
        [
         "23",
         "you're next",
         "Adam Wingard",
         "$26,887,177",
         "2011"
        ],
        [
         "24",
         "blair witch",
         "Adam Wingard",
         "$38,985,577",
         "2016"
        ],
        [
         "25",
         "coco",
         "Adrian Molina",
         "$798,008,101",
         "2017"
        ],
        [
         "26",
         "the importance of being earnest",
         "Adrian Noble",
         "$8,378,141",
         "2015"
        ],
        [
         "27",
         "visages villages",
         "Agnès Varda",
         "$4,015,686",
         "2017"
        ],
        [
         "28",
         "valentine",
         "Agus Pestol",
         "$20,384,136",
         "2017"
        ],
        [
         "29",
         "water",
         "Ahmad Bargouthi",
         "$11,322,573",
         "2012"
        ],
        [
         "30",
         "teefa in trouble",
         "Ahsan Rahim",
         "$98,806",
         "2018"
        ],
        [
         "31",
         "slender man",
         "Aisha Bulahova",
         "$51,723,644",
         "2013"
        ],
        [
         "32",
         "3",
         "Aishwarya Dhanush",
         "$295,492",
         "2012"
        ],
        [
         "33",
         "upside down",
         "Ajay Singh",
         "$26,387,039",
         "2012"
        ],
        [
         "34",
         "le havre",
         "Aki Kaurismäki",
         "$13,480,196",
         "2011"
        ],
        [
         "35",
         "popstar: never stop never stopping",
         "Akiva Schaffer",
         "$9,537,120",
         "2016"
        ],
        [
         "36",
         "the watch",
         "Akiva Schaffer",
         "$67,130,045",
         "2012"
        ],
        [
         "37",
         "teeth and blood",
         "Al Franklin",
         "$0",
         "2015"
        ],
        [
         "38",
         "gerry",
         "Alain Desrochers",
         "$719,699",
         "2011"
        ],
        [
         "39",
         "the back-up plan",
         "Alan Poul",
         "$75,281,179",
         "2010"
        ],
        [
         "40",
         "thor: the dark world",
         "Alan Taylor",
         "$644,602,516",
         "2013"
        ],
        [
         "41",
         "the book of eli",
         "Albert Hughes",
         "$158,750,817",
         "2010"
        ],
        [
         "42",
         "alpha",
         "Albert Hughes",
         "$99,624,873",
         "2018"
        ],
        [
         "43",
         "iris",
         "Albert Maysles",
         "$5,580,479",
         "2014"
        ],
        [
         "44",
         "regression",
         "Alejandro Amenábar",
         "$15,824,374",
         "2015"
        ],
        [
         "45",
         "the revenant",
         "Alejandro G. Iñárritu",
         "$532,938,302",
         "2015"
        ],
        [
         "46",
         "biutiful",
         "Alejandro G. Iñárritu",
         "$24,687,524",
         "2010"
        ],
        [
         "47",
         "birdman or (the unexpected virtue of ignorance)",
         "Alejandro G. Iñárritu",
         "$103,215,094",
         "2014"
        ],
        [
         "48",
         "little boy",
         "Alejandro Monteverde",
         "$17,769,299",
         "2015"
        ],
        [
         "49",
         "hitman: agent 47",
         "Aleksander Bach",
         "$82,182,803",
         "2015"
        ]
       ],
       "shape": {
        "columns": 4,
        "rows": 2448
       }
      },
      "text/html": [
       "<div>\n",
       "<style scoped>\n",
       "    .dataframe tbody tr th:only-of-type {\n",
       "        vertical-align: middle;\n",
       "    }\n",
       "\n",
       "    .dataframe tbody tr th {\n",
       "        vertical-align: top;\n",
       "    }\n",
       "\n",
       "    .dataframe thead th {\n",
       "        text-align: right;\n",
       "    }\n",
       "</style>\n",
       "<table border=\"1\" class=\"dataframe\">\n",
       "  <thead>\n",
       "    <tr style=\"text-align: right;\">\n",
       "      <th></th>\n",
       "      <th>movie</th>\n",
       "      <th>director_name</th>\n",
       "      <th>worldwide_gross</th>\n",
       "      <th>start_year</th>\n",
       "    </tr>\n",
       "  </thead>\n",
       "  <tbody>\n",
       "    <tr>\n",
       "      <th>0</th>\n",
       "      <td>akira</td>\n",
       "      <td>A.R. Murugadoss</td>\n",
       "      <td>$19,585</td>\n",
       "      <td>2016</td>\n",
       "    </tr>\n",
       "    <tr>\n",
       "      <th>1</th>\n",
       "      <td>bully</td>\n",
       "      <td>Aaron Alon</td>\n",
       "      <td>$1,381,824</td>\n",
       "      <td>2017</td>\n",
       "    </tr>\n",
       "    <tr>\n",
       "      <th>2</th>\n",
       "      <td>restless</td>\n",
       "      <td>Aaron Boltz</td>\n",
       "      <td>$2,772,511</td>\n",
       "      <td>2012</td>\n",
       "    </tr>\n",
       "    <tr>\n",
       "      <th>3</th>\n",
       "      <td>circle</td>\n",
       "      <td>Aaron Hann</td>\n",
       "      <td>$10,024</td>\n",
       "      <td>2015</td>\n",
       "    </tr>\n",
       "    <tr>\n",
       "      <th>4</th>\n",
       "      <td>teen titans go! to the movies</td>\n",
       "      <td>Aaron Horvath</td>\n",
       "      <td>$51,620,593</td>\n",
       "      <td>2018</td>\n",
       "    </tr>\n",
       "    <tr>\n",
       "      <th>...</th>\n",
       "      <td>...</td>\n",
       "      <td>...</td>\n",
       "      <td>...</td>\n",
       "      <td>...</td>\n",
       "    </tr>\n",
       "    <tr>\n",
       "      <th>2443</th>\n",
       "      <td>along the roadside</td>\n",
       "      <td>Zoran Lisinac</td>\n",
       "      <td>$3,234</td>\n",
       "      <td>2013</td>\n",
       "    </tr>\n",
       "    <tr>\n",
       "      <th>2444</th>\n",
       "      <td>prophecy</td>\n",
       "      <td>Zuri Rinpoche</td>\n",
       "      <td>$22,673,340</td>\n",
       "      <td>2015</td>\n",
       "    </tr>\n",
       "    <tr>\n",
       "      <th>2445</th>\n",
       "      <td>perfectos desconocidos</td>\n",
       "      <td>Álex de la Iglesia</td>\n",
       "      <td>$31,166,312</td>\n",
       "      <td>2017</td>\n",
       "    </tr>\n",
       "    <tr>\n",
       "      <th>2446</th>\n",
       "      <td>9</td>\n",
       "      <td>Éric Tessier</td>\n",
       "      <td>$48,559,999</td>\n",
       "      <td>2016</td>\n",
       "    </tr>\n",
       "    <tr>\n",
       "      <th>2447</th>\n",
       "      <td>ballerina</td>\n",
       "      <td>Éric Warin</td>\n",
       "      <td>$96,892,829</td>\n",
       "      <td>2016</td>\n",
       "    </tr>\n",
       "  </tbody>\n",
       "</table>\n",
       "<p>2448 rows × 4 columns</p>\n",
       "</div>"
      ],
      "text/plain": [
       "                              movie       director_name worldwide_gross  \\\n",
       "0                             akira     A.R. Murugadoss         $19,585   \n",
       "1                             bully          Aaron Alon      $1,381,824   \n",
       "2                          restless         Aaron Boltz      $2,772,511   \n",
       "3                            circle          Aaron Hann         $10,024   \n",
       "4     teen titans go! to the movies       Aaron Horvath     $51,620,593   \n",
       "...                             ...                 ...             ...   \n",
       "2443             along the roadside       Zoran Lisinac          $3,234   \n",
       "2444                       prophecy       Zuri Rinpoche     $22,673,340   \n",
       "2445         perfectos desconocidos  Álex de la Iglesia     $31,166,312   \n",
       "2446                              9        Éric Tessier     $48,559,999   \n",
       "2447                      ballerina          Éric Warin     $96,892,829   \n",
       "\n",
       "      start_year  \n",
       "0           2016  \n",
       "1           2017  \n",
       "2           2012  \n",
       "3           2015  \n",
       "4           2018  \n",
       "...          ...  \n",
       "2443        2013  \n",
       "2444        2015  \n",
       "2445        2017  \n",
       "2446        2016  \n",
       "2447        2016  \n",
       "\n",
       "[2448 rows x 4 columns]"
      ]
     },
     "execution_count": 610,
     "metadata": {},
     "output_type": "execute_result"
    }
   ],
   "source": [
    "# Rename for easy merge\n",
    "Directors_df = Directors_df.rename(columns={'movie_title': 'movie'})\n",
    "\n",
    "# bug fix: To resolve potential override and faulty merge\n",
    "tn_df['movie'] = tn_df['movie'].str.lower()\n",
    "Directors_df['movie'] = Directors_df['movie'].str.lower()\n",
    "\n",
    "# Merge the two DataFrames\n",
    "merged_df = pd.merge(tn_df[['movie', 'worldwide_gross']], Directors_df, on='movie', how='inner')\n",
    "\n",
    "# Reorder columns\n",
    "directors_fgross_df = merged_df[['movie', 'director_name', 'worldwide_gross', 'start_year']]\n",
    "\n",
    "# Sort alphabetically by director name\n",
    "directors_fgross_df = directors_fgross_df.sort_values(by='director_name').reset_index(drop=True)\n",
    "directors_fgross_df"
   ]
  },
  {
   "cell_type": "markdown",
   "id": "25402ea0",
   "metadata": {},
   "source": [
    "Aggregating Worldwide Gross Earnings by Director\n",
    "We need to aggregate the data to eatablish for the fact that a single director may have multiple movies. This will give us a clearer picture of each director's overall financial impact."
   ]
  },
  {
   "cell_type": "code",
   "execution_count": 611,
   "id": "1746bd14",
   "metadata": {},
   "outputs": [
    {
     "data": {
      "application/vnd.microsoft.datawrangler.viewer.v0+json": {
       "columns": [
        {
         "name": "index",
         "rawType": "int64",
         "type": "integer"
        },
        {
         "name": "director_name",
         "rawType": "object",
         "type": "string"
        },
        {
         "name": "worldwide_gross",
         "rawType": "object",
         "type": "string"
        }
       ],
       "ref": "b55cabd2-494f-4171-853e-ff151d507ca5",
       "rows": [
        [
         "0",
         "Anthony Russo",
         "3,902,605,502"
        ],
        [
         "1",
         "Joe Russo",
         "3,902,605,502"
        ],
        [
         "2",
         "Pierre Coffin",
         "3,713,745,331"
        ],
        [
         "3",
         "Christopher Nolan",
         "3,086,180,484"
        ],
        [
         "4",
         "Joss Whedon",
         "2,992,084,614"
        ],
        [
         "5",
         "Michael Bay",
         "2,911,998,250"
        ],
        [
         "6",
         "Jon Favreau",
         "2,614,568,760"
        ],
        [
         "7",
         "Francis Lawrence",
         "2,543,191,543"
        ],
        [
         "8",
         "Chris Renaud",
         "2,518,783,438"
        ],
        [
         "9",
         "Zack Snyder",
         "2,420,920,114"
        ],
        [
         "10",
         "Bryan Singer",
         "2,383,073,266"
        ],
        [
         "11",
         "Kyle Balda",
         "2,195,063,923"
        ],
        [
         "12",
         "Ridley Scott",
         "2,042,771,249"
        ],
        [
         "13",
         "Rich Moore",
         "2,040,224,832"
        ],
        [
         "14",
         "Sam Mendes",
         "1,990,147,904"
        ],
        [
         "15",
         "Peter Jackson",
         "1,977,370,423"
        ],
        [
         "16",
         "Steven Spielberg",
         "1,969,039,795"
        ],
        [
         "17",
         "Mike Mitchell",
         "1,950,822,209"
        ],
        [
         "18",
         "Guy Ritchie",
         "1,903,527,896"
        ],
        [
         "19",
         "Bill Condon",
         "1,873,785,010"
        ],
        [
         "20",
         "Lee Unkrich",
         "1,866,887,623"
        ],
        [
         "21",
         "David Yates",
         "1,803,524,964"
        ],
        [
         "22",
         "Kenneth Branagh",
         "1,724,769,528"
        ],
        [
         "23",
         "Tim Burton",
         "1,717,166,860"
        ],
        [
         "24",
         "Colin Trevorrow",
         "1,653,277,182"
        ],
        [
         "25",
         "Dean DeBlois",
         "1,628,715,545"
        ],
        [
         "26",
         "Byron Howard",
         "1,605,906,856"
        ],
        [
         "27",
         "Rob Marshall",
         "1,600,308,794"
        ],
        [
         "28",
         "Tom McGrath",
         "1,579,687,241"
        ],
        [
         "29",
         "James Wan",
         "1,564,765,667"
        ],
        [
         "30",
         "Ryan Coogler",
         "1,539,375,450"
        ],
        [
         "31",
         "Marc Webb",
         "1,503,851,259"
        ],
        [
         "32",
         "Brad Bird",
         "1,449,148,229"
        ],
        [
         "33",
         "F. Gary Gray",
         "1,440,129,248"
        ],
        [
         "34",
         "Genndy Tartakovsky",
         "1,375,086,072"
        ],
        [
         "35",
         "J.A. Bayona",
         "1,352,187,329"
        ],
        [
         "36",
         "Don Hall",
         "1,339,790,800"
        ],
        [
         "37",
         "Brad Peyton",
         "1,324,858,400"
        ],
        [
         "38",
         "Jake Kasdan",
         "1,306,014,699"
        ],
        [
         "39",
         "Andrew Stanton",
         "1,303,993,293"
        ],
        [
         "40",
         "James Mangold",
         "1,290,669,616"
        ],
        [
         "41",
         "Chris Williams",
         "1,289,645,193"
        ],
        [
         "42",
         "Mike Thurmeier",
         "1,281,921,819"
        ],
        [
         "43",
         "Jennifer Lee",
         "1,272,469,910"
        ],
        [
         "44",
         "Chris Buck",
         "1,272,469,910"
        ],
        [
         "45",
         "Adam Green",
         "1,272,469,910"
        ],
        [
         "46",
         "Clint Eastwood",
         "1,271,353,836"
        ],
        [
         "47",
         "Carlos Saldanha",
         "1,270,214,030"
        ],
        [
         "48",
         "Matt Reeves",
         "1,228,507,232"
        ],
        [
         "49",
         "Jennifer Yuh Nelson",
         "1,220,798,117"
        ]
       ],
       "shape": {
        "columns": 2,
        "rows": 1688
       }
      },
      "text/html": [
       "<div>\n",
       "<style scoped>\n",
       "    .dataframe tbody tr th:only-of-type {\n",
       "        vertical-align: middle;\n",
       "    }\n",
       "\n",
       "    .dataframe tbody tr th {\n",
       "        vertical-align: top;\n",
       "    }\n",
       "\n",
       "    .dataframe thead th {\n",
       "        text-align: right;\n",
       "    }\n",
       "</style>\n",
       "<table border=\"1\" class=\"dataframe\">\n",
       "  <thead>\n",
       "    <tr style=\"text-align: right;\">\n",
       "      <th></th>\n",
       "      <th>director_name</th>\n",
       "      <th>worldwide_gross</th>\n",
       "    </tr>\n",
       "  </thead>\n",
       "  <tbody>\n",
       "    <tr>\n",
       "      <th>0</th>\n",
       "      <td>Anthony Russo</td>\n",
       "      <td>3,902,605,502</td>\n",
       "    </tr>\n",
       "    <tr>\n",
       "      <th>1</th>\n",
       "      <td>Joe Russo</td>\n",
       "      <td>3,902,605,502</td>\n",
       "    </tr>\n",
       "    <tr>\n",
       "      <th>2</th>\n",
       "      <td>Pierre Coffin</td>\n",
       "      <td>3,713,745,331</td>\n",
       "    </tr>\n",
       "    <tr>\n",
       "      <th>3</th>\n",
       "      <td>Christopher Nolan</td>\n",
       "      <td>3,086,180,484</td>\n",
       "    </tr>\n",
       "    <tr>\n",
       "      <th>4</th>\n",
       "      <td>Joss Whedon</td>\n",
       "      <td>2,992,084,614</td>\n",
       "    </tr>\n",
       "    <tr>\n",
       "      <th>...</th>\n",
       "      <td>...</td>\n",
       "      <td>...</td>\n",
       "    </tr>\n",
       "    <tr>\n",
       "      <th>1683</th>\n",
       "      <td>Christian Sesma</td>\n",
       "      <td>0</td>\n",
       "    </tr>\n",
       "    <tr>\n",
       "      <th>1684</th>\n",
       "      <td>Deepak Rauniyar</td>\n",
       "      <td>0</td>\n",
       "    </tr>\n",
       "    <tr>\n",
       "      <th>1685</th>\n",
       "      <td>Russell Friedenberg</td>\n",
       "      <td>0</td>\n",
       "    </tr>\n",
       "    <tr>\n",
       "      <th>1686</th>\n",
       "      <td>Katie Aselton</td>\n",
       "      <td>0</td>\n",
       "    </tr>\n",
       "    <tr>\n",
       "      <th>1687</th>\n",
       "      <td>Brandon Trost</td>\n",
       "      <td>0</td>\n",
       "    </tr>\n",
       "  </tbody>\n",
       "</table>\n",
       "<p>1688 rows × 2 columns</p>\n",
       "</div>"
      ],
      "text/plain": [
       "            director_name worldwide_gross\n",
       "0           Anthony Russo   3,902,605,502\n",
       "1               Joe Russo   3,902,605,502\n",
       "2           Pierre Coffin   3,713,745,331\n",
       "3       Christopher Nolan   3,086,180,484\n",
       "4             Joss Whedon   2,992,084,614\n",
       "...                   ...             ...\n",
       "1683      Christian Sesma               0\n",
       "1684      Deepak Rauniyar               0\n",
       "1685  Russell Friedenberg               0\n",
       "1686        Katie Aselton               0\n",
       "1687        Brandon Trost               0\n",
       "\n",
       "[1688 rows x 2 columns]"
      ]
     },
     "execution_count": 611,
     "metadata": {},
     "output_type": "execute_result"
    }
   ],
   "source": [
    "# Remove commas, dollar sign and convert to float for calculation\n",
    "directors_fgross_df['worldwide_gross'] = directors_fgross_df['worldwide_gross'].replace(r',', '', regex=True)\n",
    "directors_fgross_df['worldwide_gross'] = directors_fgross_df['worldwide_gross'].replace(r'\\$', '', regex=True).astype(float)\n",
    "\n",
    "# Group by director_name and sum worldwide_gross\n",
    "agg_directors_df = directors_fgross_df.groupby('director_name', as_index=False)['worldwide_gross'].sum()\n",
    "\n",
    "# Sort by worldwide_gross in descending order\n",
    "agg_directors_df = agg_directors_df.sort_values(by='worldwide_gross', ascending=False).reset_index(drop=True)\n",
    "\n",
    "# Format numbers with commas \n",
    "agg_directors_df['worldwide_gross'] = agg_directors_df['worldwide_gross'].apply(lambda x: f\"{int(x):,}\")\n",
    "agg_directors_df"
   ]
  },
  {
   "cell_type": "markdown",
   "id": "4e5d72ce",
   "metadata": {},
   "source": [
    "Preparing Content Rating and ROI Data\n",
    "Understanding the relationship between a film’s content rating (such as G, PG, PG-13, R) and its Return on Investment (ROI) can provide valuable strategic guidance for the company’s new movie studio. Content ratings influence which audiences a movie can legally and culturally reach, and may affect production budgets, marketing strategies, and box office returns."
   ]
  },
  {
   "cell_type": "markdown",
   "id": "14d604e7",
   "metadata": {},
   "source": [
    "Merging Dataframes\n",
    "To analyze the relationship between content ratings and ROI, we need to combine relevant information from two different sources. We will merge the final_table, which already contains ROI calculations and genre data, with the Rotten Tomatoes dataset (rt_df), which includes content rating information for each movie."
   ]
  },
  {
   "cell_type": "code",
   "execution_count": 612,
   "id": "ab2a692b",
   "metadata": {},
   "outputs": [
    {
     "data": {
      "application/vnd.microsoft.datawrangler.viewer.v0+json": {
       "columns": [
        {
         "name": "index",
         "rawType": "int64",
         "type": "integer"
        },
        {
         "name": "genres",
         "rawType": "object",
         "type": "unknown"
        },
        {
         "name": "movie",
         "rawType": "object",
         "type": "string"
        },
        {
         "name": "production_budget",
         "rawType": "float64",
         "type": "float"
        },
        {
         "name": "worldwide_gross",
         "rawType": "float64",
         "type": "float"
        },
        {
         "name": "ROI (%)",
         "rawType": "float64",
         "type": "float"
        },
        {
         "name": "movie_title",
         "rawType": "object",
         "type": "string"
        },
        {
         "name": "content_rating",
         "rawType": "object",
         "type": "string"
        }
       ],
       "ref": "9a876ef3-19f3-4d37-93b3-75831541f191",
       "rows": [
        [
         "3795",
         "['Comedy', ' Drama']",
         "people like us",
         "16000000.0",
         "12617472.0",
         "-21.0",
         "people like us",
         "PG-13"
        ],
        [
         "547",
         "['Action & Adventure']",
         "fantastic four",
         "120000000.0",
         "167849187.0",
         "160.5",
         "fantastic four",
         "PG-13"
        ],
        [
         "5273",
         "['Classics', ' Drama', ' Mystery & Suspense']",
         "joe",
         "4000000.0",
         "373375.0",
         "-91.0",
         "joe",
         "R"
        ],
        [
         "4748",
         "['Drama']",
         "made in dagenham",
         "8000000.0",
         "15644196.0",
         "96.0",
         "made in dagenham",
         "R"
        ],
        [
         "5752",
         "['Drama', ' Sports & Fitness']",
         "rocky",
         "1000000.0",
         "225000000.0",
         "22400.0",
         "rocky",
         "PG"
        ],
        [
         "2439",
         "['Classics', ' Drama', ' Romance']",
         "reds",
         "33500000.0",
         "50000000.0",
         "49.0",
         "reds",
         "PG"
        ],
        [
         "4573",
         "['Comedy']",
         "motherhood",
         "10000000.0",
         "723388.0",
         "-93.0",
         "motherhood",
         "PG-13"
        ],
        [
         "4324",
         "['Drama']",
         "if i stay",
         "11000000.0",
         "78356170.0",
         "612.0",
         "if i stay",
         "PG-13"
        ],
        [
         "2888",
         "['Drama']",
         "hidden figures",
         "25000000.0",
         "231771716.0",
         "827.0",
         "hidden figures",
         "PG"
        ],
        [
         "3978",
         "['Drama', ' Musical & Performing Arts']",
         "idlewild",
         "15000000.0",
         "12669914.0",
         "-16.0",
         "idlewild",
         "R"
        ]
       ],
       "shape": {
        "columns": 7,
        "rows": 10
       }
      },
      "text/html": [
       "<div>\n",
       "<style scoped>\n",
       "    .dataframe tbody tr th:only-of-type {\n",
       "        vertical-align: middle;\n",
       "    }\n",
       "\n",
       "    .dataframe tbody tr th {\n",
       "        vertical-align: top;\n",
       "    }\n",
       "\n",
       "    .dataframe thead th {\n",
       "        text-align: right;\n",
       "    }\n",
       "</style>\n",
       "<table border=\"1\" class=\"dataframe\">\n",
       "  <thead>\n",
       "    <tr style=\"text-align: right;\">\n",
       "      <th></th>\n",
       "      <th>genres</th>\n",
       "      <th>movie</th>\n",
       "      <th>production_budget</th>\n",
       "      <th>worldwide_gross</th>\n",
       "      <th>ROI (%)</th>\n",
       "      <th>movie_title</th>\n",
       "      <th>content_rating</th>\n",
       "    </tr>\n",
       "  </thead>\n",
       "  <tbody>\n",
       "    <tr>\n",
       "      <th>3795</th>\n",
       "      <td>[Comedy,  Drama]</td>\n",
       "      <td>people like us</td>\n",
       "      <td>16000000.0</td>\n",
       "      <td>12617472.0</td>\n",
       "      <td>-21.0</td>\n",
       "      <td>people like us</td>\n",
       "      <td>PG-13</td>\n",
       "    </tr>\n",
       "    <tr>\n",
       "      <th>547</th>\n",
       "      <td>[Action &amp; Adventure]</td>\n",
       "      <td>fantastic four</td>\n",
       "      <td>120000000.0</td>\n",
       "      <td>167849187.0</td>\n",
       "      <td>160.5</td>\n",
       "      <td>fantastic four</td>\n",
       "      <td>PG-13</td>\n",
       "    </tr>\n",
       "    <tr>\n",
       "      <th>5273</th>\n",
       "      <td>[Classics,  Drama,  Mystery &amp; Suspense]</td>\n",
       "      <td>joe</td>\n",
       "      <td>4000000.0</td>\n",
       "      <td>373375.0</td>\n",
       "      <td>-91.0</td>\n",
       "      <td>joe</td>\n",
       "      <td>R</td>\n",
       "    </tr>\n",
       "    <tr>\n",
       "      <th>4748</th>\n",
       "      <td>[Drama]</td>\n",
       "      <td>made in dagenham</td>\n",
       "      <td>8000000.0</td>\n",
       "      <td>15644196.0</td>\n",
       "      <td>96.0</td>\n",
       "      <td>made in dagenham</td>\n",
       "      <td>R</td>\n",
       "    </tr>\n",
       "    <tr>\n",
       "      <th>5752</th>\n",
       "      <td>[Drama,  Sports &amp; Fitness]</td>\n",
       "      <td>rocky</td>\n",
       "      <td>1000000.0</td>\n",
       "      <td>225000000.0</td>\n",
       "      <td>22400.0</td>\n",
       "      <td>rocky</td>\n",
       "      <td>PG</td>\n",
       "    </tr>\n",
       "    <tr>\n",
       "      <th>2439</th>\n",
       "      <td>[Classics,  Drama,  Romance]</td>\n",
       "      <td>reds</td>\n",
       "      <td>33500000.0</td>\n",
       "      <td>50000000.0</td>\n",
       "      <td>49.0</td>\n",
       "      <td>reds</td>\n",
       "      <td>PG</td>\n",
       "    </tr>\n",
       "    <tr>\n",
       "      <th>4573</th>\n",
       "      <td>[Comedy]</td>\n",
       "      <td>motherhood</td>\n",
       "      <td>10000000.0</td>\n",
       "      <td>723388.0</td>\n",
       "      <td>-93.0</td>\n",
       "      <td>motherhood</td>\n",
       "      <td>PG-13</td>\n",
       "    </tr>\n",
       "    <tr>\n",
       "      <th>4324</th>\n",
       "      <td>[Drama]</td>\n",
       "      <td>if i stay</td>\n",
       "      <td>11000000.0</td>\n",
       "      <td>78356170.0</td>\n",
       "      <td>612.0</td>\n",
       "      <td>if i stay</td>\n",
       "      <td>PG-13</td>\n",
       "    </tr>\n",
       "    <tr>\n",
       "      <th>2888</th>\n",
       "      <td>[Drama]</td>\n",
       "      <td>hidden figures</td>\n",
       "      <td>25000000.0</td>\n",
       "      <td>231771716.0</td>\n",
       "      <td>827.0</td>\n",
       "      <td>hidden figures</td>\n",
       "      <td>PG</td>\n",
       "    </tr>\n",
       "    <tr>\n",
       "      <th>3978</th>\n",
       "      <td>[Drama,  Musical &amp; Performing Arts]</td>\n",
       "      <td>idlewild</td>\n",
       "      <td>15000000.0</td>\n",
       "      <td>12669914.0</td>\n",
       "      <td>-16.0</td>\n",
       "      <td>idlewild</td>\n",
       "      <td>R</td>\n",
       "    </tr>\n",
       "  </tbody>\n",
       "</table>\n",
       "</div>"
      ],
      "text/plain": [
       "                                       genres             movie  \\\n",
       "3795                         [Comedy,  Drama]    people like us   \n",
       "547                      [Action & Adventure]    fantastic four   \n",
       "5273  [Classics,  Drama,  Mystery & Suspense]               joe   \n",
       "4748                                  [Drama]  made in dagenham   \n",
       "5752               [Drama,  Sports & Fitness]             rocky   \n",
       "2439             [Classics,  Drama,  Romance]              reds   \n",
       "4573                                 [Comedy]        motherhood   \n",
       "4324                                  [Drama]         if i stay   \n",
       "2888                                  [Drama]    hidden figures   \n",
       "3978      [Drama,  Musical & Performing Arts]          idlewild   \n",
       "\n",
       "      production_budget  worldwide_gross  ROI (%)       movie_title  \\\n",
       "3795         16000000.0       12617472.0    -21.0    people like us   \n",
       "547         120000000.0      167849187.0    160.5    fantastic four   \n",
       "5273          4000000.0         373375.0    -91.0               joe   \n",
       "4748          8000000.0       15644196.0     96.0  made in dagenham   \n",
       "5752          1000000.0      225000000.0  22400.0             rocky   \n",
       "2439         33500000.0       50000000.0     49.0              reds   \n",
       "4573         10000000.0         723388.0    -93.0        motherhood   \n",
       "4324         11000000.0       78356170.0    612.0         if i stay   \n",
       "2888         25000000.0      231771716.0    827.0    hidden figures   \n",
       "3978         15000000.0       12669914.0    -16.0          idlewild   \n",
       "\n",
       "     content_rating  \n",
       "3795          PG-13  \n",
       "547           PG-13  \n",
       "5273              R  \n",
       "4748              R  \n",
       "5752             PG  \n",
       "2439             PG  \n",
       "4573          PG-13  \n",
       "4324          PG-13  \n",
       "2888             PG  \n",
       "3978              R  "
      ]
     },
     "execution_count": 612,
     "metadata": {},
     "output_type": "execute_result"
    }
   ],
   "source": [
    "# computing the joined df\n",
    "merged_df = final_table.merge(rt_df[['movie_title', 'content_rating']], left_on='movie', right_on='movie_title', how='left')\n",
    "merged_df.sample(10)"
   ]
  },
  {
   "cell_type": "markdown",
   "id": "001c8c00",
   "metadata": {},
   "source": [
    "Extracting Relevant Columns\n",
    "We will extract only two columns: content_rating and ROI (%). These columns will allow us to analyze average returns across different rating categories."
   ]
  },
  {
   "cell_type": "code",
   "execution_count": 613,
   "id": "48b08c7c",
   "metadata": {},
   "outputs": [
    {
     "data": {
      "application/vnd.microsoft.datawrangler.viewer.v0+json": {
       "columns": [
        {
         "name": "index",
         "rawType": "int64",
         "type": "integer"
        },
        {
         "name": "ROI (%)",
         "rawType": "float64",
         "type": "float"
        },
        {
         "name": "content_rating",
         "rawType": "object",
         "type": "string"
        }
       ],
       "ref": "6d09d8e3-d867-4bae-805b-8c72421ec5d5",
       "rows": [
        [
         "0",
         "553.0",
         "PG-13"
        ],
        [
         "1",
         "155.0",
         "PG-13"
        ],
        [
         "2",
         "-57.0",
         "PG-13"
        ],
        [
         "3",
         "324.0",
         "PG-13"
        ],
        [
         "4",
         "583.0",
         "PG-13"
        ]
       ],
       "shape": {
        "columns": 2,
        "rows": 5
       }
      },
      "text/html": [
       "<div>\n",
       "<style scoped>\n",
       "    .dataframe tbody tr th:only-of-type {\n",
       "        vertical-align: middle;\n",
       "    }\n",
       "\n",
       "    .dataframe tbody tr th {\n",
       "        vertical-align: top;\n",
       "    }\n",
       "\n",
       "    .dataframe thead th {\n",
       "        text-align: right;\n",
       "    }\n",
       "</style>\n",
       "<table border=\"1\" class=\"dataframe\">\n",
       "  <thead>\n",
       "    <tr style=\"text-align: right;\">\n",
       "      <th></th>\n",
       "      <th>ROI (%)</th>\n",
       "      <th>content_rating</th>\n",
       "    </tr>\n",
       "  </thead>\n",
       "  <tbody>\n",
       "    <tr>\n",
       "      <th>0</th>\n",
       "      <td>553.0</td>\n",
       "      <td>PG-13</td>\n",
       "    </tr>\n",
       "    <tr>\n",
       "      <th>1</th>\n",
       "      <td>155.0</td>\n",
       "      <td>PG-13</td>\n",
       "    </tr>\n",
       "    <tr>\n",
       "      <th>2</th>\n",
       "      <td>-57.0</td>\n",
       "      <td>PG-13</td>\n",
       "    </tr>\n",
       "    <tr>\n",
       "      <th>3</th>\n",
       "      <td>324.0</td>\n",
       "      <td>PG-13</td>\n",
       "    </tr>\n",
       "    <tr>\n",
       "      <th>4</th>\n",
       "      <td>583.0</td>\n",
       "      <td>PG-13</td>\n",
       "    </tr>\n",
       "  </tbody>\n",
       "</table>\n",
       "</div>"
      ],
      "text/plain": [
       "   ROI (%) content_rating\n",
       "0    553.0          PG-13\n",
       "1    155.0          PG-13\n",
       "2    -57.0          PG-13\n",
       "3    324.0          PG-13\n",
       "4    583.0          PG-13"
      ]
     },
     "execution_count": 613,
     "metadata": {},
     "output_type": "execute_result"
    }
   ],
   "source": [
    "# extracting the relevant columns\n",
    "relevant_columns=[\"ROI (%)\",\"content_rating\"]\n",
    "rel_joined_df = merged_df[relevant_columns].copy()\n",
    "rel_joined_df.head(5)"
   ]
  },
  {
   "cell_type": "markdown",
   "id": "b316c872",
   "metadata": {},
   "source": [
    "Handling Missing Values\n",
    "We check for and drop rows with missing values in content_rating to ensure the dataset remains clean and usable."
   ]
  },
  {
   "cell_type": "code",
   "execution_count": 614,
   "id": "c62c548c",
   "metadata": {},
   "outputs": [
    {
     "data": {
      "application/vnd.microsoft.datawrangler.viewer.v0+json": {
       "columns": [
        {
         "name": "index",
         "rawType": "object",
         "type": "string"
        },
        {
         "name": "0",
         "rawType": "float64",
         "type": "float"
        }
       ],
       "ref": "38268f74-123c-403a-9d23-cbd15b523fff",
       "rows": [
        [
         "ROI (%)",
         "0.0"
        ],
        [
         "content_rating",
         "0.0"
        ]
       ],
       "shape": {
        "columns": 1,
        "rows": 2
       }
      },
      "text/plain": [
       "ROI (%)           0.0\n",
       "content_rating    0.0\n",
       "dtype: float64"
      ]
     },
     "execution_count": 614,
     "metadata": {},
     "output_type": "execute_result"
    }
   ],
   "source": [
    "# checking for missing_values\n",
    "missing = rel_joined_df.isna().sum()\n",
    "percent_missing = (missing / len(rel_joined_df))*100\n",
    "percent_missing"
   ]
  },
  {
   "cell_type": "code",
   "execution_count": 615,
   "id": "b155e04c",
   "metadata": {},
   "outputs": [
    {
     "data": {
      "application/vnd.microsoft.datawrangler.viewer.v0+json": {
       "columns": [
        {
         "name": "index",
         "rawType": "object",
         "type": "string"
        },
        {
         "name": "0",
         "rawType": "int64",
         "type": "integer"
        }
       ],
       "ref": "b11df284-f6f2-4c12-a46b-4ff7eb81a39b",
       "rows": [
        [
         "ROI (%)",
         "0"
        ],
        [
         "content_rating",
         "0"
        ]
       ],
       "shape": {
        "columns": 1,
        "rows": 2
       }
      },
      "text/plain": [
       "ROI (%)           0\n",
       "content_rating    0\n",
       "dtype: int64"
      ]
     },
     "execution_count": 615,
     "metadata": {},
     "output_type": "execute_result"
    }
   ],
   "source": [
    "# dropping the rows with missing values\n",
    "rel_joined_df.dropna(axis=0,subset=\"content_rating\",inplace=True)\n",
    "rel_joined_df.isna().sum()"
   ]
  },
  {
   "cell_type": "markdown",
   "id": "ad536ccc",
   "metadata": {},
   "source": [
    "Aggregating ROI by Content Rating\n",
    "Grouping the data by content_rating and computing the average ROI for each category. This will help reveal which content ratings are associated with higher financial returns."
   ]
  },
  {
   "cell_type": "code",
   "execution_count": 616,
   "id": "6fb9b3a5",
   "metadata": {},
   "outputs": [
    {
     "data": {
      "application/vnd.microsoft.datawrangler.viewer.v0+json": {
       "columns": [
        {
         "name": "index",
         "rawType": "int64",
         "type": "integer"
        },
        {
         "name": "content_rating",
         "rawType": "object",
         "type": "string"
        },
        {
         "name": "ROI (%)",
         "rawType": "float64",
         "type": "float"
        }
       ],
       "ref": "19d2cebe-4e04-40b9-9654-b93856576359",
       "rows": [
        [
         "0",
         "G",
         "751.9446494464945"
        ],
        [
         "2",
         "NR",
         "572.694214876033"
        ],
        [
         "5",
         "R",
         "513.0672525792893"
        ],
        [
         "3",
         "PG",
         "486.62232243517474"
        ],
        [
         "4",
         "PG-13",
         "257.87465181058496"
        ],
        [
         "1",
         "NC17",
         "125.0"
        ]
       ],
       "shape": {
        "columns": 2,
        "rows": 6
       }
      },
      "text/html": [
       "<div>\n",
       "<style scoped>\n",
       "    .dataframe tbody tr th:only-of-type {\n",
       "        vertical-align: middle;\n",
       "    }\n",
       "\n",
       "    .dataframe tbody tr th {\n",
       "        vertical-align: top;\n",
       "    }\n",
       "\n",
       "    .dataframe thead th {\n",
       "        text-align: right;\n",
       "    }\n",
       "</style>\n",
       "<table border=\"1\" class=\"dataframe\">\n",
       "  <thead>\n",
       "    <tr style=\"text-align: right;\">\n",
       "      <th></th>\n",
       "      <th>content_rating</th>\n",
       "      <th>ROI (%)</th>\n",
       "    </tr>\n",
       "  </thead>\n",
       "  <tbody>\n",
       "    <tr>\n",
       "      <th>0</th>\n",
       "      <td>G</td>\n",
       "      <td>751.944649</td>\n",
       "    </tr>\n",
       "    <tr>\n",
       "      <th>2</th>\n",
       "      <td>NR</td>\n",
       "      <td>572.694215</td>\n",
       "    </tr>\n",
       "    <tr>\n",
       "      <th>5</th>\n",
       "      <td>R</td>\n",
       "      <td>513.067253</td>\n",
       "    </tr>\n",
       "    <tr>\n",
       "      <th>3</th>\n",
       "      <td>PG</td>\n",
       "      <td>486.622322</td>\n",
       "    </tr>\n",
       "    <tr>\n",
       "      <th>4</th>\n",
       "      <td>PG-13</td>\n",
       "      <td>257.874652</td>\n",
       "    </tr>\n",
       "    <tr>\n",
       "      <th>1</th>\n",
       "      <td>NC17</td>\n",
       "      <td>125.000000</td>\n",
       "    </tr>\n",
       "  </tbody>\n",
       "</table>\n",
       "</div>"
      ],
      "text/plain": [
       "  content_rating     ROI (%)\n",
       "0              G  751.944649\n",
       "2             NR  572.694215\n",
       "5              R  513.067253\n",
       "3             PG  486.622322\n",
       "4          PG-13  257.874652\n",
       "1           NC17  125.000000"
      ]
     },
     "execution_count": 616,
     "metadata": {},
     "output_type": "execute_result"
    }
   ],
   "source": [
    "# grouping the df\n",
    "grouped_df = rel_joined_df.groupby(\"content_rating\")[\"ROI (%)\"].mean().reset_index().sort_values(by=\"ROI (%)\",ascending=False)\n",
    "grouped_df"
   ]
  },
  {
   "cell_type": "markdown",
   "id": "490ae6c6",
   "metadata": {},
   "source": [
    "Further Exploratory Data Analysis\n",
    "To ensure the data is as accurate and clean as possible we use further EDA to help us identify inconsistencies, outliers, and patterns that could distort results. Making the necessary adjustments at this stage improves the reliability of any statistical tests that follow."
   ]
  },
  {
   "cell_type": "markdown",
   "id": "675bb566",
   "metadata": {},
   "source": [
    "Summarizing Dataframe\n",
    "This initial step is important for understanding the completeness and quality of the data, identifying what types of analysis are appropriate, and planning any necessary cleaning or preprocessing before deeper exploration. In this section we will be summarizing the merged dataframe containing relevant columns."
   ]
  },
  {
   "cell_type": "code",
   "execution_count": 617,
   "id": "f6e7b65d",
   "metadata": {},
   "outputs": [
    {
     "name": "stdout",
     "output_type": "stream",
     "text": [
      "<class 'pandas.core.frame.DataFrame'>\n",
      "RangeIndex: 6061 entries, 0 to 6060\n",
      "Data columns (total 2 columns):\n",
      " #   Column          Non-Null Count  Dtype  \n",
      "---  ------          --------------  -----  \n",
      " 0   ROI (%)         6061 non-null   float64\n",
      " 1   content_rating  6061 non-null   object \n",
      "dtypes: float64(1), object(1)\n",
      "memory usage: 94.8+ KB\n"
     ]
    }
   ],
   "source": [
    "# summary statistics of the cleaned dataframe\n",
    "rel_joined_df.info()"
   ]
  },
  {
   "cell_type": "markdown",
   "id": "addbf7f9",
   "metadata": {},
   "source": [
    "The dataset has 6,061 rows and 2 columns, with no missing values. It contains both categorical and numerical columns, which determines the methods used for analysis"
   ]
  },
  {
   "cell_type": "markdown",
   "id": "5cafe36d",
   "metadata": {},
   "source": [
    "Describing Numerical Columns\n",
    "This helps identify outliers, detect skewness, and understand how these variables compare in scale. It is essential for making informed analysis decisions, guiding further data exploration, and ensuring accurate modeling."
   ]
  },
  {
   "cell_type": "code",
   "execution_count": 618,
   "id": "8dc53b9d",
   "metadata": {},
   "outputs": [
    {
     "data": {
      "application/vnd.microsoft.datawrangler.viewer.v0+json": {
       "columns": [
        {
         "name": "index",
         "rawType": "object",
         "type": "string"
        },
        {
         "name": "ROI (%)",
         "rawType": "float64",
         "type": "float"
        }
       ],
       "ref": "5063e768-d09e-4da4-be32-13adf5a7b22a",
       "rows": [
        [
         "count",
         "6061.0"
        ],
        [
         "mean",
         "448.6144200626959"
        ],
        [
         "std",
         "1817.5582074124013"
        ],
        [
         "min",
         "-100.0"
        ],
        [
         "25%",
         "-19.5"
        ],
        [
         "50%",
         "103.0"
        ],
        [
         "75%",
         "312.0"
        ],
        [
         "max",
         "49775.0"
        ]
       ],
       "shape": {
        "columns": 1,
        "rows": 8
       }
      },
      "text/html": [
       "<div>\n",
       "<style scoped>\n",
       "    .dataframe tbody tr th:only-of-type {\n",
       "        vertical-align: middle;\n",
       "    }\n",
       "\n",
       "    .dataframe tbody tr th {\n",
       "        vertical-align: top;\n",
       "    }\n",
       "\n",
       "    .dataframe thead th {\n",
       "        text-align: right;\n",
       "    }\n",
       "</style>\n",
       "<table border=\"1\" class=\"dataframe\">\n",
       "  <thead>\n",
       "    <tr style=\"text-align: right;\">\n",
       "      <th></th>\n",
       "      <th>ROI (%)</th>\n",
       "    </tr>\n",
       "  </thead>\n",
       "  <tbody>\n",
       "    <tr>\n",
       "      <th>count</th>\n",
       "      <td>6061.000000</td>\n",
       "    </tr>\n",
       "    <tr>\n",
       "      <th>mean</th>\n",
       "      <td>448.614420</td>\n",
       "    </tr>\n",
       "    <tr>\n",
       "      <th>std</th>\n",
       "      <td>1817.558207</td>\n",
       "    </tr>\n",
       "    <tr>\n",
       "      <th>min</th>\n",
       "      <td>-100.000000</td>\n",
       "    </tr>\n",
       "    <tr>\n",
       "      <th>25%</th>\n",
       "      <td>-19.500000</td>\n",
       "    </tr>\n",
       "    <tr>\n",
       "      <th>50%</th>\n",
       "      <td>103.000000</td>\n",
       "    </tr>\n",
       "    <tr>\n",
       "      <th>75%</th>\n",
       "      <td>312.000000</td>\n",
       "    </tr>\n",
       "    <tr>\n",
       "      <th>max</th>\n",
       "      <td>49775.000000</td>\n",
       "    </tr>\n",
       "  </tbody>\n",
       "</table>\n",
       "</div>"
      ],
      "text/plain": [
       "            ROI (%)\n",
       "count   6061.000000\n",
       "mean     448.614420\n",
       "std     1817.558207\n",
       "min     -100.000000\n",
       "25%      -19.500000\n",
       "50%      103.000000\n",
       "75%      312.000000\n",
       "max    49775.000000"
      ]
     },
     "execution_count": 618,
     "metadata": {},
     "output_type": "execute_result"
    }
   ],
   "source": [
    "# describing the cleaned dataframe\n",
    "rel_joined_df.describe()"
   ]
  },
  {
   "cell_type": "markdown",
   "id": "25f45dd4",
   "metadata": {},
   "source": [
    "Outliers Handling\n",
    "Outliers often represent genuine blockbusters or flops that are essential to understanding the broader ROI trends across different content ratings. Removing these data points would have risked losing valuable insights. Additionally, keeping the outliers preserved the integrity of the original variable relationships. The code cell below was the simplest and most efficient way to handle the variables we had created, which are referenced in later analyses."
   ]
  },
  {
   "cell_type": "code",
   "execution_count": 619,
   "id": "49d613ab",
   "metadata": {},
   "outputs": [
    {
     "data": {
      "application/vnd.microsoft.datawrangler.viewer.v0+json": {
       "columns": [
        {
         "name": "index",
         "rawType": "int64",
         "type": "integer"
        },
        {
         "name": "ROI (%)",
         "rawType": "float64",
         "type": "float"
        },
        {
         "name": "content_rating",
         "rawType": "object",
         "type": "string"
        }
       ],
       "ref": "8854fda4-ba4e-474e-80cc-4bdac25507a1",
       "rows": [
        [
         "5993",
         "49775.0",
         "R"
        ],
        [
         "5930",
         "43052.0",
         "R"
        ],
        [
         "6020",
         "41556.0",
         "R"
        ],
        [
         "5883",
         "41283.0",
         "R"
        ],
        [
         "6035",
         "34106.0",
         "PG-13"
        ],
        [
         "5848",
         "31135.0",
         "G"
        ],
        [
         "6056",
         "29070.0",
         "R"
        ],
        [
         "5752",
         "22400.0",
         "PG"
        ],
        [
         "6038",
         "20753.0",
         "R"
        ],
        [
         "5860",
         "17918.0",
         "PG"
        ],
        [
         "6060",
         "16358.0",
         "PG"
        ],
        [
         "6013",
         "15449.0",
         "R"
        ],
        [
         "6048",
         "14323.0",
         "R"
        ],
        [
         "5208",
         "13165.5",
         "R"
        ],
        [
         "5203",
         "13165.5",
         "NR"
        ],
        [
         "5202",
         "13165.5",
         "R"
        ],
        [
         "5201",
         "13165.5",
         "NR"
        ],
        [
         "5204",
         "13165.5",
         "R"
        ],
        [
         "5205",
         "13165.5",
         "NR"
        ],
        [
         "5207",
         "13165.5",
         "NR"
        ],
        [
         "5206",
         "13165.5",
         "R"
        ],
        [
         "5709",
         "12328.0",
         "G"
        ],
        [
         "5853",
         "12150.0",
         "PG"
        ],
        [
         "6057",
         "11928.0",
         "PG-13"
        ],
        [
         "6049",
         "11435.0",
         "R"
        ],
        [
         "5936",
         "11431.0",
         "PG"
        ],
        [
         "5895",
         "11004.0",
         "R"
        ],
        [
         "6021",
         "10143.0",
         "PG"
        ],
        [
         "5753",
         "10076.0",
         "R"
        ],
        [
         "4608",
         "9990.0",
         "R"
        ],
        [
         "4609",
         "9990.0",
         "R"
        ],
        [
         "5292",
         "9913.0",
         "G"
        ],
        [
         "5986",
         "8880.0",
         "NR"
        ],
        [
         "5727",
         "8557.0",
         "R"
        ],
        [
         "3870",
         "8101.333333333333",
         "R"
        ],
        [
         "3857",
         "8101.333333333333",
         "R"
        ],
        [
         "3858",
         "8101.333333333333",
         "R"
        ],
        [
         "3859",
         "8101.333333333333",
         "R"
        ],
        [
         "3860",
         "8101.333333333333",
         "R"
        ],
        [
         "3861",
         "8101.333333333333",
         "R"
        ],
        [
         "3862",
         "8101.333333333333",
         "R"
        ],
        [
         "3871",
         "8101.333333333333",
         "R"
        ],
        [
         "3864",
         "8101.333333333333",
         "R"
        ],
        [
         "3863",
         "8101.333333333333",
         "R"
        ],
        [
         "3867",
         "8101.333333333333",
         "R"
        ],
        [
         "3865",
         "8101.333333333333",
         "R"
        ],
        [
         "3869",
         "8101.333333333333",
         "R"
        ],
        [
         "3868",
         "8101.333333333333",
         "R"
        ],
        [
         "3866",
         "8101.333333333333",
         "R"
        ],
        [
         "3855",
         "8101.333333333333",
         "R"
        ]
       ],
       "shape": {
        "columns": 2,
        "rows": 6061
       }
      },
      "text/html": [
       "<div>\n",
       "<style scoped>\n",
       "    .dataframe tbody tr th:only-of-type {\n",
       "        vertical-align: middle;\n",
       "    }\n",
       "\n",
       "    .dataframe tbody tr th {\n",
       "        vertical-align: top;\n",
       "    }\n",
       "\n",
       "    .dataframe thead th {\n",
       "        text-align: right;\n",
       "    }\n",
       "</style>\n",
       "<table border=\"1\" class=\"dataframe\">\n",
       "  <thead>\n",
       "    <tr style=\"text-align: right;\">\n",
       "      <th></th>\n",
       "      <th>ROI (%)</th>\n",
       "      <th>content_rating</th>\n",
       "    </tr>\n",
       "  </thead>\n",
       "  <tbody>\n",
       "    <tr>\n",
       "      <th>5993</th>\n",
       "      <td>49775.0</td>\n",
       "      <td>R</td>\n",
       "    </tr>\n",
       "    <tr>\n",
       "      <th>5930</th>\n",
       "      <td>43052.0</td>\n",
       "      <td>R</td>\n",
       "    </tr>\n",
       "    <tr>\n",
       "      <th>6020</th>\n",
       "      <td>41556.0</td>\n",
       "      <td>R</td>\n",
       "    </tr>\n",
       "    <tr>\n",
       "      <th>5883</th>\n",
       "      <td>41283.0</td>\n",
       "      <td>R</td>\n",
       "    </tr>\n",
       "    <tr>\n",
       "      <th>6035</th>\n",
       "      <td>34106.0</td>\n",
       "      <td>PG-13</td>\n",
       "    </tr>\n",
       "    <tr>\n",
       "      <th>...</th>\n",
       "      <td>...</td>\n",
       "      <td>...</td>\n",
       "    </tr>\n",
       "    <tr>\n",
       "      <th>4978</th>\n",
       "      <td>-100.0</td>\n",
       "      <td>R</td>\n",
       "    </tr>\n",
       "    <tr>\n",
       "      <th>5924</th>\n",
       "      <td>-100.0</td>\n",
       "      <td>NR</td>\n",
       "    </tr>\n",
       "    <tr>\n",
       "      <th>5926</th>\n",
       "      <td>-100.0</td>\n",
       "      <td>R</td>\n",
       "    </tr>\n",
       "    <tr>\n",
       "      <th>5927</th>\n",
       "      <td>-100.0</td>\n",
       "      <td>NR</td>\n",
       "    </tr>\n",
       "    <tr>\n",
       "      <th>5476</th>\n",
       "      <td>-100.0</td>\n",
       "      <td>NR</td>\n",
       "    </tr>\n",
       "  </tbody>\n",
       "</table>\n",
       "<p>6061 rows × 2 columns</p>\n",
       "</div>"
      ],
      "text/plain": [
       "      ROI (%) content_rating\n",
       "5993  49775.0              R\n",
       "5930  43052.0              R\n",
       "6020  41556.0              R\n",
       "5883  41283.0              R\n",
       "6035  34106.0          PG-13\n",
       "...       ...            ...\n",
       "4978   -100.0              R\n",
       "5924   -100.0             NR\n",
       "5926   -100.0              R\n",
       "5927   -100.0             NR\n",
       "5476   -100.0             NR\n",
       "\n",
       "[6061 rows x 2 columns]"
      ]
     },
     "execution_count": 619,
     "metadata": {},
     "output_type": "execute_result"
    }
   ],
   "source": [
    "# grouping the df\n",
    "cleaned_df2 = rel_joined_df.sort_values(by=\"ROI (%)\",ascending=False)\n",
    "cleaned_df2"
   ]
  }
 ],
 "metadata": {
  "kernelspec": {
   "display_name": "learn-env",
   "language": "python",
   "name": "python3"
  },
  "language_info": {
   "codemirror_mode": {
    "name": "ipython",
    "version": 3
   },
   "file_extension": ".py",
   "mimetype": "text/x-python",
   "name": "python",
   "nbconvert_exporter": "python",
   "pygments_lexer": "ipython3",
   "version": "3.8.5"
  }
 },
 "nbformat": 4,
 "nbformat_minor": 5
}
